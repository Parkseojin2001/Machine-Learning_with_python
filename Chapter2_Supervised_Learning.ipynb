{
  "nbformat": 4,
  "nbformat_minor": 0,
  "metadata": {
    "colab": {
      "provenance": [],
      "collapsed_sections": [],
      "authorship_tag": "ABX9TyMEXyEIlqPdrUMuh8P/O7qt",
      "include_colab_link": true
    },
    "kernelspec": {
      "name": "python3",
      "display_name": "Python 3"
    },
    "language_info": {
      "name": "python"
    }
  },
  "cells": [
    {
      "cell_type": "markdown",
      "metadata": {
        "id": "view-in-github",
        "colab_type": "text"
      },
      "source": [
        "<a href=\"https://colab.research.google.com/github/Parkseojin2001/Machine-Learning_with_python/blob/main/Chapter2_Supervised_Learning.ipynb\" target=\"_parent\"><img src=\"https://colab.research.google.com/assets/colab-badge.svg\" alt=\"Open In Colab\"/></a>"
      ]
    },
    {
      "cell_type": "markdown",
      "source": [
        "# Chapter 2\n",
        "## ***지도 학습(Supervised Learning)*** 이란?\n",
        "#### 입력과 출력 샘플 데이터가 있고, 주어진 입력으로부터 출력을 예측하고자 할 때 사용하는 머신러닝 방법<br>\n",
        "#### 입력/출력 샘플 데이터, 즉 훈련 세트로부터 머신러닝 모델을 만듦.\n",
        "***Goal***<br>\n",
        "이전에 본 적 없는 새로운 데이터에 대해 정확한 출력을 예측\n",
        "## 2.1 분류와 회귀\n",
        "#### 지도 학습 종류 : 분류, 회귀\n",
        "**분류(classification)** : 미리 정의된, 가능성 있는 여러 클래스 레이블(class label) 중 하나를 예측하는 것<br>\n",
        "\n",
        "|분류 종류|설명|예시|\n",
        "|------|---|---|\n",
        "|이진 분류(binary classification)|질문의 답이 예/아니오만 나오는 경우|이메일에서 스팸을 분류하는 것|\n",
        "|다중 분류(multiclass classification)|질문의 답이 3개 이상이 나오는 경우|붓꽃의 품종 분류|\n",
        "\n",
        "**NOTE_이진 분류**\n",
        "* 양성(positive) 클래스 : 학습하고자 하는 대상<br>\n",
        "* 음성(nagative) 클래스 <-> 양성 클래스<br>\n",
        "\n",
        "ex) 스팸 메일 분류<br>\n",
        "* 스팸 메일 : 양성 클래스<br>\n",
        "* 스팸이 아닌 메일 : 음성 클래스<br>\n",
        "\n",
        "**회귀(regression)** : 부동소수점수(실수)를 예측하는 것<br>\n",
        "\n",
        "ex) \n",
        "* 어떤 사람의 교육 수준, 나이 주거지를 통해 연간 소득을 예측하는 경우 \n",
        "* 옥수수 농장에서 전년도 수확량과 날씨, 고용 인원수 등을 통한 올해 수확량을 예측하는 경우<br>\n",
        "\n",
        "\n",
        "#### **회귀와 분류 문제를 구분하는 방법 : 출력 값의 연속성의 유무를 통해 구분**"
      ],
      "metadata": {
        "id": "2F_Qeo4PQagw"
      }
    },
    {
      "cell_type": "markdown",
      "source": [
        "## 2.2 일반화, 과대적합, 과소적합\n",
        "**일반화** : 모델이 처음 보는 데이터에 대해 정확하게 예측할 수 있는 경우<br>\n",
        "**&rarr;** 훈련 세트에서 테스트 세트로 일반화되었다라고 말함<br>\n",
        "\n",
        "**과대적합(overfitting)** : 가진 정보를 모두 사용해서 너무 복잡한 모델을 만드는 것<br>\n",
        "**&rarr;** 모델이 훈련 세트의 각 샘플에 너무 가깝게 맞춰져서 새로운 데이터에 일반화되기 어려울 때 일어남.<br>\n",
        "\n",
        "**과소적합(underfitting)** : 너무 간단한 모델이 선택되는 것<br>\n",
        "**&rarr;** 데이터의 면면과 다양성을 잡아내지 못하며 훈련 세트, 테스트 세트에 잘맞지 않음<br>\n",
        "\n",
        "### ***Goal***\n",
        "일반화 성능이 최대가 되는 최적점에 있는 모델<br>\n",
        "\n",
        "<img src=\"https://tensorflowkorea.files.wordpress.com/2017/06/fig2-01.png?w=640\">\n"
      ],
      "metadata": {
        "id": "7IbDlTO1QZ0F"
      }
    },
    {
      "cell_type": "markdown",
      "source": [
        "### 2.2.1 모델 복잡도와 데이터셋 크기의 관계\n",
        "#### 모델 복잡도 : 훈련 데이터셋에 담긴 입력 데이터의 다양성과 관련이 깊음\n",
        "데이터셋에 데이터 포인트가 많음 &rarr; 다양성&uarr;<br>\n",
        "\n",
        "***But,*** 비슷한 데이터를 모으는 것은 도움X\n",
        "\n",
        "**다양한 데이터 포인트&uarr; &rarr; 과대적합 없이 더 복잡한 모델을 만듦**<br>"
      ],
      "metadata": {
        "id": "WnltsXWwl2Ld"
      }
    },
    {
      "cell_type": "markdown",
      "source": [
        "## 2.3 지도 학습 알고리즘\n",
        "\n",
        "*   데이터를 이용한 학습 & 예측\n",
        "*   모델의 복잡도의 역할 & 알고리즘을 통한 모델 생성\n",
        "* 모델들의 장단점 평가\n",
        "* 매개변수와 옵션의 의미 설명\n"
      ],
      "metadata": {
        "id": "zPV08WsooVyd"
      }
    },
    {
      "cell_type": "code",
      "source": [
        "!pip install mglearn"
      ],
      "metadata": {
        "id": "lkiliXZLu06G"
      },
      "execution_count": null,
      "outputs": []
    },
    {
      "cell_type": "code",
      "source": [
        "import numpy as np\n",
        "import matplotlib.pyplot as plt\n",
        "import pandas as pd\n",
        "import mglearn"
      ],
      "metadata": {
        "id": "lOQ04rUyutAM"
      },
      "execution_count": null,
      "outputs": []
    },
    {
      "cell_type": "markdown",
      "source": [
        "### 2.3.1 예제에 사용할 데이터셋\n",
        "forge 데이터셋 : 두 개의 특성을 가진 데이터셋(이진 분류 데이터셋)<br>"
      ],
      "metadata": {
        "id": "DNBKvHsKolwB"
      }
    },
    {
      "cell_type": "code",
      "source": [
        "# 데이터셋을 만듭니다\n",
        "X, y = mglearn.datasets.make_forge()\n",
        "# 산점도를 그립니다\n",
        "mglearn.discrete_scatter(X[:, 1], X[:, 0], y)\n",
        "plt.legend([\"class 0\", \"class 1\"], loc = 4)\n",
        "plt.xlabel(\"First feature\")\n",
        "plt.ylabel(\"Second feature\")\n",
        "print(\"X.shape:\", X.shape)"
      ],
      "metadata": {
        "colab": {
          "base_uri": "https://localhost:8080/",
          "height": 335
        },
        "id": "UwbsV8DAie80",
        "outputId": "d23845aa-c599-4617-b0d1-9da59efcceb5"
      },
      "execution_count": null,
      "outputs": [
        {
          "output_type": "stream",
          "name": "stderr",
          "text": [
            "/usr/local/lib/python3.7/dist-packages/sklearn/utils/deprecation.py:87: FutureWarning: Function make_blobs is deprecated; Please import make_blobs directly from scikit-learn\n",
            "  warnings.warn(msg, category=FutureWarning)\n"
          ]
        },
        {
          "output_type": "stream",
          "name": "stdout",
          "text": [
            "X.shape: (26, 2)\n"
          ]
        },
        {
          "output_type": "display_data",
          "data": {
            "text/plain": [
              "<Figure size 432x288 with 1 Axes>"
            ],
            "image/png": "[encoded data removed]"
          },
          "metadata": {
            "needs_background": "light"
          }
        }
      ]
    },
    {
      "cell_type": "code",
      "source": [
        "X, y = mglearn.datasets.make_wave(n_samples = 40)\n",
        "plt.plot(X, y, 'o')\n",
        "plt.ylim(-3, 3)\n",
        "plt.xlabel(\"Feature\")\n",
        "plt.ylabel(\"Target\")"
      ],
      "metadata": {
        "colab": {
          "base_uri": "https://localhost:8080/",
          "height": 302
        },
        "id": "Z5n-iBc6vZ8e",
        "outputId": "42983dd6-1d46-41ab-b9cd-06f1c1f290b8"
      },
      "execution_count": null,
      "outputs": [
        {
          "output_type": "execute_result",
          "data": {
            "text/plain": [
              "Text(0, 0.5, 'Target')"
            ]
          },
          "metadata": {},
          "execution_count": 41
        },
        {
          "output_type": "display_data",
          "data": {
            "text/plain": [
              "<Figure size 432x288 with 1 Axes>"
            ],
            "image/png": "[encoded data removed]"
          },
          "metadata": {
            "needs_background": "light"
          }
        }
      ]
    },
    {
      "cell_type": "markdown",
      "source": [
        "**저차원 데이터셋** : 특성이 적은 데이터셋<br>\n",
        "**고차원 데이터셋** : 특성이 많은 데이터셋<br>\n",
        "\n",
        "저차원 데이터셋 &rarr; 고차원 데이터셋 : 직관이 유지되지 않을 수 있음.\n",
        "\n",
        "#### ***저차원 데이터셋을 사용하는 것이 좋음***\n"
      ],
      "metadata": {
        "id": "jpD6CeTyx-ML"
      }
    },
    {
      "cell_type": "code",
      "source": [
        "# 유방암 종양의 임상 데이터 불러오기(classification)\n",
        "from sklearn.datasets import load_breast_cancer\n",
        "cancer = load_breast_cancer()\n",
        "print(\"cancer.keys():\\n\",cancer.keys())"
      ],
      "metadata": {
        "colab": {
          "base_uri": "https://localhost:8080/"
        },
        "id": "YW-CfR6vwZeE",
        "outputId": "a6008852-c623-4215-d9ce-90d09a2c79cb"
      },
      "execution_count": null,
      "outputs": [
        {
          "output_type": "stream",
          "name": "stdout",
          "text": [
            "cancer.keys():\n",
            " dict_keys(['data', 'target', 'frame', 'target_names', 'DESCR', 'feature_names', 'filename', 'data_module'])\n"
          ]
        }
      ]
    },
    {
      "cell_type": "code",
      "source": [
        "# 데이터 포인트:569개 / 특성:30개\n",
        "print(\"Cancer data shape:\",cancer.data.shape)"
      ],
      "metadata": {
        "colab": {
          "base_uri": "https://localhost:8080/"
        },
        "id": "KGIMkr1NzDGQ",
        "outputId": "0112756a-d7b8-4cbe-cfb0-adde60f73ed7"
      },
      "execution_count": null,
      "outputs": [
        {
          "output_type": "stream",
          "name": "stdout",
          "text": [
            "Cancer data shape: (569, 30)\n"
          ]
        }
      ]
    },
    {
      "cell_type": "code",
      "source": [
        "# 악성:212개 / 양성: 357개\n",
        "print(\"Class sample count:\\n\",\n",
        "      {n: v for n, v in zip(cancer.target_names, np.bincount(cancer.target))})"
      ],
      "metadata": {
        "colab": {
          "base_uri": "https://localhost:8080/"
        },
        "id": "PCyeKM_rzNOF",
        "outputId": "38b767e0-53ca-41a5-9774-dad6709b1961"
      },
      "execution_count": null,
      "outputs": [
        {
          "output_type": "stream",
          "name": "stdout",
          "text": [
            "Class sample count:\n",
            " {'malignant': 212, 'benign': 357}\n"
          ]
        }
      ]
    },
    {
      "cell_type": "code",
      "source": [
        "print(\"Feature name:\\n\", cancer.feature_names)"
      ],
      "metadata": {
        "colab": {
          "base_uri": "https://localhost:8080/"
        },
        "id": "OyyXfH66zxD1",
        "outputId": "fd7be0fb-fac9-430c-cc90-85faf43c8397"
      },
      "execution_count": null,
      "outputs": [
        {
          "output_type": "stream",
          "name": "stdout",
          "text": [
            "Feature name:\n",
            " ['mean radius' 'mean texture' 'mean perimeter' 'mean area'\n",
            " 'mean smoothness' 'mean compactness' 'mean concavity'\n",
            " 'mean concave points' 'mean symmetry' 'mean fractal dimension'\n",
            " 'radius error' 'texture error' 'perimeter error' 'area error'\n",
            " 'smoothness error' 'compactness error' 'concavity error'\n",
            " 'concave points error' 'symmetry error' 'fractal dimension error'\n",
            " 'worst radius' 'worst texture' 'worst perimeter' 'worst area'\n",
            " 'worst smoothness' 'worst compactness' 'worst concavity'\n",
            " 'worst concave points' 'worst symmetry' 'worst fractal dimension']\n"
          ]
        }
      ]
    },
    {
      "cell_type": "code",
      "source": [
        "# 보스턴 주택가격 데이터셋(regression)\n",
        "from sklearn.datasets import load_boston\n",
        "boston = load_boston()\n",
        "print(\"Data shape:\", boston.data.shape)"
      ],
      "metadata": {
        "colab": {
          "base_uri": "https://localhost:8080/"
        },
        "id": "SNa5iHMZ02FL",
        "outputId": "1f25977a-f696-4f22-8d42-e2526880f83e"
      },
      "execution_count": null,
      "outputs": [
        {
          "output_type": "stream",
          "name": "stdout",
          "text": [
            "Data shape: (506, 13)\n"
          ]
        },
        {
          "output_type": "stream",
          "name": "stderr",
          "text": [
            "/usr/local/lib/python3.7/dist-packages/sklearn/utils/deprecation.py:87: FutureWarning: Function load_boston is deprecated; `load_boston` is deprecated in 1.0 and will be removed in 1.2.\n",
            "\n",
            "    The Boston housing prices dataset has an ethical problem. You can refer to\n",
            "    the documentation of this function for further details.\n",
            "\n",
            "    The scikit-learn maintainers therefore strongly discourage the use of this\n",
            "    dataset unless the purpose of the code is to study and educate about\n",
            "    ethical issues in data science and machine learning.\n",
            "\n",
            "    In this special case, you can fetch the dataset from the original\n",
            "    source::\n",
            "\n",
            "        import pandas as pd\n",
            "        import numpy as np\n",
            "\n",
            "\n",
            "        data_url = \"http://lib.stat.cmu.edu/datasets/boston\"\n",
            "        raw_df = pd.read_csv(data_url, sep=\"\\s+\", skiprows=22, header=None)\n",
            "        data = np.hstack([raw_df.values[::2, :], raw_df.values[1::2, :2]])\n",
            "        target = raw_df.values[1::2, 2]\n",
            "\n",
            "    Alternative datasets include the California housing dataset (i.e.\n",
            "    :func:`~sklearn.datasets.fetch_california_housing`) and the Ames housing\n",
            "    dataset. You can load the datasets as follows::\n",
            "\n",
            "        from sklearn.datasets import fetch_california_housing\n",
            "        housing = fetch_california_housing()\n",
            "\n",
            "    for the California housing dataset and::\n",
            "\n",
            "        from sklearn.datasets import fetch_openml\n",
            "        housing = fetch_openml(name=\"house_prices\", as_frame=True)\n",
            "\n",
            "    for the Ames housing dataset.\n",
            "    \n",
            "  warnings.warn(msg, category=FutureWarning)\n"
          ]
        }
      ]
    },
    {
      "cell_type": "markdown",
      "source": [
        "***특성 공학(feature engineering)*** 이란?<br>\n",
        "  \n",
        "개별 특성을 곱해 새로운 특성을 만드는 것"
      ],
      "metadata": {
        "id": "5hvLS3t91yv_"
      }
    },
    {
      "cell_type": "code",
      "source": [
        "# 13개 특성 중 2개씩 짝지어 만든 91(=13*12/2)개 특성 + 13개 특성\n",
        "X, y = mglearn.datasets.load_extended_boston()\n",
        "print(\"X.shape:\", X.shape)"
      ],
      "metadata": {
        "colab": {
          "base_uri": "https://localhost:8080/"
        },
        "id": "gr0wv8zD1fsq",
        "outputId": "afcf2668-ccec-4c0d-c67d-8efa4b8db9f3"
      },
      "execution_count": null,
      "outputs": [
        {
          "output_type": "stream",
          "name": "stdout",
          "text": [
            "X.shape: (506, 104)\n"
          ]
        }
      ]
    },
    {
      "cell_type": "markdown",
      "source": [
        "### 2.3.2 k-최근접 이웃"
      ],
      "metadata": {
        "id": "ipytCcud3PAJ"
      }
    },
    {
      "cell_type": "code",
      "source": [],
      "metadata": {
        "id": "ppJSqn4N2mXe"
      },
      "execution_count": null,
      "outputs": []
    }
  ]
}