{
  "nbformat": 4,
  "nbformat_minor": 0,
  "metadata": {
    "colab": {
      "provenance": [],
      "authorship_tag": "ABX9TyNyVkNP8mr3HrBF30AplGHx",
      "include_colab_link": true
    },
    "kernelspec": {
      "name": "python3",
      "display_name": "Python 3"
    },
    "language_info": {
      "name": "python"
    }
  },
  "cells": [
    {
      "cell_type": "markdown",
      "metadata": {
        "id": "view-in-github",
        "colab_type": "text"
      },
      "source": [
        "<a href=\"https://colab.research.google.com/github/Parkseojin2001/Machine-Learning_with_python/blob/main/Chapter5_Model-Evaluation-and-Improvement.ipynb\" target=\"_parent\"><img src=\"https://colab.research.google.com/assets/colab-badge.svg\" alt=\"Open In Colab\"/></a>"
      ]
    },
    {
      "cell_type": "markdown",
      "source": [
        "# Chapter5 모델 평가와 성능 향상"
      ],
      "metadata": {
        "id": "YtsL7qMaXX9w"
      }
    },
    {
      "cell_type": "code",
      "execution_count": 1,
      "metadata": {
        "colab": {
          "base_uri": "https://localhost:8080/"
        },
        "id": "Jyy8Jl3WWck6",
        "outputId": "ca0ef5eb-8625-4232-8f40-20d0bae2a9bf"
      },
      "outputs": [
        {
          "output_type": "stream",
          "name": "stdout",
          "text": [
            "Looking in indexes: https://pypi.org/simple, https://us-python.pkg.dev/colab-wheels/public/simple/\n",
            "Collecting mglearn\n",
            "  Downloading mglearn-0.1.9.tar.gz (540 kB)\n",
            "\u001b[2K     \u001b[90m━━━━━━━━━━━━━━━━━━━━━━━━━━━━━━━━━━━━━━━\u001b[0m \u001b[32m540.1/540.1 KB\u001b[0m \u001b[31m9.4 MB/s\u001b[0m eta \u001b[36m0:00:00\u001b[0m\n",
            "\u001b[?25h  Preparing metadata (setup.py) ... \u001b[?25l\u001b[?25hdone\n",
            "Requirement already satisfied: numpy in /usr/local/lib/python3.8/dist-packages (from mglearn) (1.21.6)\n",
            "Requirement already satisfied: matplotlib in /usr/local/lib/python3.8/dist-packages (from mglearn) (3.2.2)\n",
            "Requirement already satisfied: scikit-learn in /usr/local/lib/python3.8/dist-packages (from mglearn) (1.0.2)\n",
            "Requirement already satisfied: pandas in /usr/local/lib/python3.8/dist-packages (from mglearn) (1.3.5)\n",
            "Requirement already satisfied: pillow in /usr/local/lib/python3.8/dist-packages (from mglearn) (7.1.2)\n",
            "Requirement already satisfied: cycler in /usr/local/lib/python3.8/dist-packages (from mglearn) (0.11.0)\n",
            "Requirement already satisfied: imageio in /usr/local/lib/python3.8/dist-packages (from mglearn) (2.9.0)\n",
            "Requirement already satisfied: joblib in /usr/local/lib/python3.8/dist-packages (from mglearn) (1.2.0)\n",
            "Requirement already satisfied: kiwisolver>=1.0.1 in /usr/local/lib/python3.8/dist-packages (from matplotlib->mglearn) (1.4.4)\n",
            "Requirement already satisfied: pyparsing!=2.0.4,!=2.1.2,!=2.1.6,>=2.0.1 in /usr/local/lib/python3.8/dist-packages (from matplotlib->mglearn) (3.0.9)\n",
            "Requirement already satisfied: python-dateutil>=2.1 in /usr/local/lib/python3.8/dist-packages (from matplotlib->mglearn) (2.8.2)\n",
            "Requirement already satisfied: pytz>=2017.3 in /usr/local/lib/python3.8/dist-packages (from pandas->mglearn) (2022.7)\n",
            "Requirement already satisfied: threadpoolctl>=2.0.0 in /usr/local/lib/python3.8/dist-packages (from scikit-learn->mglearn) (3.1.0)\n",
            "Requirement already satisfied: scipy>=1.1.0 in /usr/local/lib/python3.8/dist-packages (from scikit-learn->mglearn) (1.7.3)\n",
            "Requirement already satisfied: six>=1.5 in /usr/local/lib/python3.8/dist-packages (from python-dateutil>=2.1->matplotlib->mglearn) (1.15.0)\n",
            "Building wheels for collected packages: mglearn\n",
            "  Building wheel for mglearn (setup.py) ... \u001b[?25l\u001b[?25hdone\n",
            "  Created wheel for mglearn: filename=mglearn-0.1.9-py2.py3-none-any.whl size=582637 sha256=1edbfa9b11e33ae22783f992d5bbe6407fd7c25cfaabb870c59f07021812179b\n",
            "  Stored in directory: /root/.cache/pip/wheels/87/75/37/404e66d0c4bad150f101c9a0914b11a8eccc2681559936e7f7\n",
            "Successfully built mglearn\n",
            "Installing collected packages: mglearn\n",
            "Successfully installed mglearn-0.1.9\n"
          ]
        }
      ],
      "source": [
        "!pip install mglearn"
      ]
    },
    {
      "cell_type": "code",
      "source": [
        "!pip install --upgrade joblib==1.1.0"
      ],
      "metadata": {
        "colab": {
          "base_uri": "https://localhost:8080/"
        },
        "id": "hCFxieSuZUii",
        "outputId": "9ae2586d-30f3-458e-9545-b129b196b251"
      },
      "execution_count": 2,
      "outputs": [
        {
          "output_type": "stream",
          "name": "stdout",
          "text": [
            "Looking in indexes: https://pypi.org/simple, https://us-python.pkg.dev/colab-wheels/public/simple/\n",
            "Collecting joblib==1.1.0\n",
            "  Downloading joblib-1.1.0-py2.py3-none-any.whl (306 kB)\n",
            "\u001b[2K     \u001b[90m━━━━━━━━━━━━━━━━━━━━━━━━━━━━━━━━━━━━━━━\u001b[0m \u001b[32m307.0/307.0 KB\u001b[0m \u001b[31m1.9 MB/s\u001b[0m eta \u001b[36m0:00:00\u001b[0m\n",
            "\u001b[?25hInstalling collected packages: joblib\n",
            "  Attempting uninstall: joblib\n",
            "    Found existing installation: joblib 1.2.0\n",
            "    Uninstalling joblib-1.2.0:\n",
            "      Successfully uninstalled joblib-1.2.0\n",
            "Successfully installed joblib-1.1.0\n"
          ]
        }
      ]
    },
    {
      "cell_type": "code",
      "source": [
        "import sklearn\n",
        "import numpy as np\n",
        "import matplotlib.pyplot as plt\n",
        "import pandas as pd\n",
        "import mglearn\n",
        "import warnings\n",
        "warnings.filterwarnings(\"ignore\")"
      ],
      "metadata": {
        "id": "_gmsTksPpUBo"
      },
      "execution_count": 3,
      "outputs": []
    },
    {
      "cell_type": "code",
      "source": [
        "from sklearn.datasets import make_blobs\n",
        "from sklearn.linear_model import LogisticRegression\n",
        "from sklearn.model_selection import train_test_split\n",
        "\n",
        "# 인위적인 데이터셋 생성\n",
        "X, y = make_blobs(random_state = 0)\n",
        "# 데이터와 타깃 레이블을 훈련세트와 테스트 세트로 나누기\n",
        "X_train, X_test, y_train, y_test = train_test_split(X, y, random_state = 0)\n",
        "# 모델 객체를 만들고 훈련 세트로 학습\n",
        "logreg = LogisticRegression().fit(X_train, y_train)\n",
        "# 모델을 테스트 세트로 평가\n",
        "print(\"Test set score: {:.2f}\".format(logreg.score(X_test, y_test)))"
      ],
      "metadata": {
        "colab": {
          "base_uri": "https://localhost:8080/"
        },
        "id": "ONegeqTlpqeD",
        "outputId": "1683abb6-ec51-4e4d-f930-5a4265c23814"
      },
      "execution_count": 4,
      "outputs": [
        {
          "output_type": "stream",
          "name": "stdout",
          "text": [
            "Test set score: 0.88\n"
          ]
        }
      ]
    },
    {
      "cell_type": "markdown",
      "source": [
        "***Goal***\n",
        "\n",
        "1) 교차 검증 : 안정적인 일반화 성능 측정 방법\n",
        "\n",
        "2) score 메서드가 제공하는 정확도와 R^2 값 이외에 분류와 회귀 성능을 측정하는 방법\n",
        "\n",
        "3) 그리드 서치 : 지도 학습 모델의 매개변수를 조정하는 데 유용"
      ],
      "metadata": {
        "id": "aiaO0uIfpp4B"
      }
    },
    {
      "cell_type": "markdown",
      "source": [
        "## 5.1 교차 검증\n",
        "\n",
        "**교차 검증(cross-validation)** : 일반화 성능을 재기 위한 통계적 평가 방법으로 데이터를 여러 번 반복해서 나누고 여러 모델을 학습하는 방법이다\n",
        "\n",
        "**k-겹 교차 검증(k-fold cross-validation)** : 가장 널리 사용되는 교차 검증 방법이며 k는 특정 숫자로 보통 5 ~ 10 을 사용함\n",
        "\n",
        "*ex) k = 5 인 경우*\n",
        "\n",
        "```\n",
        "1) 데이터를 먼저 **폴드(fold)**라고 하는 (거의) 비슷한 크기의 '부분 집합' 다섯 개로 나눈다\n",
        "\n",
        "2) 일련의 모델을 만든다\n",
        "\n",
        "3) 첫 번째로 만든 모델은 첫 번째 폴드를 테스트 세트로 사용하고 나머지 폴드를 훈련 세트로 사용하여 학습\n",
        "\n",
        "4) 두 번째 모델은 폴드 2를 테스트 세트로 사용하고 나머지(1, 3, 4, 5)의 데이터를 훈련 데이터로 사용함\n",
        "\n",
        "5) 위의 방식으로 3, 4, 5를 테스트 세트로 사용해 반복함\n",
        "\n",
        "6) 다섯 번의 분할마다 정확도를 측정하여, 다섯 개의 정확도 값을 얻게 됨\n",
        "```"
      ],
      "metadata": {
        "id": "f0Psrj8vq8FO"
      }
    },
    {
      "cell_type": "code",
      "source": [
        "mglearn.plots.plot_cross_validation()"
      ],
      "metadata": {
        "id": "9VO0Hgn3q7C5",
        "colab": {
          "base_uri": "https://localhost:8080/",
          "height": 187
        },
        "outputId": "444f4d96-ad27-42f1-8b35-410183035c4c"
      },
      "execution_count": 5,
      "outputs": [
        {
          "output_type": "display_data",
          "data": {
            "text/plain": [
              "<Figure size 864x144 with 1 Axes>"
            ],
            "image/png": "[encoded data removed]"
          },
          "metadata": {
            "needs_background": "light"
          }
        }
      ]
    },
    {
      "cell_type": "markdown",
      "source": [
        "### 5.1.1 scikit-learn의 교차 검증\n",
        "\n",
        "- scikit-learn에서 교차 검증은 model_selection 모듈의 cross_val_score 함수로 구현되어 있다.<br>\n",
        "\n",
        "- cross_val_score 함수의 매개변수는 평가하려는 모델과 훈련 데이터, 타깃 레이블이다."
      ],
      "metadata": {
        "id": "lXQ0JltkaWtC"
      }
    },
    {
      "cell_type": "code",
      "source": [
        "# iris 데이터셋에 적용한 LogisticRegression을 평가\n",
        "from sklearn.model_selection import cross_val_score\n",
        "from sklearn.datasets import load_iris\n",
        "from sklearn.linear_model import LogisticRegression\n",
        "\n",
        "iris = load_iris()\n",
        "logreg = LogisticRegression(max_iter = 1000)\n",
        "\n",
        "scores = cross_val_score(logreg, iris.data, iris.target)\n",
        "print(\"cross-validation score :\", scores)"
      ],
      "metadata": {
        "colab": {
          "base_uri": "https://localhost:8080/"
        },
        "id": "e-gRnCRHaUyE",
        "outputId": "d74d0cef-a90a-48a5-e67e-b9bedccb22c3"
      },
      "execution_count": 6,
      "outputs": [
        {
          "output_type": "stream",
          "name": "stdout",
          "text": [
            "cross-validation score : [0.96666667 1.         0.93333333 0.96666667 1.        ]\n"
          ]
        }
      ]
    },
    {
      "cell_type": "code",
      "source": [
        "# cv 매개변수는 폴드의 수를 바꿀 수 있음\n",
        "scores = cross_val_score(logreg, iris.data, iris.target, cv = 10)\n",
        "print(\"cross-validation score:\", scores)"
      ],
      "metadata": {
        "colab": {
          "base_uri": "https://localhost:8080/"
        },
        "id": "S7xG7RLyb5x3",
        "outputId": "9d8f7b45-db87-44ed-c827-f34e3b43bcf7"
      },
      "execution_count": 7,
      "outputs": [
        {
          "output_type": "stream",
          "name": "stdout",
          "text": [
            "cross-validation score: [1.         0.93333333 1.         1.         0.93333333 0.93333333\n",
            " 0.93333333 1.         1.         1.        ]\n"
          ]
        }
      ]
    },
    {
      "cell_type": "code",
      "source": [
        "print(\"cross-validation mean score: {:.2f}\".format(scores.mean()))"
      ],
      "metadata": {
        "colab": {
          "base_uri": "https://localhost:8080/"
        },
        "id": "b9TcrcVXcNVK",
        "outputId": "3ff82876-829d-405d-b423-470732f469ba"
      },
      "execution_count": 8,
      "outputs": [
        {
          "output_type": "stream",
          "name": "stdout",
          "text": [
            "cross-validation mean score: 0.97\n"
          ]
        }
      ]
    },
    {
      "cell_type": "code",
      "source": [
        "# cross-validate : 분할마다 훈련과 테스트에 걸린 시간을 담은 딕셔너리를 반환\n",
        "from sklearn.model_selection import cross_validate\n",
        "res = cross_validate(logreg, iris.data, iris.target, return_train_score = True)\n",
        "\n",
        "res"
      ],
      "metadata": {
        "colab": {
          "base_uri": "https://localhost:8080/"
        },
        "id": "_eWqivHichDr",
        "outputId": "bbece030-5070-4911-a8df-907c998f9f2d"
      },
      "execution_count": 9,
      "outputs": [
        {
          "output_type": "execute_result",
          "data": {
            "text/plain": [
              "{'fit_time': array([0.02074981, 0.02962589, 0.02047205, 0.02219391, 0.03364253]),\n",
              " 'score_time': array([0.00041485, 0.00039959, 0.00045133, 0.00039291, 0.00042558]),\n",
              " 'test_score': array([0.96666667, 1.        , 0.93333333, 0.96666667, 1.        ]),\n",
              " 'train_score': array([0.96666667, 0.96666667, 0.98333333, 0.98333333, 0.975     ])}"
            ]
          },
          "metadata": {},
          "execution_count": 9
        }
      ]
    },
    {
      "cell_type": "code",
      "source": [
        "res_df = pd.DataFrame(res)\n",
        "res_df"
      ],
      "metadata": {
        "colab": {
          "base_uri": "https://localhost:8080/",
          "height": 206
        },
        "id": "jyAwhvtXf64a",
        "outputId": "59910d2a-f460-4a66-e902-cdaa1e0360f1"
      },
      "execution_count": 10,
      "outputs": [
        {
          "output_type": "execute_result",
          "data": {
            "text/plain": [
              "   fit_time  score_time  test_score  train_score\n",
              "0  0.020750    0.000415    0.966667     0.966667\n",
              "1  0.029626    0.000400    1.000000     0.966667\n",
              "2  0.020472    0.000451    0.933333     0.983333\n",
              "3  0.022194    0.000393    0.966667     0.983333\n",
              "4  0.033643    0.000426    1.000000     0.975000"
            ],
            "text/html": [
              "\n",
              "  <div id=\"df-afb979d4-1e5f-4c7d-9cd3-cc0fe38b676d\">\n",
              "    <div class=\"colab-df-container\">\n",
              "      <div>\n",
              "<style scoped>\n",
              "    .dataframe tbody tr th:only-of-type {\n",
              "        vertical-align: middle;\n",
              "    }\n",
              "\n",
              "    .dataframe tbody tr th {\n",
              "        vertical-align: top;\n",
              "    }\n",
              "\n",
              "    .dataframe thead th {\n",
              "        text-align: right;\n",
              "    }\n",
              "</style>\n",
              "<table border=\"1\" class=\"dataframe\">\n",
              "  <thead>\n",
              "    <tr style=\"text-align: right;\">\n",
              "      <th></th>\n",
              "      <th>fit_time</th>\n",
              "      <th>score_time</th>\n",
              "      <th>test_score</th>\n",
              "      <th>train_score</th>\n",
              "    </tr>\n",
              "  </thead>\n",
              "  <tbody>\n",
              "    <tr>\n",
              "      <th>0</th>\n",
              "      <td>0.020750</td>\n",
              "      <td>0.000415</td>\n",
              "      <td>0.966667</td>\n",
              "      <td>0.966667</td>\n",
              "    </tr>\n",
              "    <tr>\n",
              "      <th>1</th>\n",
              "      <td>0.029626</td>\n",
              "      <td>0.000400</td>\n",
              "      <td>1.000000</td>\n",
              "      <td>0.966667</td>\n",
              "    </tr>\n",
              "    <tr>\n",
              "      <th>2</th>\n",
              "      <td>0.020472</td>\n",
              "      <td>0.000451</td>\n",
              "      <td>0.933333</td>\n",
              "      <td>0.983333</td>\n",
              "    </tr>\n",
              "    <tr>\n",
              "      <th>3</th>\n",
              "      <td>0.022194</td>\n",
              "      <td>0.000393</td>\n",
              "      <td>0.966667</td>\n",
              "      <td>0.983333</td>\n",
              "    </tr>\n",
              "    <tr>\n",
              "      <th>4</th>\n",
              "      <td>0.033643</td>\n",
              "      <td>0.000426</td>\n",
              "      <td>1.000000</td>\n",
              "      <td>0.975000</td>\n",
              "    </tr>\n",
              "  </tbody>\n",
              "</table>\n",
              "</div>\n",
              "      <button class=\"colab-df-convert\" onclick=\"convertToInteractive('df-afb979d4-1e5f-4c7d-9cd3-cc0fe38b676d')\"\n",
              "              title=\"Convert this dataframe to an interactive table.\"\n",
              "              style=\"display:none;\">\n",
              "        \n",
              "  <svg xmlns=\"http://www.w3.org/2000/svg\" height=\"24px\"viewBox=\"0 0 24 24\"\n",
              "       width=\"24px\">\n",
              "    <path d=\"M0 0h24v24H0V0z\" fill=\"none\"/>\n",
              "    <path d=\"M18.56 5.44l.94 2.06.94-2.06 2.06-.94-2.06-.94-.94-2.06-.94 2.06-2.06.94zm-11 1L8.5 8.5l.94-2.06 2.06-.94-2.06-.94L8.5 2.5l-.94 2.06-2.06.94zm10 10l.94 2.06.94-2.06 2.06-.94-2.06-.94-.94-2.06-.94 2.06-2.06.94z\"/><path d=\"M17.41 7.96l-1.37-1.37c-.4-.4-.92-.59-1.43-.59-.52 0-1.04.2-1.43.59L10.3 9.45l-7.72 7.72c-.78.78-.78 2.05 0 2.83L4 21.41c.39.39.9.59 1.41.59.51 0 1.02-.2 1.41-.59l7.78-7.78 2.81-2.81c.8-.78.8-2.07 0-2.86zM5.41 20L4 18.59l7.72-7.72 1.47 1.35L5.41 20z\"/>\n",
              "  </svg>\n",
              "      </button>\n",
              "      \n",
              "  <style>\n",
              "    .colab-df-container {\n",
              "      display:flex;\n",
              "      flex-wrap:wrap;\n",
              "      gap: 12px;\n",
              "    }\n",
              "\n",
              "    .colab-df-convert {\n",
              "      background-color: #E8F0FE;\n",
              "      border: none;\n",
              "      border-radius: 50%;\n",
              "      cursor: pointer;\n",
              "      display: none;\n",
              "      fill: #1967D2;\n",
              "      height: 32px;\n",
              "      padding: 0 0 0 0;\n",
              "      width: 32px;\n",
              "    }\n",
              "\n",
              "    .colab-df-convert:hover {\n",
              "      background-color: #E2EBFA;\n",
              "      box-shadow: 0px 1px 2px rgba(60, 64, 67, 0.3), 0px 1px 3px 1px rgba(60, 64, 67, 0.15);\n",
              "      fill: #174EA6;\n",
              "    }\n",
              "\n",
              "    [theme=dark] .colab-df-convert {\n",
              "      background-color: #3B4455;\n",
              "      fill: #D2E3FC;\n",
              "    }\n",
              "\n",
              "    [theme=dark] .colab-df-convert:hover {\n",
              "      background-color: #434B5C;\n",
              "      box-shadow: 0px 1px 3px 1px rgba(0, 0, 0, 0.15);\n",
              "      filter: drop-shadow(0px 1px 2px rgba(0, 0, 0, 0.3));\n",
              "      fill: #FFFFFF;\n",
              "    }\n",
              "  </style>\n",
              "\n",
              "      <script>\n",
              "        const buttonEl =\n",
              "          document.querySelector('#df-afb979d4-1e5f-4c7d-9cd3-cc0fe38b676d button.colab-df-convert');\n",
              "        buttonEl.style.display =\n",
              "          google.colab.kernel.accessAllowed ? 'block' : 'none';\n",
              "\n",
              "        async function convertToInteractive(key) {\n",
              "          const element = document.querySelector('#df-afb979d4-1e5f-4c7d-9cd3-cc0fe38b676d');\n",
              "          const dataTable =\n",
              "            await google.colab.kernel.invokeFunction('convertToInteractive',\n",
              "                                                     [key], {});\n",
              "          if (!dataTable) return;\n",
              "\n",
              "          const docLinkHtml = 'Like what you see? Visit the ' +\n",
              "            '<a target=\"_blank\" href=https://colab.research.google.com/notebooks/data_table.ipynb>data table notebook</a>'\n",
              "            + ' to learn more about interactive tables.';\n",
              "          element.innerHTML = '';\n",
              "          dataTable['output_type'] = 'display_data';\n",
              "          await google.colab.output.renderOutput(dataTable, element);\n",
              "          const docLink = document.createElement('div');\n",
              "          docLink.innerHTML = docLinkHtml;\n",
              "          element.appendChild(docLink);\n",
              "        }\n",
              "      </script>\n",
              "    </div>\n",
              "  </div>\n",
              "  "
            ]
          },
          "metadata": {},
          "execution_count": 10
        }
      ]
    },
    {
      "cell_type": "code",
      "source": [
        "print(\"평균 시간과 점수:\\n\", res_df.mean())"
      ],
      "metadata": {
        "colab": {
          "base_uri": "https://localhost:8080/"
        },
        "id": "Kcac4GHBgiuI",
        "outputId": "89e9c930-5ba8-4361-a79f-31937a7d2b28"
      },
      "execution_count": 11,
      "outputs": [
        {
          "output_type": "stream",
          "name": "stdout",
          "text": [
            "평균 시간과 점수:\n",
            " fit_time       0.025337\n",
            "score_time     0.000417\n",
            "test_score     0.973333\n",
            "train_score    0.975000\n",
            "dtype: float64\n"
          ]
        }
      ]
    },
    {
      "cell_type": "markdown",
      "source": [
        "### 5.1.2 교차 검증의 장점\n",
        "\n",
        "**장점**\n",
        "\n",
        "- 테스트 세트에 각 샘플이 정확하게 한 번씩 들어 간다 &rarr; 교차 검증의 점수를 (그리고 평균값을) 높이기 위해서는 데이터셋에 있는 모든 샘플에 대해 모델이 잘 일반화되어야 함\n",
        "\n",
        "- 데이터를 여러 개로 나누면 모델이 훈련 데이터에 얼마나 민감한지 알 수 있음\n",
        "\n",
        "- 분할을 한 번 했을 때보다 데이터를 더 효과적으로 사용할 수 있음\n",
        "\n",
        "**단점**\n",
        "\n",
        "- 연산 비용이 늘어난다는 것( k개를 만들어야 하므로 데이터를 한 번 나눴을 때보다 대략 k배 더 느림 )"
      ],
      "metadata": {
        "id": "RhjkNrVyg7Q-"
      }
    },
    {
      "cell_type": "markdown",
      "source": [
        "### 5.1.3 계층별 k-겹 교차 검증과 그외 전략들\n",
        "\n"
      ],
      "metadata": {
        "id": "k5dLZ4jijk3K"
      }
    },
    {
      "cell_type": "code",
      "source": [
        "from sklearn.datasets import load_iris\n",
        "iris = load_iris()\n",
        "print(\"Iris 레이블:\\n\", iris.target)"
      ],
      "metadata": {
        "colab": {
          "base_uri": "https://localhost:8080/"
        },
        "id": "s6J8MEmegu21",
        "outputId": "fc5c5ae8-e28e-4be7-c788-9554c1b133aa"
      },
      "execution_count": 12,
      "outputs": [
        {
          "output_type": "stream",
          "name": "stdout",
          "text": [
            "Iris 레이블:\n",
            " [0 0 0 0 0 0 0 0 0 0 0 0 0 0 0 0 0 0 0 0 0 0 0 0 0 0 0 0 0 0 0 0 0 0 0 0 0\n",
            " 0 0 0 0 0 0 0 0 0 0 0 0 0 1 1 1 1 1 1 1 1 1 1 1 1 1 1 1 1 1 1 1 1 1 1 1 1\n",
            " 1 1 1 1 1 1 1 1 1 1 1 1 1 1 1 1 1 1 1 1 1 1 1 1 1 1 2 2 2 2 2 2 2 2 2 2 2\n",
            " 2 2 2 2 2 2 2 2 2 2 2 2 2 2 2 2 2 2 2 2 2 2 2 2 2 2 2 2 2 2 2 2 2 2 2 2 2\n",
            " 2 2]\n"
          ]
        }
      ]
    },
    {
      "cell_type": "markdown",
      "source": [
        "*데이터셋을 나열 순서대로 k개의 폴드로 나누는 것이 항상 좋지 않음*\n",
        "\n",
        "Iris 레이블에서 첫 번째 1/3은 클래스 0이며 두 번째 1/3은 클래스 1이고 마지막 1/3은 클래스 2이다.<br>\n",
        "\n",
        "첫 번째 반복에서는 테스트 세트는 클래스 0만을, 훈련 세트는 클래스 1과 2만을 가지고 있음<br>\n",
        "\n",
        "&rarr; 이 데이터에 3-겹 교차 검증을 적용하면 모델의 정확도에 문제가 생김\n",
        "\n",
        "해결책<br>\n",
        "\n",
        "**계층별 k-겹 교차 검증(stratified k-fold cross-validation)** : 폴드 안의 클래스 비율이 전체 데이터셋의 클래스 비율과 같도록 데이터를 나눔"
      ],
      "metadata": {
        "id": "lc5ZKDjJkMe2"
      }
    },
    {
      "cell_type": "code",
      "source": [
        "mglearn.plots.plot_stratified_cross_validation()"
      ],
      "metadata": {
        "colab": {
          "base_uri": "https://localhost:8080/",
          "height": 369
        },
        "id": "h4JyON_Tj1ok",
        "outputId": "165281e9-0795-46e3-da04-55dba25731cb"
      },
      "execution_count": 13,
      "outputs": [
        {
          "output_type": "display_data",
          "data": {
            "text/plain": [
              "<Figure size 864x360 with 2 Axes>"
            ],
            "image/png": "[encoded data removed]"
          },
          "metadata": {
            "needs_background": "light"
          }
        }
      ]
    },
    {
      "cell_type": "markdown",
      "source": [
        "#### 교차 검증 상세 옵션\n",
        "\n",
        "scikit-learn에서는 cv 매개변수에 **교차 검증 분할기(cross-validation splitter)**를 전달함으로써 데이터를 분할할 때 더 세밀하게 제어할 수 있다.\n",
        "\n",
        "- 회귀 : k-겹 교차 검증\n",
        "\n",
        "- 분류 : 계층별 k-겹 교차 검증\n"
      ],
      "metadata": {
        "id": "se8yJdnBn-aS"
      }
    },
    {
      "cell_type": "code",
      "source": [
        "from sklearn.model_selection import KFold\n",
        "kfold = KFold(n_splits = 5)"
      ],
      "metadata": {
        "id": "YO0i2vDlll8M"
      },
      "execution_count": 14,
      "outputs": []
    },
    {
      "cell_type": "code",
      "source": [
        "print(\"cross-validation score:\\n\", cross_val_score(logreg, iris.data, iris.target, cv = kfold))"
      ],
      "metadata": {
        "colab": {
          "base_uri": "https://localhost:8080/"
        },
        "id": "tKwWyqpApH54",
        "outputId": "49bd8845-2391-4cf9-fde0-62ae2aa7192d"
      },
      "execution_count": 15,
      "outputs": [
        {
          "output_type": "stream",
          "name": "stdout",
          "text": [
            "cross-validation score:\n",
            " [1.         1.         0.86666667 0.93333333 0.83333333]\n"
          ]
        }
      ]
    },
    {
      "cell_type": "code",
      "source": [
        "kfold = KFold(n_splits = 3)\n",
        "print(\"cross-validation score:\\n\", cross_val_score(logreg, iris.data, iris.target, cv = kfold))"
      ],
      "metadata": {
        "colab": {
          "base_uri": "https://localhost:8080/"
        },
        "id": "P1luTfnppdHu",
        "outputId": "4a7edd36-3fc8-4cb5-aadc-caba437d5e9b"
      },
      "execution_count": 16,
      "outputs": [
        {
          "output_type": "stream",
          "name": "stdout",
          "text": [
            "cross-validation score:\n",
            " [0. 0. 0.]\n"
          ]
        }
      ]
    },
    {
      "cell_type": "markdown",
      "source": [
        "Iris 3-겹 교차 검증 문제의 해결책\n",
        "\n",
        "- 계층별 k-겹 교차 검증\n",
        "\n",
        "- 데이터를 섞어서 샘플의 순서를 뒤죽박죽으로 만드는 방법"
      ],
      "metadata": {
        "id": "clxPZv9Nqf5M"
      }
    },
    {
      "cell_type": "code",
      "source": [
        "# KFold의 shuffle 매개변수를 True로 지정 + random_state를 고정\n",
        "kfold = KFold(n_splits = 3, shuffle = True, random_state = 0)\n",
        "print(\"cross-validation score:\\n\", cross_val_score(logreg, iris.data, iris.target, cv = kfold))"
      ],
      "metadata": {
        "colab": {
          "base_uri": "https://localhost:8080/"
        },
        "id": "FLIupbfzp2X-",
        "outputId": "e0854b19-83b5-4106-fde6-0571f53af839"
      },
      "execution_count": 17,
      "outputs": [
        {
          "output_type": "stream",
          "name": "stdout",
          "text": [
            "cross-validation score:\n",
            " [0.98 0.96 0.96]\n"
          ]
        }
      ]
    },
    {
      "cell_type": "markdown",
      "source": [
        "#### LOOCV\n",
        "\n",
        "**LOOCV(Leave-one-out cross-validation) 특징**\n",
        "\n",
        "- 폴드 하나에 샘플 하나만 들어 있는 k-겹 교차 검증\n",
        "\n",
        "- 각 반복에서 하나의 데이터 포인트를 선택해 테스트 세트로 사용\n",
        "\n",
        "- 데이터셋이 큰 경우에는 시간이 매우 오래 걸림\n",
        "\n",
        "- 작은 데이터셋에서는 더 좋은 결과를 만들어냄\n"
      ],
      "metadata": {
        "id": "vTzjVfkdrR0E"
      }
    },
    {
      "cell_type": "code",
      "source": [
        "from sklearn.model_selection import LeaveOneOut\n",
        "loo = LeaveOneOut()\n",
        "scores = cross_val_score(logreg, iris.data, iris.target, cv = loo)\n",
        "print(\"교차 검증 분할 횟수: \", len(scores))\n",
        "print(\"평균 정확도: {:.2f}\".format(scores.mean()))"
      ],
      "metadata": {
        "colab": {
          "base_uri": "https://localhost:8080/"
        },
        "id": "8KSz9lIyrHJq",
        "outputId": "2798e90f-bfe8-423c-9b85-0142055e2755"
      },
      "execution_count": 18,
      "outputs": [
        {
          "output_type": "stream",
          "name": "stdout",
          "text": [
            "교차 검증 분할 횟수:  150\n",
            "평균 정확도: 0.97\n"
          ]
        }
      ]
    },
    {
      "cell_type": "markdown",
      "source": [
        "#### 임의 분할 교차 검증\n",
        "\n",
        "**임의 분할 교차 검증(shuffle-split cross-validation)의 특징**\n",
        "\n",
        "- train_size만큼의 포인트로 훈련 세트를 만듦\n",
        "\n",
        "- test_size만큼의 (훈련 세트와 중첩되지 않은) 포인트로 테스트 세트를 만들도록 분할\n",
        "\n",
        "- n_splits 횟수만큼 반복"
      ],
      "metadata": {
        "id": "XsVFsMj8tlhN"
      }
    },
    {
      "cell_type": "code",
      "source": [
        "# 샘플이 10개인 데이터셋을 5개 포인트의 훈련 세트, 2개 포인트의 테스트 세트\n",
        "# 4번 반복\n",
        "mglearn.plots.plot_shuffle_split()"
      ],
      "metadata": {
        "colab": {
          "base_uri": "https://localhost:8080/",
          "height": 153
        },
        "id": "7cFj6BpvtXQB",
        "outputId": "d6a6bd24-3fa1-4594-9c37-bd2d5c193ccf"
      },
      "execution_count": 19,
      "outputs": [
        {
          "output_type": "display_data",
          "data": {
            "text/plain": [
              "<Figure size 720x144 with 1 Axes>"
            ],
            "image/png": "[encoded data removed]"
          },
          "metadata": {
            "needs_background": "light"
          }
        }
      ]
    },
    {
      "cell_type": "code",
      "source": [
        "from sklearn.model_selection import ShuffleSplit\n",
        "shuffle_split = ShuffleSplit(test_size = .5, train_size = .5, n_splits = 10)\n",
        "scores = cross_val_score(logreg, iris.data, iris.target, cv = shuffle_split)\n",
        "print(\"cross-validation score:\\n\", scores)"
      ],
      "metadata": {
        "colab": {
          "base_uri": "https://localhost:8080/"
        },
        "id": "71sfSsvVukHw",
        "outputId": "586b0b79-5367-4893-e75b-4a0a762b08a9"
      },
      "execution_count": 20,
      "outputs": [
        {
          "output_type": "stream",
          "name": "stdout",
          "text": [
            "cross-validation score:\n",
            " [0.94666667 0.94666667 0.97333333 0.96       0.93333333 0.93333333\n",
            " 0.97333333 0.96       0.94666667 0.94666667]\n"
          ]
        }
      ]
    },
    {
      "cell_type": "markdown",
      "source": [
        "**장점**\n",
        "\n",
        "- 반복 횟수를 훈련 세트나 테스트 세트의 크기와 독립적으로 조절해야 할 때 유용\n",
        "\n",
        "- train_size와 test_size의 합을 전체와 다르게 함으로써 전체 데이터의 일부만 사용 <br>\n",
        "  &rarr; 데이터를 부분 샘플링(subsampling)하는 방식은 대규모 데이터셋으로 작업할 때 도움이 됨\n",
        "\n",
        "*ShuffleSplit의 계층별 버전 : 분류 작업에 더 적합한 StratifiedShuffleSplit*"
      ],
      "metadata": {
        "id": "1TJXIyJjzkN2"
      }
    },
    {
      "cell_type": "markdown",
      "source": [
        "#### 그룹별 교차 검증\n",
        "\n",
        "- 데이터 안에 매우 연관된 그룹이 있을 때 교차 검증을 널리 사용\n",
        "\n",
        "ex) 얼굴 사진에서 표정을 인식하는 시스템\n",
        "\n",
        "  - 새 얼굴에 대한 일반화 성능을 더 정확하게 평가하려면 훈련 세트와 테스트 세트에 서로 다른 사람의 사진이 들어가야함\n",
        "\n",
        "  &rarr; groups 매개변수로 전달받을 수 있는 GroupKFold를 사용\n",
        "\n",
        "*groups 배열 : 훈련 세트와 테스트 세트를 만들 때 분리되지 않아야 할 그룹을 지정하는 것이며, 클래스 레이블과 혼동 X*"
      ],
      "metadata": {
        "id": "hmpOZawD0xxs"
      }
    },
    {
      "cell_type": "code",
      "source": [
        "from sklearn.model_selection import GroupKFold\n",
        "# 인위적 데이터셋 생성\n",
        "X, y = make_blobs(n_samples = 12, random_state = 0)\n",
        "# 처음 세 개의 샘플은 같은 그룹에 속함\n",
        "# 네 개의 샘플이 동일 \n",
        "groups = [0, 0, 0, 1, 1, 1, 1, 2, 2, 3, 3, 3]\n",
        "scores = cross_val_score(logreg, X, y, groups = groups, cv = GroupKFold(n_splits = 3))\n",
        "print(\"cross-validation score:\\n\", scores)"
      ],
      "metadata": {
        "colab": {
          "base_uri": "https://localhost:8080/"
        },
        "id": "trOqiM9ixpNV",
        "outputId": "6e2863bb-a9c0-4742-bcb4-b2df0d7bc9cc"
      },
      "execution_count": 21,
      "outputs": [
        {
          "output_type": "stream",
          "name": "stdout",
          "text": [
            "cross-validation score:\n",
            " [0.75       0.6        0.66666667]\n"
          ]
        }
      ]
    },
    {
      "cell_type": "code",
      "source": [
        "mglearn.plots.plot_group_kfold()"
      ],
      "metadata": {
        "colab": {
          "base_uri": "https://localhost:8080/",
          "height": 153
        },
        "id": "nqOykIeQ38QT",
        "outputId": "dcd12846-6455-4a93-f1b0-e49254c5fe42"
      },
      "execution_count": 22,
      "outputs": [
        {
          "output_type": "display_data",
          "data": {
            "text/plain": [
              "<Figure size 720x144 with 1 Axes>"
            ],
            "image/png": "[encoded data removed]"
          },
          "metadata": {
            "needs_background": "light"
          }
        }
      ]
    },
    {
      "cell_type": "markdown",
      "source": [
        "### 5.1.4 반복 교차 검증\n",
        "\n",
        "*scikit-learn 0.19 version에 두 개의 분할기 추가*\n",
        "\n",
        "- 회귀 : RepeatedKFold\n",
        "  - KFold 클래스를 사용하여 훈련 폴드와 테스트 폴드로 분할\n",
        "\n",
        "- 분류 : RepeatedStratifiedKFold\n",
        "  - StratifiedKFold 클래스를 사용 \n",
        "\n",
        "- 분할 폴드 수 : n_splits로 설정하며 기본값은 5임\n",
        "\n",
        "- 반복 횟수 : n_repeats로 설정하며 기본값은 10임, 반복할 때마다 데이터를 다시 섞음"
      ],
      "metadata": {
        "id": "0mObXFbpLWZM"
      }
    },
    {
      "cell_type": "code",
      "source": [
        "from sklearn.model_selection import cross_val_score, KFold, StratifiedKFold\n",
        "from sklearn.datasets import load_iris\n",
        "from sklearn.linear_model import LogisticRegression\n",
        "\n",
        "iris = load_iris()\n",
        "logreg = LogisticRegression(max_iter = 1000)"
      ],
      "metadata": {
        "id": "-Wo1M1Q14gaK"
      },
      "execution_count": 23,
      "outputs": []
    },
    {
      "cell_type": "code",
      "source": [
        "# 전체 검증 점수 개수 : n_splits x n_repeats (5 x 10 = 50 -> 기본값)\n",
        "from sklearn.model_selection import RepeatedStratifiedKFold\n",
        "\n",
        "rskfold = RepeatedStratifiedKFold(random_state = 42)\n",
        "scores = cross_val_score(logreg, iris.data, iris.target, cv = rskfold)\n",
        "\n",
        "print(\"cross-validation score:\\n\", scores)\n",
        "print(\"cross-validation mean score: {:.3f}\".format(scores.mean()))"
      ],
      "metadata": {
        "colab": {
          "base_uri": "https://localhost:8080/"
        },
        "id": "EGMn9yF9OAUT",
        "outputId": "41ed8ee2-f8b7-4337-e191-c2b00397284a"
      },
      "execution_count": 24,
      "outputs": [
        {
          "output_type": "stream",
          "name": "stdout",
          "text": [
            "cross-validation score:\n",
            " [1.         0.96666667 0.93333333 1.         0.93333333 0.96666667\n",
            " 0.96666667 0.93333333 1.         0.96666667 0.93333333 1.\n",
            " 1.         0.96666667 0.96666667 0.9        1.         1.\n",
            " 0.93333333 0.96666667 0.93333333 0.96666667 0.96666667 1.\n",
            " 0.96666667 1.         0.96666667 0.96666667 0.9        1.\n",
            " 0.96666667 0.96666667 0.96666667 0.96666667 0.93333333 0.96666667\n",
            " 0.96666667 1.         1.         0.9        0.96666667 1.\n",
            " 0.9        0.96666667 0.96666667 0.9        0.96666667 0.96666667\n",
            " 1.         0.96666667]\n",
            "cross-validation mean score: 0.965\n"
          ]
        }
      ]
    },
    {
      "cell_type": "markdown",
      "source": [
        "## 5.2 그리드 서치\n",
        "\n",
        "**그리드 서치(grid search)** : 관심 있는 매개변수들을 대상으로 가능한 모든 조합을 시도해보는 것\n",
        "\n",
        "*RBF(radial basis function) 커널 SVM이용*\n",
        "\n",
        "|      |C = 0.001|C = 0.01|...|C = 10|\n",
        "|------|---------|--------|--------|------|\n",
        "|gamma = 0.001|SVC(C = 0.001,<br>gamma = 0.001)|SVC(C = 0.01,<br>gamma = 0.001)|...|SVC(C = 10,<br>gamma = 0.001)|\n",
        "|gamma = 0.01|SVC(C = 0.001,<br>gamma = 0.01)|SVC(C = 0.01,<br>gamma = 0.01)|...|SVC(C = 10,<br>gamma = 0.01)|\n",
        "|...|...|...|...|\n",
        "|gamma = 100|SVC(C = 0.001,<br>gamma = 100)|SVC(C = 0.01,<br>gamma = 100)|...|SVC(C = 10,<br>gamma = 100)|"
      ],
      "metadata": {
        "id": "3uvBezCIOq2C"
      }
    },
    {
      "cell_type": "markdown",
      "source": [
        "### 5.2.1 간단한 그리드 서치\n",
        "\n",
        "두 매개변수(C, gamma) 조합에 대해 분류기를 학습시키고 평가하는 간단한 그리드 서치를 for 문을 사용해 만들 수 있다."
      ],
      "metadata": {
        "id": "tLQ6OkmSQn3-"
      }
    },
    {
      "cell_type": "code",
      "source": [
        "# 간단한 그리드 서치 구현\n",
        "from sklearn.svm import SVC\n",
        "X_train, X_test, y_train, y_test = train_test_split(iris.data, iris.target, random_state = 0)\n",
        "print(\"Training set size: {} Test set size: {}\".format(X_train.shape[0], X_test.shape[0]))\n",
        "\n",
        "best_score = 0\n",
        "\n",
        "for gamma in [0.001, 0.01, 0.1, 1, 10, 100]:\n",
        "  for C in [0.001, 0.01, 0.1, 1, 10, 100]:\n",
        "    # 매개변수의 각 조합에 대해 SVC를 훈련시킴\n",
        "    svm = SVC(gamma = gamma, C = C)\n",
        "    svm.fit(X_train, y_train)\n",
        "    # 테스트 세트로 SVC를 평가\n",
        "    score = svm.score(X_test, y_test)\n",
        "    # 점수가 더 높으면 매개변수와 함께 기록\n",
        "    if score > best_score:\n",
        "      best_score = score\n",
        "      best_parameters = {'C':C, 'gamma': gamma}\n",
        "\n",
        "print(\"Best score: {:.2f}\".format(best_score))\n",
        "print(\"Best parameters:\", best_parameters)"
      ],
      "metadata": {
        "colab": {
          "base_uri": "https://localhost:8080/"
        },
        "id": "RUsr1Zr1Ol3c",
        "outputId": "44d8d211-550f-4552-c02c-4cac645a4a07"
      },
      "execution_count": 25,
      "outputs": [
        {
          "output_type": "stream",
          "name": "stdout",
          "text": [
            "Training set size: 112 Test set size: 38\n",
            "Best score: 0.97\n",
            "Best parameters: {'C': 100, 'gamma': 0.001}\n"
          ]
        }
      ]
    },
    {
      "cell_type": "markdown",
      "source": [
        "### 5.2.2 매개변수 과대적합과 검증 세트\n",
        "\n",
        "문제점 : 여러 가지 매개변수 값으로 많이 시도를 통해 테스트 세트 정확도가 가장 높은 조합을 선택 &rarr; 새로운 데이터에까지 이어지지 않을 수 있음<br>\n",
        "  *&rarr; 평가를 위해서는 모델을 만들 때 사용하지 않은 독립된 데이터셋이 필요*\n",
        "\n",
        "**해결책 : 데이터를 다시 나눠서 세 개의 세트로 만들어 해결**\n",
        "\n",
        "- 훈련 세트로는 모델 만들기\n",
        "\n",
        "- 검증 (또는 개발) 세트로는 모델의 매개변수를 선택\n",
        "\n",
        "- 테스트 세트로는 선택된 매개변수의 성능을 평가"
      ],
      "metadata": {
        "id": "m54p6lSlSJ2o"
      }
    },
    {
      "cell_type": "code",
      "source": [
        "mglearn.plots.plot_threefold_split()"
      ],
      "metadata": {
        "colab": {
          "base_uri": "https://localhost:8080/",
          "height": 123
        },
        "id": "uVtw6-OaSEMu",
        "outputId": "4ec35180-e04f-481d-a678-06d8e1c68da0"
      },
      "execution_count": 26,
      "outputs": [
        {
          "output_type": "display_data",
          "data": {
            "text/plain": [
              "<Figure size 1080x72 with 1 Axes>"
            ],
            "image/png": "[encoded data removed]"
          },
          "metadata": {
            "needs_background": "light"
          }
        }
      ]
    },
    {
      "cell_type": "code",
      "source": [
        "from sklearn.svm import SVC\n",
        "# 데이터를 훈련 + 검증 세트 그리고 테스트 세트로 분할\n",
        "X_trainval, X_test, y_trainval, y_test = train_test_split(iris.data, iris.target, random_state = 0)\n",
        "# 훈련 + 검증 세트를 훈련 세트와 검증 세트로 분할\n",
        "X_train, X_valid, y_train, y_valid = train_test_split(X_trainval, y_trainval, random_state = 1)\n",
        "print(\"Training set size: {}  Validation set size: {} Test set size: {}\\n\".format(X_train.shape[0], X_valid.shape[0], X_test.shape[0]))\n",
        "\n",
        "best_score = 0\n",
        "\n",
        "for gamma in [0.001, 0.01, 0.1, 1, 10, 100]:\n",
        "  for C in [0.001, 0.01, 0.1, 1, 10, 100]:\n",
        "    # 매개변수의 각 조합에 대해 SVC를 훈련\n",
        "    svm = SVC(gamma = gamma, C = C)\n",
        "    svm.fit(X_train, y_train)\n",
        "    # 검증 세트로 SVC를 평가\n",
        "    score = svm.score(X_valid, y_valid)\n",
        "    # 점수가 더 높으면 매개변수와 함께 기록\n",
        "    if score > best_score:\n",
        "      best_score = score\n",
        "      best_parameters = {'C': C, 'gamma': gamma}\n",
        "  \n",
        "# 훈련 세트와 검증 세트를 합처 모델을 다시 만든 후 테스트 세틀르 사용해 평가\n",
        "svm = SVC(**best_parameters)\n",
        "svm.fit(X_trainval, y_trainval)\n",
        "test_score = svm.score(X_test, y_test)\n",
        "print(\"Highest score in validation set: {:.2f}\".format(best_score))\n",
        "print(\"Best parameters: \",best_parameters)\n",
        "print(\"Best test score in best parameters: {:.2f}\".format(test_score))"
      ],
      "metadata": {
        "colab": {
          "base_uri": "https://localhost:8080/"
        },
        "id": "LQbsGzBRTP5W",
        "outputId": "c996af07-5b06-4d26-b273-acc7f7e52eab"
      },
      "execution_count": 27,
      "outputs": [
        {
          "output_type": "stream",
          "name": "stdout",
          "text": [
            "Training set size: 84  Validation set size: 28 Test set size: 38\n",
            "\n",
            "Highest score in validation set: 0.96\n",
            "Best parameters:  {'C': 10, 'gamma': 0.001}\n",
            "Best test score in best parameters: 0.92\n"
          ]
        }
      ]
    },
    {
      "cell_type": "markdown",
      "source": [
        "최적 매개변수에서 테스트 세트 점수에 따르면 92%만 정확하게 분석한다고 할 수 있다.\n",
        "\n",
        "**최종 평가에만 사용하도록 테스트 세트를 분리해 유지하는 것이 중요함**\n",
        "\n",
        "모든 탐색적 분석과 모델 선택을 위해서는 훈련 세트와 검증 세트를 사용하는 것을 권장하며, 마지막 평가를 위해 테스트 세트를 보관하는 것을 추천함."
      ],
      "metadata": {
        "id": "NB8tNpPWYgiE"
      }
    },
    {
      "cell_type": "markdown",
      "source": [
        "### 5.2.3 교차 검증을 사용한 그리드 서치\n",
        "\n",
        "일반화 성능을 더 잘 평가하려면 훈련 세트와 검증 세트를 한 번만 나누지 않고, 교차 검증을 사용해서 각 매개변수 조합의 성능을 평가할 수 있다."
      ],
      "metadata": {
        "id": "5SGQf6vLZd34"
      }
    },
    {
      "cell_type": "code",
      "source": [
        "for gamma in [0.001, 0.01, 0.1, 1, 10, 100]:\n",
        "  for C in [0.001, 0.01, 0.1, 1, 10, 100]:\n",
        "    # 매개변수의 각 조합에 대해 SVC를 훈련\n",
        "    svm = SVC(gamma = gamma, C = C)\n",
        "    # 교차 검증을 적용\n",
        "    scores = cross_val_score(svm, X_trainval, y_trainval, cv = 5)\n",
        "    # 교차 검증 정확도의 평균을 계산\n",
        "    score = np.mean(scores)\n",
        "    # 점수가 더 높으면 매개변수와 함께 기록\n",
        "    if score > best_score:\n",
        "      best_score = score\n",
        "      best_parameters = {'C': C, 'gamma' : gamma}\n",
        "# 훈련 세트와 검증 세트를 합처 모델 만들기\n",
        "svm = SVC(**best_parameters)\n",
        "svm.fit(X_trainval, y_trainval)"
      ],
      "metadata": {
        "colab": {
          "base_uri": "https://localhost:8080/"
        },
        "id": "Qbw-6zQIVbak",
        "outputId": "10417bf7-6dd6-4d4a-e4e0-047bcdd8a72a"
      },
      "execution_count": 28,
      "outputs": [
        {
          "output_type": "execute_result",
          "data": {
            "text/plain": [
              "SVC(C=10, gamma=0.1)"
            ]
          },
          "metadata": {},
          "execution_count": 28
        }
      ]
    },
    {
      "cell_type": "code",
      "source": [
        "# 교차 검증을 사용한 그리드 서치의 결과\n",
        "mglearn.plots.plot_cross_val_selection()"
      ],
      "metadata": {
        "colab": {
          "base_uri": "https://localhost:8080/",
          "height": 335
        },
        "id": "xtbjR-72bkE9",
        "outputId": "9a0bb8fe-d014-4cf8-c6e3-fc8a0668062a"
      },
      "execution_count": 29,
      "outputs": [
        {
          "output_type": "display_data",
          "data": {
            "text/plain": [
              "<Figure size 720x216 with 1 Axes>"
            ],
            "image/png": "[encoded data removed]"
          },
          "metadata": {
            "needs_background": "light"
          }
        }
      ]
    },
    {
      "cell_type": "markdown",
      "source": [
        "**그래프 분석**\n",
        "\n",
        "각 매개변수 설정마다 교차 검증 분할에 한 개씩, 모두 다섯 개의 값을 계산하며 교차 검증 정확도 평균이 가장 높은 매개변수를 동그라미로 표시함"
      ],
      "metadata": {
        "id": "sChaKF8Tb1fT"
      }
    },
    {
      "cell_type": "code",
      "source": [
        "# 교차 검증과 그리드 서치를 사용한 매개변수 선택과 모델 평가의 작업 흐름\n",
        "mglearn.plots.plot_grid_search_overview()"
      ],
      "metadata": {
        "colab": {
          "base_uri": "https://localhost:8080/",
          "height": 440
        },
        "id": "_H35eD85bsMo",
        "outputId": "c34ae4ea-ff05-45f7-b7f8-8e169bc7c0c8"
      },
      "execution_count": 30,
      "outputs": [
        {
          "output_type": "display_data",
          "data": {
            "text/plain": [
              "<Figure size 700x210 with 1 Axes>"
            ],
            "image/png": "[encoded data removed]"
          },
          "metadata": {
            "needs_background": "light"
          }
        }
      ]
    },
    {
      "cell_type": "markdown",
      "source": [
        "**GridSearchCV** : 교차 검증을 사용한 그리드 서치를 매개변수 조정 방법으로 널리 사용하므로 추정기 형태로 구현\n",
        "\n",
        "- 딕션너리 형태로 검색 대상 매개변수를 지정\n",
        "\n",
        "- 딕션너리 키는 조정하고자 하는 매개변수 이름이고, 값은 탐색할 매개변수의 설정값임"
      ],
      "metadata": {
        "id": "zUSQsQpLcnFx"
      }
    },
    {
      "cell_type": "code",
      "source": [
        "param_grid = {'C' : [0.001, 0.01, 0.1, 1, 10, 100],\n",
        "              'gamma' : [0.001, 0.01, 0.1, 1, 10, 100]}\n",
        "print(\"매개변수 그리드:\\n\", param_grid)"
      ],
      "metadata": {
        "colab": {
          "base_uri": "https://localhost:8080/"
        },
        "id": "P1yQVfIMcbrw",
        "outputId": "996fcdca-d945-4e40-ef04-caa8a1e127f1"
      },
      "execution_count": 31,
      "outputs": [
        {
          "output_type": "stream",
          "name": "stdout",
          "text": [
            "매개변수 그리드:\n",
            " {'C': [0.001, 0.01, 0.1, 1, 10, 100], 'gamma': [0.001, 0.01, 0.1, 1, 10, 100]}\n"
          ]
        }
      ]
    },
    {
      "cell_type": "code",
      "source": [
        "# 모델(SVC), 검색 대상 매개변수 그리드(param_grid), 원하는 교차 검증(5-겹 계층별 교차 검증)으로 GridSearchCV의 객체 생성\n",
        "from sklearn.model_selection import GridSearchCV\n",
        "from sklearn.svm import SVC\n",
        "grid_search = GridSearchCV(SVC(), param_grid, cv = 5, return_train_score = True)"
      ],
      "metadata": {
        "id": "todicfiWdMKf"
      },
      "execution_count": 32,
      "outputs": []
    },
    {
      "cell_type": "code",
      "source": [
        "# 과대적합 방지 : 데이터를 훈련 세트와 테스트 세트로 분리\n",
        "X_train, X_test, y_train, y_test = train_test_split(iris.data, iris.target, random_state = 0)"
      ],
      "metadata": {
        "id": "i0CztXmGdnFx"
      },
      "execution_count": 33,
      "outputs": []
    },
    {
      "cell_type": "code",
      "source": [
        "# fit 메서드 : param_grid에 설정된 매개변수 조합에 대한 교차 검증을 수행\n",
        "# 최적의 매개변수를 찾는 일 + 가장 좋은 매개변수로 전체 훈련 데이터셋에 대해 세로운 모델을 자동으로 생성\n",
        "grid_search.fit(X_train, y_train)"
      ],
      "metadata": {
        "colab": {
          "base_uri": "https://localhost:8080/"
        },
        "id": "7fS8VtXId5Gs",
        "outputId": "882a44f2-dd22-4c81-f59f-e28df188f8fb"
      },
      "execution_count": 34,
      "outputs": [
        {
          "output_type": "execute_result",
          "data": {
            "text/plain": [
              "GridSearchCV(cv=5, estimator=SVC(),\n",
              "             param_grid={'C': [0.001, 0.01, 0.1, 1, 10, 100],\n",
              "                         'gamma': [0.001, 0.01, 0.1, 1, 10, 100]},\n",
              "             return_train_score=True)"
            ]
          },
          "metadata": {},
          "execution_count": 34
        }
      ]
    },
    {
      "cell_type": "code",
      "source": [
        "print(\"Test set score: {:.2f}\".format(grid_search.score(X_test, y_test)))"
      ],
      "metadata": {
        "colab": {
          "base_uri": "https://localhost:8080/"
        },
        "id": "xmSMmLhdeE_c",
        "outputId": "09a6fae1-77ae-45ea-b785-8a60a39290db"
      },
      "execution_count": 35,
      "outputs": [
        {
          "output_type": "stream",
          "name": "stdout",
          "text": [
            "Test set score: 0.97\n"
          ]
        }
      ]
    },
    {
      "cell_type": "markdown",
      "source": [
        "- **매개변수를 선택하는 데 테스트 세트를 사용 X**\n"
      ],
      "metadata": {
        "id": "zj2HXxM9eoGB"
      }
    },
    {
      "cell_type": "code",
      "source": [
        "# 선택한 매개변수 : best_params_ 속성에 저장\n",
        "# 최상의 교차 검증 정확도 : best_score_에 저장\n",
        "print(\"Best parameters:\", grid_search.best_params_)\n",
        "print(\"Best cross-validation score: {:.2f}\".format(grid_search.best_score_))"
      ],
      "metadata": {
        "colab": {
          "base_uri": "https://localhost:8080/"
        },
        "id": "GLjdu4xceiTk",
        "outputId": "19f23fb2-2f0a-4b03-f8c5-2f4ccefdb250"
      },
      "execution_count": 36,
      "outputs": [
        {
          "output_type": "stream",
          "name": "stdout",
          "text": [
            "Best parameters: {'C': 10, 'gamma': 0.1}\n",
            "Best cross-validation score: 0.97\n"
          ]
        }
      ]
    },
    {
      "cell_type": "code",
      "source": [
        "# 실제 모델에 직접 접근이 필요한 경우(ex. 계수 or 특성 중요도)\n",
        "print(\"최고 성능 모델:\\n\", grid_search.best_estimator_)"
      ],
      "metadata": {
        "colab": {
          "base_uri": "https://localhost:8080/"
        },
        "id": "ULtDKve0fNBV",
        "outputId": "1f299a29-c663-4733-838a-edf44c9015b3"
      },
      "execution_count": 37,
      "outputs": [
        {
          "output_type": "stream",
          "name": "stdout",
          "text": [
            "최고 성능 모델:\n",
            " SVC(C=10, gamma=0.1)\n"
          ]
        }
      ]
    },
    {
      "cell_type": "markdown",
      "source": [
        "#### 교차 검증 결과 분석\n",
        "\n",
        "- 교차 검증의 결과를 시각화하면 검색 대상 매개변수가 모델의 일반화에 영향을 얼마나 주는지 이해하는 데 도움이 됨.\n",
        "\n",
        "- 그리드 서치는 연산 비용이 매우 크므로 비교적 간격을 넓게 하여 적은 수의 그리드로 시작하는 것이 좋음\n",
        "\n",
        "- 딕션너리 cv_results_ 속성 : 검색과 관련한 여러 정보가 함께 저장되어 있음"
      ],
      "metadata": {
        "id": "aeGy7uXkgbny"
      }
    },
    {
      "cell_type": "code",
      "source": [
        "pd.set_option('display.max_columns', None)\n",
        "# DataFrame으로 변환\n",
        "results = pd.DataFrame(grid_search.cv_results_)\n",
        "# 처음 다섯 개 행을 출력\n",
        "np.transpose(results.head())"
      ],
      "metadata": {
        "colab": {
          "base_uri": "https://localhost:8080/",
          "height": 739
        },
        "id": "vaW26k1YgIN_",
        "outputId": "e6d6f678-3b69-4214-e6cd-336b3d26c156"
      },
      "execution_count": 38,
      "outputs": [
        {
          "output_type": "execute_result",
          "data": {
            "text/plain": [
              "                                               0                            1  \\\n",
              "mean_fit_time                           0.005432                     0.003076   \n",
              "std_fit_time                            0.003427                     0.002859   \n",
              "mean_score_time                         0.000994                     0.000746   \n",
              "std_score_time                          0.000464                     0.000146   \n",
              "param_C                                    0.001                        0.001   \n",
              "param_gamma                                0.001                         0.01   \n",
              "params              {'C': 0.001, 'gamma': 0.001}  {'C': 0.001, 'gamma': 0.01}   \n",
              "split0_test_score                       0.347826                     0.347826   \n",
              "split1_test_score                       0.347826                     0.347826   \n",
              "split2_test_score                       0.363636                     0.363636   \n",
              "split3_test_score                       0.363636                     0.363636   \n",
              "split4_test_score                       0.409091                     0.409091   \n",
              "mean_test_score                         0.366403                     0.366403   \n",
              "std_test_score                          0.022485                     0.022485   \n",
              "rank_test_score                               22                           22   \n",
              "split0_train_score                      0.370787                     0.370787   \n",
              "split1_train_score                      0.370787                     0.370787   \n",
              "split2_train_score                      0.366667                     0.366667   \n",
              "split3_train_score                      0.366667                     0.366667   \n",
              "split4_train_score                      0.355556                     0.355556   \n",
              "mean_train_score                        0.366092                     0.366092   \n",
              "std_train_score                         0.005581                     0.005581   \n",
              "\n",
              "                                             2                         3  \\\n",
              "mean_fit_time                         0.006642                  0.001592   \n",
              "std_fit_time                          0.008792                  0.000037   \n",
              "mean_score_time                       0.000777                   0.00068   \n",
              "std_score_time                        0.000075                  0.000027   \n",
              "param_C                                  0.001                     0.001   \n",
              "param_gamma                                0.1                         1   \n",
              "params              {'C': 0.001, 'gamma': 0.1}  {'C': 0.001, 'gamma': 1}   \n",
              "split0_test_score                     0.347826                  0.347826   \n",
              "split1_test_score                     0.347826                  0.347826   \n",
              "split2_test_score                     0.363636                  0.363636   \n",
              "split3_test_score                     0.363636                  0.363636   \n",
              "split4_test_score                     0.409091                  0.409091   \n",
              "mean_test_score                       0.366403                  0.366403   \n",
              "std_test_score                        0.022485                  0.022485   \n",
              "rank_test_score                             22                        22   \n",
              "split0_train_score                    0.370787                  0.370787   \n",
              "split1_train_score                    0.370787                  0.370787   \n",
              "split2_train_score                    0.366667                  0.366667   \n",
              "split3_train_score                    0.366667                  0.366667   \n",
              "split4_train_score                    0.355556                  0.355556   \n",
              "mean_train_score                      0.366092                  0.366092   \n",
              "std_train_score                       0.005581                  0.005581   \n",
              "\n",
              "                                            4  \n",
              "mean_fit_time                        0.001543  \n",
              "std_fit_time                         0.000087  \n",
              "mean_score_time                      0.000667  \n",
              "std_score_time                       0.000023  \n",
              "param_C                                 0.001  \n",
              "param_gamma                                10  \n",
              "params              {'C': 0.001, 'gamma': 10}  \n",
              "split0_test_score                    0.347826  \n",
              "split1_test_score                    0.347826  \n",
              "split2_test_score                    0.363636  \n",
              "split3_test_score                    0.363636  \n",
              "split4_test_score                    0.409091  \n",
              "mean_test_score                      0.366403  \n",
              "std_test_score                       0.022485  \n",
              "rank_test_score                            22  \n",
              "split0_train_score                   0.370787  \n",
              "split1_train_score                   0.370787  \n",
              "split2_train_score                   0.366667  \n",
              "split3_train_score                   0.366667  \n",
              "split4_train_score                   0.355556  \n",
              "mean_train_score                     0.366092  \n",
              "std_train_score                      0.005581  "
            ],
            "text/html": [
              "\n",
              "  <div id=\"df-ea76838f-5c96-431a-9e3e-a366e64c52b5\">\n",
              "    <div class=\"colab-df-container\">\n",
              "      <div>\n",
              "<style scoped>\n",
              "    .dataframe tbody tr th:only-of-type {\n",
              "        vertical-align: middle;\n",
              "    }\n",
              "\n",
              "    .dataframe tbody tr th {\n",
              "        vertical-align: top;\n",
              "    }\n",
              "\n",
              "    .dataframe thead th {\n",
              "        text-align: right;\n",
              "    }\n",
              "</style>\n",
              "<table border=\"1\" class=\"dataframe\">\n",
              "  <thead>\n",
              "    <tr style=\"text-align: right;\">\n",
              "      <th></th>\n",
              "      <th>0</th>\n",
              "      <th>1</th>\n",
              "      <th>2</th>\n",
              "      <th>3</th>\n",
              "      <th>4</th>\n",
              "    </tr>\n",
              "  </thead>\n",
              "  <tbody>\n",
              "    <tr>\n",
              "      <th>mean_fit_time</th>\n",
              "      <td>0.005432</td>\n",
              "      <td>0.003076</td>\n",
              "      <td>0.006642</td>\n",
              "      <td>0.001592</td>\n",
              "      <td>0.001543</td>\n",
              "    </tr>\n",
              "    <tr>\n",
              "      <th>std_fit_time</th>\n",
              "      <td>0.003427</td>\n",
              "      <td>0.002859</td>\n",
              "      <td>0.008792</td>\n",
              "      <td>0.000037</td>\n",
              "      <td>0.000087</td>\n",
              "    </tr>\n",
              "    <tr>\n",
              "      <th>mean_score_time</th>\n",
              "      <td>0.000994</td>\n",
              "      <td>0.000746</td>\n",
              "      <td>0.000777</td>\n",
              "      <td>0.00068</td>\n",
              "      <td>0.000667</td>\n",
              "    </tr>\n",
              "    <tr>\n",
              "      <th>std_score_time</th>\n",
              "      <td>0.000464</td>\n",
              "      <td>0.000146</td>\n",
              "      <td>0.000075</td>\n",
              "      <td>0.000027</td>\n",
              "      <td>0.000023</td>\n",
              "    </tr>\n",
              "    <tr>\n",
              "      <th>param_C</th>\n",
              "      <td>0.001</td>\n",
              "      <td>0.001</td>\n",
              "      <td>0.001</td>\n",
              "      <td>0.001</td>\n",
              "      <td>0.001</td>\n",
              "    </tr>\n",
              "    <tr>\n",
              "      <th>param_gamma</th>\n",
              "      <td>0.001</td>\n",
              "      <td>0.01</td>\n",
              "      <td>0.1</td>\n",
              "      <td>1</td>\n",
              "      <td>10</td>\n",
              "    </tr>\n",
              "    <tr>\n",
              "      <th>params</th>\n",
              "      <td>{'C': 0.001, 'gamma': 0.001}</td>\n",
              "      <td>{'C': 0.001, 'gamma': 0.01}</td>\n",
              "      <td>{'C': 0.001, 'gamma': 0.1}</td>\n",
              "      <td>{'C': 0.001, 'gamma': 1}</td>\n",
              "      <td>{'C': 0.001, 'gamma': 10}</td>\n",
              "    </tr>\n",
              "    <tr>\n",
              "      <th>split0_test_score</th>\n",
              "      <td>0.347826</td>\n",
              "      <td>0.347826</td>\n",
              "      <td>0.347826</td>\n",
              "      <td>0.347826</td>\n",
              "      <td>0.347826</td>\n",
              "    </tr>\n",
              "    <tr>\n",
              "      <th>split1_test_score</th>\n",
              "      <td>0.347826</td>\n",
              "      <td>0.347826</td>\n",
              "      <td>0.347826</td>\n",
              "      <td>0.347826</td>\n",
              "      <td>0.347826</td>\n",
              "    </tr>\n",
              "    <tr>\n",
              "      <th>split2_test_score</th>\n",
              "      <td>0.363636</td>\n",
              "      <td>0.363636</td>\n",
              "      <td>0.363636</td>\n",
              "      <td>0.363636</td>\n",
              "      <td>0.363636</td>\n",
              "    </tr>\n",
              "    <tr>\n",
              "      <th>split3_test_score</th>\n",
              "      <td>0.363636</td>\n",
              "      <td>0.363636</td>\n",
              "      <td>0.363636</td>\n",
              "      <td>0.363636</td>\n",
              "      <td>0.363636</td>\n",
              "    </tr>\n",
              "    <tr>\n",
              "      <th>split4_test_score</th>\n",
              "      <td>0.409091</td>\n",
              "      <td>0.409091</td>\n",
              "      <td>0.409091</td>\n",
              "      <td>0.409091</td>\n",
              "      <td>0.409091</td>\n",
              "    </tr>\n",
              "    <tr>\n",
              "      <th>mean_test_score</th>\n",
              "      <td>0.366403</td>\n",
              "      <td>0.366403</td>\n",
              "      <td>0.366403</td>\n",
              "      <td>0.366403</td>\n",
              "      <td>0.366403</td>\n",
              "    </tr>\n",
              "    <tr>\n",
              "      <th>std_test_score</th>\n",
              "      <td>0.022485</td>\n",
              "      <td>0.022485</td>\n",
              "      <td>0.022485</td>\n",
              "      <td>0.022485</td>\n",
              "      <td>0.022485</td>\n",
              "    </tr>\n",
              "    <tr>\n",
              "      <th>rank_test_score</th>\n",
              "      <td>22</td>\n",
              "      <td>22</td>\n",
              "      <td>22</td>\n",
              "      <td>22</td>\n",
              "      <td>22</td>\n",
              "    </tr>\n",
              "    <tr>\n",
              "      <th>split0_train_score</th>\n",
              "      <td>0.370787</td>\n",
              "      <td>0.370787</td>\n",
              "      <td>0.370787</td>\n",
              "      <td>0.370787</td>\n",
              "      <td>0.370787</td>\n",
              "    </tr>\n",
              "    <tr>\n",
              "      <th>split1_train_score</th>\n",
              "      <td>0.370787</td>\n",
              "      <td>0.370787</td>\n",
              "      <td>0.370787</td>\n",
              "      <td>0.370787</td>\n",
              "      <td>0.370787</td>\n",
              "    </tr>\n",
              "    <tr>\n",
              "      <th>split2_train_score</th>\n",
              "      <td>0.366667</td>\n",
              "      <td>0.366667</td>\n",
              "      <td>0.366667</td>\n",
              "      <td>0.366667</td>\n",
              "      <td>0.366667</td>\n",
              "    </tr>\n",
              "    <tr>\n",
              "      <th>split3_train_score</th>\n",
              "      <td>0.366667</td>\n",
              "      <td>0.366667</td>\n",
              "      <td>0.366667</td>\n",
              "      <td>0.366667</td>\n",
              "      <td>0.366667</td>\n",
              "    </tr>\n",
              "    <tr>\n",
              "      <th>split4_train_score</th>\n",
              "      <td>0.355556</td>\n",
              "      <td>0.355556</td>\n",
              "      <td>0.355556</td>\n",
              "      <td>0.355556</td>\n",
              "      <td>0.355556</td>\n",
              "    </tr>\n",
              "    <tr>\n",
              "      <th>mean_train_score</th>\n",
              "      <td>0.366092</td>\n",
              "      <td>0.366092</td>\n",
              "      <td>0.366092</td>\n",
              "      <td>0.366092</td>\n",
              "      <td>0.366092</td>\n",
              "    </tr>\n",
              "    <tr>\n",
              "      <th>std_train_score</th>\n",
              "      <td>0.005581</td>\n",
              "      <td>0.005581</td>\n",
              "      <td>0.005581</td>\n",
              "      <td>0.005581</td>\n",
              "      <td>0.005581</td>\n",
              "    </tr>\n",
              "  </tbody>\n",
              "</table>\n",
              "</div>\n",
              "      <button class=\"colab-df-convert\" onclick=\"convertToInteractive('df-ea76838f-5c96-431a-9e3e-a366e64c52b5')\"\n",
              "              title=\"Convert this dataframe to an interactive table.\"\n",
              "              style=\"display:none;\">\n",
              "        \n",
              "  <svg xmlns=\"http://www.w3.org/2000/svg\" height=\"24px\"viewBox=\"0 0 24 24\"\n",
              "       width=\"24px\">\n",
              "    <path d=\"M0 0h24v24H0V0z\" fill=\"none\"/>\n",
              "    <path d=\"M18.56 5.44l.94 2.06.94-2.06 2.06-.94-2.06-.94-.94-2.06-.94 2.06-2.06.94zm-11 1L8.5 8.5l.94-2.06 2.06-.94-2.06-.94L8.5 2.5l-.94 2.06-2.06.94zm10 10l.94 2.06.94-2.06 2.06-.94-2.06-.94-.94-2.06-.94 2.06-2.06.94z\"/><path d=\"M17.41 7.96l-1.37-1.37c-.4-.4-.92-.59-1.43-.59-.52 0-1.04.2-1.43.59L10.3 9.45l-7.72 7.72c-.78.78-.78 2.05 0 2.83L4 21.41c.39.39.9.59 1.41.59.51 0 1.02-.2 1.41-.59l7.78-7.78 2.81-2.81c.8-.78.8-2.07 0-2.86zM5.41 20L4 18.59l7.72-7.72 1.47 1.35L5.41 20z\"/>\n",
              "  </svg>\n",
              "      </button>\n",
              "      \n",
              "  <style>\n",
              "    .colab-df-container {\n",
              "      display:flex;\n",
              "      flex-wrap:wrap;\n",
              "      gap: 12px;\n",
              "    }\n",
              "\n",
              "    .colab-df-convert {\n",
              "      background-color: #E8F0FE;\n",
              "      border: none;\n",
              "      border-radius: 50%;\n",
              "      cursor: pointer;\n",
              "      display: none;\n",
              "      fill: #1967D2;\n",
              "      height: 32px;\n",
              "      padding: 0 0 0 0;\n",
              "      width: 32px;\n",
              "    }\n",
              "\n",
              "    .colab-df-convert:hover {\n",
              "      background-color: #E2EBFA;\n",
              "      box-shadow: 0px 1px 2px rgba(60, 64, 67, 0.3), 0px 1px 3px 1px rgba(60, 64, 67, 0.15);\n",
              "      fill: #174EA6;\n",
              "    }\n",
              "\n",
              "    [theme=dark] .colab-df-convert {\n",
              "      background-color: #3B4455;\n",
              "      fill: #D2E3FC;\n",
              "    }\n",
              "\n",
              "    [theme=dark] .colab-df-convert:hover {\n",
              "      background-color: #434B5C;\n",
              "      box-shadow: 0px 1px 3px 1px rgba(0, 0, 0, 0.15);\n",
              "      filter: drop-shadow(0px 1px 2px rgba(0, 0, 0, 0.3));\n",
              "      fill: #FFFFFF;\n",
              "    }\n",
              "  </style>\n",
              "\n",
              "      <script>\n",
              "        const buttonEl =\n",
              "          document.querySelector('#df-ea76838f-5c96-431a-9e3e-a366e64c52b5 button.colab-df-convert');\n",
              "        buttonEl.style.display =\n",
              "          google.colab.kernel.accessAllowed ? 'block' : 'none';\n",
              "\n",
              "        async function convertToInteractive(key) {\n",
              "          const element = document.querySelector('#df-ea76838f-5c96-431a-9e3e-a366e64c52b5');\n",
              "          const dataTable =\n",
              "            await google.colab.kernel.invokeFunction('convertToInteractive',\n",
              "                                                     [key], {});\n",
              "          if (!dataTable) return;\n",
              "\n",
              "          const docLinkHtml = 'Like what you see? Visit the ' +\n",
              "            '<a target=\"_blank\" href=https://colab.research.google.com/notebooks/data_table.ipynb>data table notebook</a>'\n",
              "            + ' to learn more about interactive tables.';\n",
              "          element.innerHTML = '';\n",
              "          dataTable['output_type'] = 'display_data';\n",
              "          await google.colab.output.renderOutput(dataTable, element);\n",
              "          const docLink = document.createElement('div');\n",
              "          docLink.innerHTML = docLinkHtml;\n",
              "          element.appendChild(docLink);\n",
              "        }\n",
              "      </script>\n",
              "    </div>\n",
              "  </div>\n",
              "  "
            ]
          },
          "metadata": {},
          "execution_count": 38
        }
      ]
    },
    {
      "cell_type": "markdown",
      "source": [
        "**출력된 표 분석**\n",
        "\n",
        "- results의 행 하나는 특정한 하나의 매개변수 설정에 대응"
      ],
      "metadata": {
        "id": "brr5MVGRjAfR"
      }
    },
    {
      "cell_type": "code",
      "source": [
        "scores = np.array(results.mean_test_score).reshape(6, 6)\n",
        "\n",
        "# 교차 검증 평균 점수 히트맵 그래프\n",
        "mglearn.tools.heatmap(scores, xlabel = 'gamma', xticklabels = param_grid['gamma'], ylabel = 'C', yticklabels = param_grid['C'], cmap = \"viridis\")\n",
        "plt.show()"
      ],
      "metadata": {
        "colab": {
          "base_uri": "https://localhost:8080/",
          "height": 279
        },
        "id": "-QIpc4Wqi05l",
        "outputId": "62b6c967-5833-475a-d424-5e949e70c69f"
      },
      "execution_count": 39,
      "outputs": [
        {
          "output_type": "display_data",
          "data": {
            "text/plain": [
              "<Figure size 432x288 with 1 Axes>"
            ],
            "image/png": "[encoded data removed]"
          },
          "metadata": {
            "needs_background": "light"
          }
        }
      ]
    },
    {
      "cell_type": "markdown",
      "source": [
        "**히트맵 분석**\n",
        "\n",
        "- 히트맵의 각 포인트는 특정 매개변수 설정에 대한 교차 검증 실행을 나타냄\n",
        "\n",
        "- 교차 검증의 정확도가 높으면 밝은 색으로, 낮으면 어두운 색을 나타남\n",
        "\n",
        "- SVC가 매개변수 설정에 매우 민감함\n",
        "\n",
        "- 각 매개변수의 최적값이 그래프 끝에 놓이지 않도록 매개변수의 범위가 충분히 넓음"
      ],
      "metadata": {
        "id": "sCeSjxzykMLi"
      }
    },
    {
      "cell_type": "code",
      "source": [
        "fig, axes = plt.subplots(1, 3, figsize = (13, 5))\n",
        "\n",
        "param_grid_linear = {'C' : np.linspace(1, 2, 6), 'gamma': np.linspace(1, 2, 6)}\n",
        "\n",
        "param_grid_one_log = {'C': np.linspace(1, 2, 6), 'gamma' : np.logspace(-3, 2, 6)}\n",
        "\n",
        "param_grid_range = {'C' : np.logspace(-3, 2, 6), 'gamma': np.logspace(-7, -2, 6)}\n",
        "\n",
        "for param_grid, ax in zip([param_grid_linear, param_grid_one_log, param_grid_range], axes):\n",
        "  grid_search = GridSearchCV(SVC(), param_grid, cv = 5)\n",
        "  grid_search.fit(X_train, y_train)\n",
        "  scores = grid_search.cv_results_['mean_test_score'].reshape(6, 6)\n",
        "\n",
        "  # 교차 검증 평균 점수의 히트맵 그래프\n",
        "  scores_image = mglearn.tools.heatmap(\n",
        "      scores, xlabel = 'gamma', ylabel = 'C', xticklabels = param_grid['gamma'],\n",
        "      yticklabels = param_grid['C'], cmap = \"viridis\", ax = ax, vmin = 0.3, vmax = 0.9)\n",
        "plt.colorbar(scores_image, ax= axes.tolist())\n",
        "plt.show()"
      ],
      "metadata": {
        "colab": {
          "base_uri": "https://localhost:8080/",
          "height": 313
        },
        "id": "tgvagY3GjofH",
        "outputId": "783cbb58-7ed0-4bee-eed2-2e21550212e5"
      },
      "execution_count": 40,
      "outputs": [
        {
          "output_type": "display_data",
          "data": {
            "text/plain": [
              "<Figure size 936x360 with 4 Axes>"
            ],
            "image/png": "[encoded data removed]"
          },
          "metadata": {
            "needs_background": "light"
          }
        }
      ]
    },
    {
      "cell_type": "markdown",
      "source": [
        "**히트맵 분석**\n",
        "\n",
        "1) 그래프의 점수 변화가 거의 없어서 전체 매개변수 그리드가 같은 색인 히트맵\n",
        "\n",
        "- 매개변수 C와 gamma의 스케일과 범위가 부적절할 때 발생\n",
        "\n",
        "- 매개변수 설정이 바뀌어도 변화가 없다면 그 매개변수가 전혀 중요하지 않은 것일 수 있음\n",
        "\n",
        "2) 세로 띠 형태를 보이는 히트맵\n",
        "\n",
        "- gamma 매개변수만 정확도에 영향을 줌\n",
        "\n",
        "- gamma 매개변수는 적절한 범위를 탐색하고 있지만, C 매개변수는 그렇지 못하거나 중요한 매개변수가 아님\n",
        "\n",
        "3) C와 gamma 둘 모두에 따라 값이 변하지만 왼쪽 아래는 변화가 없는 히트맵\n",
        "\n",
        "- 다음 번 검색 땐 매개변수 그리드에서 매우 작은 단위는 제외\n",
        "\n",
        "- 최적치가 그래프의 경계에 존재 &rarr; 경계 너머에 더 나은 값이 있다고 예상"
      ],
      "metadata": {
        "id": "5Kt9OcjNm0wW"
      }
    },
    {
      "cell_type": "markdown",
      "source": [
        "교차 검증 점수를 토대로 매개변수 그리드를 튜닝하는 것이 아주 안전한 방법이며, 매개변수들의 중요도를 확인하는 것이 좋다.\n",
        "\n",
        "**최종 테스트 세트를 대상으로 여러 매개변수 범위를 테스트해서는 안되며, 사용할 모델을 정확히 정한 뒤 딱 한 번만 사용해야한다.**"
      ],
      "metadata": {
        "id": "bi6t8FzToify"
      }
    },
    {
      "cell_type": "markdown",
      "source": [
        "#### 비대칭 매개변수 그리드 탐색\n",
        "\n",
        "어떤 경우에는 모든 매개변수의 조합에 대해 GridSearchCV를 수행하는 것잉 좋은 방법이 아닐 수 있다.\n",
        "\n",
        "*ex) SVC*\n",
        "\n",
        "1) kernel = 'linear' 인 경우\n",
        "\n",
        "- 선형 모델이며 C 매개변수만 사용\n",
        "\n",
        "2) kernel = 'rbf' 인 경우\n",
        "\n",
        "- C와 gamma를 모두 사용\n",
        "\n",
        "*kernel = 'linear' 이면 gamma의 값에 대해 조사하는 것은 시간 낭비이다.\n",
        "\n",
        "**조건부 매개변수 조합을 사용하려면 param_grid를 딕션너리 리스트로 만들어 전달**"
      ],
      "metadata": {
        "id": "cDYfChUxo_GQ"
      }
    },
    {
      "cell_type": "code",
      "source": [
        "param_grid = [{'kernel': ['rbf'], 'C' : [0.001, 0.01, 0.1, 1, 10, 100], 'gamma' : [0.001, 0.01, 0.1, 1, 10, 100]},\n",
        "              {'kernel': ['linear'], 'C' : [0.001, 0.01, 0.1, 1, 10, 100]}]\n",
        "\n",
        "print(\"Grid list:\\n\", param_grid)"
      ],
      "metadata": {
        "colab": {
          "base_uri": "https://localhost:8080/"
        },
        "id": "JloTX4BcmUyZ",
        "outputId": "33d9dea6-16f7-4f75-bd90-c06be80e293f"
      },
      "execution_count": 41,
      "outputs": [
        {
          "output_type": "stream",
          "name": "stdout",
          "text": [
            "Grid list:\n",
            " [{'kernel': ['rbf'], 'C': [0.001, 0.01, 0.1, 1, 10, 100], 'gamma': [0.001, 0.01, 0.1, 1, 10, 100]}, {'kernel': ['linear'], 'C': [0.001, 0.01, 0.1, 1, 10, 100]}]\n"
          ]
        }
      ]
    },
    {
      "cell_type": "markdown",
      "source": [
        "- 첫 번째 그리드에서 kernel 매개변수는 rbf로 고정되고 C와 gamma 두 매개변수는 바뀜\n",
        "\n",
        "- 두 번째 그리드에서 kernel 매개변수는 linear로 고정되고 C만 바뀜\n"
      ],
      "metadata": {
        "id": "vJRNcGXKq7g0"
      }
    },
    {
      "cell_type": "code",
      "source": [
        "grid_search = GridSearchCV(SVC(), param_grid, cv = 5, return_train_score = True)\n",
        "grid_search.fit(X_train, y_train)\n",
        "print(\"Best parameters:\", grid_search.best_params_)\n",
        "print(\"Best cross-validation score: {:.2f}\".format(grid_search.best_score_))"
      ],
      "metadata": {
        "colab": {
          "base_uri": "https://localhost:8080/"
        },
        "id": "QXG7KPKaqfPn",
        "outputId": "7184621c-4de3-4d40-9acd-16993af77d9b"
      },
      "execution_count": 42,
      "outputs": [
        {
          "output_type": "stream",
          "name": "stdout",
          "text": [
            "Best parameters: {'C': 10, 'gamma': 0.1, 'kernel': 'rbf'}\n",
            "Best cross-validation score: 0.97\n"
          ]
        }
      ]
    },
    {
      "cell_type": "code",
      "source": [
        "results = pd.DataFrame(grid_search.cv_results_)\n",
        "# 좀 더 나은 출력을 위해 결과를 전치\n",
        "results.T"
      ],
      "metadata": {
        "colab": {
          "base_uri": "https://localhost:8080/",
          "height": 921
        },
        "id": "tAvJsptxq68x",
        "outputId": "04c2fad3-0a27-4759-f5e1-205406714db3"
      },
      "execution_count": 43,
      "outputs": [
        {
          "output_type": "execute_result",
          "data": {
            "text/plain": [
              "                                                               0   \\\n",
              "mean_fit_time                                            0.001876   \n",
              "std_fit_time                                             0.000075   \n",
              "mean_score_time                                          0.000778   \n",
              "std_score_time                                           0.000088   \n",
              "param_C                                                     0.001   \n",
              "param_gamma                                                 0.001   \n",
              "param_kernel                                                  rbf   \n",
              "params              {'C': 0.001, 'gamma': 0.001, 'kernel': 'rbf'}   \n",
              "split0_test_score                                        0.347826   \n",
              "split1_test_score                                        0.347826   \n",
              "split2_test_score                                        0.363636   \n",
              "split3_test_score                                        0.363636   \n",
              "split4_test_score                                        0.409091   \n",
              "mean_test_score                                          0.366403   \n",
              "std_test_score                                           0.022485   \n",
              "rank_test_score                                                27   \n",
              "split0_train_score                                       0.370787   \n",
              "split1_train_score                                       0.370787   \n",
              "split2_train_score                                       0.366667   \n",
              "split3_train_score                                       0.366667   \n",
              "split4_train_score                                       0.355556   \n",
              "mean_train_score                                         0.366092   \n",
              "std_train_score                                          0.005581   \n",
              "\n",
              "                                                              1   \\\n",
              "mean_fit_time                                           0.001615   \n",
              "std_fit_time                                            0.000055   \n",
              "mean_score_time                                         0.000685   \n",
              "std_score_time                                          0.000029   \n",
              "param_C                                                    0.001   \n",
              "param_gamma                                                 0.01   \n",
              "param_kernel                                                 rbf   \n",
              "params              {'C': 0.001, 'gamma': 0.01, 'kernel': 'rbf'}   \n",
              "split0_test_score                                       0.347826   \n",
              "split1_test_score                                       0.347826   \n",
              "split2_test_score                                       0.363636   \n",
              "split3_test_score                                       0.363636   \n",
              "split4_test_score                                       0.409091   \n",
              "mean_test_score                                         0.366403   \n",
              "std_test_score                                          0.022485   \n",
              "rank_test_score                                               27   \n",
              "split0_train_score                                      0.370787   \n",
              "split1_train_score                                      0.370787   \n",
              "split2_train_score                                      0.366667   \n",
              "split3_train_score                                      0.366667   \n",
              "split4_train_score                                      0.355556   \n",
              "mean_train_score                                        0.366092   \n",
              "std_train_score                                         0.005581   \n",
              "\n",
              "                                                             2   \\\n",
              "mean_fit_time                                          0.001666   \n",
              "std_fit_time                                           0.000059   \n",
              "mean_score_time                                        0.000692   \n",
              "std_score_time                                         0.000036   \n",
              "param_C                                                   0.001   \n",
              "param_gamma                                                 0.1   \n",
              "param_kernel                                                rbf   \n",
              "params              {'C': 0.001, 'gamma': 0.1, 'kernel': 'rbf'}   \n",
              "split0_test_score                                      0.347826   \n",
              "split1_test_score                                      0.347826   \n",
              "split2_test_score                                      0.363636   \n",
              "split3_test_score                                      0.363636   \n",
              "split4_test_score                                      0.409091   \n",
              "mean_test_score                                        0.366403   \n",
              "std_test_score                                         0.022485   \n",
              "rank_test_score                                              27   \n",
              "split0_train_score                                     0.370787   \n",
              "split1_train_score                                     0.370787   \n",
              "split2_train_score                                     0.366667   \n",
              "split3_train_score                                     0.366667   \n",
              "split4_train_score                                     0.355556   \n",
              "mean_train_score                                       0.366092   \n",
              "std_train_score                                        0.005581   \n",
              "\n",
              "                                                           3   \\\n",
              "mean_fit_time                                        0.001647   \n",
              "std_fit_time                                         0.000016   \n",
              "mean_score_time                                      0.000679   \n",
              "std_score_time                                       0.000025   \n",
              "param_C                                                 0.001   \n",
              "param_gamma                                                 1   \n",
              "param_kernel                                              rbf   \n",
              "params              {'C': 0.001, 'gamma': 1, 'kernel': 'rbf'}   \n",
              "split0_test_score                                    0.347826   \n",
              "split1_test_score                                    0.347826   \n",
              "split2_test_score                                    0.363636   \n",
              "split3_test_score                                    0.363636   \n",
              "split4_test_score                                    0.409091   \n",
              "mean_test_score                                      0.366403   \n",
              "std_test_score                                       0.022485   \n",
              "rank_test_score                                            27   \n",
              "split0_train_score                                   0.370787   \n",
              "split1_train_score                                   0.370787   \n",
              "split2_train_score                                   0.366667   \n",
              "split3_train_score                                   0.366667   \n",
              "split4_train_score                                   0.355556   \n",
              "mean_train_score                                     0.366092   \n",
              "std_train_score                                      0.005581   \n",
              "\n",
              "                                                            4   \\\n",
              "mean_fit_time                                          0.00187   \n",
              "std_fit_time                                          0.000249   \n",
              "mean_score_time                                       0.000705   \n",
              "std_score_time                                        0.000034   \n",
              "param_C                                                  0.001   \n",
              "param_gamma                                                 10   \n",
              "param_kernel                                               rbf   \n",
              "params              {'C': 0.001, 'gamma': 10, 'kernel': 'rbf'}   \n",
              "split0_test_score                                     0.347826   \n",
              "split1_test_score                                     0.347826   \n",
              "split2_test_score                                     0.363636   \n",
              "split3_test_score                                     0.363636   \n",
              "split4_test_score                                     0.409091   \n",
              "mean_test_score                                       0.366403   \n",
              "std_test_score                                        0.022485   \n",
              "rank_test_score                                             27   \n",
              "split0_train_score                                    0.370787   \n",
              "split1_train_score                                    0.370787   \n",
              "split2_train_score                                    0.366667   \n",
              "split3_train_score                                    0.366667   \n",
              "split4_train_score                                    0.355556   \n",
              "mean_train_score                                      0.366092   \n",
              "std_train_score                                       0.005581   \n",
              "\n",
              "                                                             5   \\\n",
              "mean_fit_time                                          0.001857   \n",
              "std_fit_time                                           0.000126   \n",
              "mean_score_time                                        0.000704   \n",
              "std_score_time                                         0.000033   \n",
              "param_C                                                   0.001   \n",
              "param_gamma                                                 100   \n",
              "param_kernel                                                rbf   \n",
              "params              {'C': 0.001, 'gamma': 100, 'kernel': 'rbf'}   \n",
              "split0_test_score                                      0.347826   \n",
              "split1_test_score                                      0.347826   \n",
              "split2_test_score                                      0.363636   \n",
              "split3_test_score                                      0.363636   \n",
              "split4_test_score                                      0.409091   \n",
              "mean_test_score                                        0.366403   \n",
              "std_test_score                                         0.022485   \n",
              "rank_test_score                                              27   \n",
              "split0_train_score                                     0.370787   \n",
              "split1_train_score                                     0.370787   \n",
              "split2_train_score                                     0.366667   \n",
              "split3_train_score                                     0.366667   \n",
              "split4_train_score                                     0.355556   \n",
              "mean_train_score                                       0.366092   \n",
              "std_train_score                                        0.005581   \n",
              "\n",
              "                                                              6   \\\n",
              "mean_fit_time                                           0.003216   \n",
              "std_fit_time                                            0.003108   \n",
              "mean_score_time                                         0.001031   \n",
              "std_score_time                                          0.000633   \n",
              "param_C                                                     0.01   \n",
              "param_gamma                                                0.001   \n",
              "param_kernel                                                 rbf   \n",
              "params              {'C': 0.01, 'gamma': 0.001, 'kernel': 'rbf'}   \n",
              "split0_test_score                                       0.347826   \n",
              "split1_test_score                                       0.347826   \n",
              "split2_test_score                                       0.363636   \n",
              "split3_test_score                                       0.363636   \n",
              "split4_test_score                                       0.409091   \n",
              "mean_test_score                                         0.366403   \n",
              "std_test_score                                          0.022485   \n",
              "rank_test_score                                               27   \n",
              "split0_train_score                                      0.370787   \n",
              "split1_train_score                                      0.370787   \n",
              "split2_train_score                                      0.366667   \n",
              "split3_train_score                                      0.366667   \n",
              "split4_train_score                                      0.355556   \n",
              "mean_train_score                                        0.366092   \n",
              "std_train_score                                         0.005581   \n",
              "\n",
              "                                                             7   \\\n",
              "mean_fit_time                                          0.002624   \n",
              "std_fit_time                                           0.001735   \n",
              "mean_score_time                                        0.001727   \n",
              "std_score_time                                          0.00189   \n",
              "param_C                                                    0.01   \n",
              "param_gamma                                                0.01   \n",
              "param_kernel                                                rbf   \n",
              "params              {'C': 0.01, 'gamma': 0.01, 'kernel': 'rbf'}   \n",
              "split0_test_score                                      0.347826   \n",
              "split1_test_score                                      0.347826   \n",
              "split2_test_score                                      0.363636   \n",
              "split3_test_score                                      0.363636   \n",
              "split4_test_score                                      0.409091   \n",
              "mean_test_score                                        0.366403   \n",
              "std_test_score                                         0.022485   \n",
              "rank_test_score                                              27   \n",
              "split0_train_score                                     0.370787   \n",
              "split1_train_score                                     0.370787   \n",
              "split2_train_score                                     0.366667   \n",
              "split3_train_score                                     0.366667   \n",
              "split4_train_score                                     0.355556   \n",
              "mean_train_score                                       0.366092   \n",
              "std_train_score                                        0.005581   \n",
              "\n",
              "                                                            8   \\\n",
              "mean_fit_time                                         0.001688   \n",
              "std_fit_time                                          0.000055   \n",
              "mean_score_time                                       0.000732   \n",
              "std_score_time                                        0.000068   \n",
              "param_C                                                   0.01   \n",
              "param_gamma                                                0.1   \n",
              "param_kernel                                               rbf   \n",
              "params              {'C': 0.01, 'gamma': 0.1, 'kernel': 'rbf'}   \n",
              "split0_test_score                                     0.347826   \n",
              "split1_test_score                                     0.347826   \n",
              "split2_test_score                                     0.363636   \n",
              "split3_test_score                                     0.363636   \n",
              "split4_test_score                                     0.409091   \n",
              "mean_test_score                                       0.366403   \n",
              "std_test_score                                        0.022485   \n",
              "rank_test_score                                             27   \n",
              "split0_train_score                                    0.370787   \n",
              "split1_train_score                                    0.370787   \n",
              "split2_train_score                                    0.366667   \n",
              "split3_train_score                                    0.366667   \n",
              "split4_train_score                                    0.355556   \n",
              "mean_train_score                                      0.366092   \n",
              "std_train_score                                       0.005581   \n",
              "\n",
              "                                                          9   \\\n",
              "mean_fit_time                                       0.001874   \n",
              "std_fit_time                                         0.00024   \n",
              "mean_score_time                                     0.000717   \n",
              "std_score_time                                      0.000045   \n",
              "param_C                                                 0.01   \n",
              "param_gamma                                                1   \n",
              "param_kernel                                             rbf   \n",
              "params              {'C': 0.01, 'gamma': 1, 'kernel': 'rbf'}   \n",
              "split0_test_score                                   0.347826   \n",
              "split1_test_score                                   0.347826   \n",
              "split2_test_score                                   0.363636   \n",
              "split3_test_score                                   0.363636   \n",
              "split4_test_score                                   0.409091   \n",
              "mean_test_score                                     0.366403   \n",
              "std_test_score                                      0.022485   \n",
              "rank_test_score                                           27   \n",
              "split0_train_score                                  0.370787   \n",
              "split1_train_score                                  0.370787   \n",
              "split2_train_score                                  0.366667   \n",
              "split3_train_score                                  0.366667   \n",
              "split4_train_score                                  0.355556   \n",
              "mean_train_score                                    0.366092   \n",
              "std_train_score                                     0.005581   \n",
              "\n",
              "                                                           10  \\\n",
              "mean_fit_time                                        0.001826   \n",
              "std_fit_time                                         0.000152   \n",
              "mean_score_time                                      0.000752   \n",
              "std_score_time                                       0.000047   \n",
              "param_C                                                  0.01   \n",
              "param_gamma                                                10   \n",
              "param_kernel                                              rbf   \n",
              "params              {'C': 0.01, 'gamma': 10, 'kernel': 'rbf'}   \n",
              "split0_test_score                                    0.347826   \n",
              "split1_test_score                                    0.347826   \n",
              "split2_test_score                                    0.363636   \n",
              "split3_test_score                                    0.363636   \n",
              "split4_test_score                                    0.409091   \n",
              "mean_test_score                                      0.366403   \n",
              "std_test_score                                       0.022485   \n",
              "rank_test_score                                            27   \n",
              "split0_train_score                                   0.370787   \n",
              "split1_train_score                                   0.370787   \n",
              "split2_train_score                                   0.366667   \n",
              "split3_train_score                                   0.366667   \n",
              "split4_train_score                                   0.355556   \n",
              "mean_train_score                                     0.366092   \n",
              "std_train_score                                      0.005581   \n",
              "\n",
              "                                                            11  \\\n",
              "mean_fit_time                                         0.001869   \n",
              "std_fit_time                                          0.000043   \n",
              "mean_score_time                                       0.000709   \n",
              "std_score_time                                        0.000014   \n",
              "param_C                                                   0.01   \n",
              "param_gamma                                                100   \n",
              "param_kernel                                               rbf   \n",
              "params              {'C': 0.01, 'gamma': 100, 'kernel': 'rbf'}   \n",
              "split0_test_score                                     0.347826   \n",
              "split1_test_score                                     0.347826   \n",
              "split2_test_score                                     0.363636   \n",
              "split3_test_score                                     0.363636   \n",
              "split4_test_score                                     0.409091   \n",
              "mean_test_score                                       0.366403   \n",
              "std_test_score                                        0.022485   \n",
              "rank_test_score                                             27   \n",
              "split0_train_score                                    0.370787   \n",
              "split1_train_score                                    0.370787   \n",
              "split2_train_score                                    0.366667   \n",
              "split3_train_score                                    0.366667   \n",
              "split4_train_score                                    0.355556   \n",
              "mean_train_score                                      0.366092   \n",
              "std_train_score                                       0.005581   \n",
              "\n",
              "                                                             12  \\\n",
              "mean_fit_time                                          0.001598   \n",
              "std_fit_time                                           0.000095   \n",
              "mean_score_time                                        0.000666   \n",
              "std_score_time                                         0.000034   \n",
              "param_C                                                     0.1   \n",
              "param_gamma                                               0.001   \n",
              "param_kernel                                                rbf   \n",
              "params              {'C': 0.1, 'gamma': 0.001, 'kernel': 'rbf'}   \n",
              "split0_test_score                                      0.347826   \n",
              "split1_test_score                                      0.347826   \n",
              "split2_test_score                                      0.363636   \n",
              "split3_test_score                                      0.363636   \n",
              "split4_test_score                                      0.409091   \n",
              "mean_test_score                                        0.366403   \n",
              "std_test_score                                         0.022485   \n",
              "rank_test_score                                              27   \n",
              "split0_train_score                                     0.370787   \n",
              "split1_train_score                                     0.370787   \n",
              "split2_train_score                                     0.366667   \n",
              "split3_train_score                                     0.366667   \n",
              "split4_train_score                                     0.355556   \n",
              "mean_train_score                                       0.366092   \n",
              "std_train_score                                        0.005581   \n",
              "\n",
              "                                                            13  \\\n",
              "mean_fit_time                                          0.00159   \n",
              "std_fit_time                                          0.000062   \n",
              "mean_score_time                                       0.000687   \n",
              "std_score_time                                        0.000028   \n",
              "param_C                                                    0.1   \n",
              "param_gamma                                               0.01   \n",
              "param_kernel                                               rbf   \n",
              "params              {'C': 0.1, 'gamma': 0.01, 'kernel': 'rbf'}   \n",
              "split0_test_score                                     0.695652   \n",
              "split1_test_score                                     0.695652   \n",
              "split2_test_score                                     0.681818   \n",
              "split3_test_score                                     0.681818   \n",
              "split4_test_score                                     0.727273   \n",
              "mean_test_score                                       0.696443   \n",
              "std_test_score                                         0.01661   \n",
              "rank_test_score                                             22   \n",
              "split0_train_score                                    0.696629   \n",
              "split1_train_score                                    0.696629   \n",
              "split2_train_score                                         0.7   \n",
              "split3_train_score                                         0.7   \n",
              "split4_train_score                                    0.688889   \n",
              "mean_train_score                                      0.696429   \n",
              "std_train_score                                        0.00406   \n",
              "\n",
              "                                                           14  \\\n",
              "mean_fit_time                                        0.001422   \n",
              "std_fit_time                                         0.000093   \n",
              "mean_score_time                                      0.000623   \n",
              "std_score_time                                       0.000016   \n",
              "param_C                                                   0.1   \n",
              "param_gamma                                               0.1   \n",
              "param_kernel                                              rbf   \n",
              "params              {'C': 0.1, 'gamma': 0.1, 'kernel': 'rbf'}   \n",
              "split0_test_score                                    0.913043   \n",
              "split1_test_score                                    0.913043   \n",
              "split2_test_score                                    0.909091   \n",
              "split3_test_score                                    0.863636   \n",
              "split4_test_score                                    0.909091   \n",
              "mean_test_score                                      0.901581   \n",
              "std_test_score                                       0.019054   \n",
              "rank_test_score                                            20   \n",
              "split0_train_score                                   0.898876   \n",
              "split1_train_score                                   0.932584   \n",
              "split2_train_score                                   0.877778   \n",
              "split3_train_score                                   0.888889   \n",
              "split4_train_score                                   0.933333   \n",
              "mean_train_score                                     0.906292   \n",
              "std_train_score                                      0.022775   \n",
              "\n",
              "                                                         15  \\\n",
              "mean_fit_time                                      0.001671   \n",
              "std_fit_time                                       0.000373   \n",
              "mean_score_time                                    0.002106   \n",
              "std_score_time                                     0.002957   \n",
              "param_C                                                 0.1   \n",
              "param_gamma                                               1   \n",
              "param_kernel                                            rbf   \n",
              "params              {'C': 0.1, 'gamma': 1, 'kernel': 'rbf'}   \n",
              "split0_test_score                                       1.0   \n",
              "split1_test_score                                  0.913043   \n",
              "split2_test_score                                       1.0   \n",
              "split3_test_score                                  0.909091   \n",
              "split4_test_score                                  0.954545   \n",
              "mean_test_score                                    0.955336   \n",
              "std_test_score                                     0.039794   \n",
              "rank_test_score                                           8   \n",
              "split0_train_score                                  0.94382   \n",
              "split1_train_score                                 0.977528   \n",
              "split2_train_score                                 0.944444   \n",
              "split3_train_score                                 0.966667   \n",
              "split4_train_score                                 0.955556   \n",
              "mean_train_score                                   0.957603   \n",
              "std_train_score                                    0.013011   \n",
              "\n",
              "                                                          16  \\\n",
              "mean_fit_time                                        0.00287   \n",
              "std_fit_time                                        0.001471   \n",
              "mean_score_time                                     0.000798   \n",
              "std_score_time                                      0.000062   \n",
              "param_C                                                  0.1   \n",
              "param_gamma                                               10   \n",
              "param_kernel                                             rbf   \n",
              "params              {'C': 0.1, 'gamma': 10, 'kernel': 'rbf'}   \n",
              "split0_test_score                                   0.347826   \n",
              "split1_test_score                                   0.347826   \n",
              "split2_test_score                                   0.363636   \n",
              "split3_test_score                                   0.363636   \n",
              "split4_test_score                                   0.409091   \n",
              "mean_test_score                                     0.366403   \n",
              "std_test_score                                      0.022485   \n",
              "rank_test_score                                           27   \n",
              "split0_train_score                                  0.382022   \n",
              "split1_train_score                                  0.393258   \n",
              "split2_train_score                                  0.366667   \n",
              "split3_train_score                                       0.4   \n",
              "split4_train_score                                  0.355556   \n",
              "mean_train_score                                    0.379501   \n",
              "std_train_score                                     0.016456   \n",
              "\n",
              "                                                           17  \\\n",
              "mean_fit_time                                         0.00204   \n",
              "std_fit_time                                         0.000098   \n",
              "mean_score_time                                      0.000775   \n",
              "std_score_time                                       0.000016   \n",
              "param_C                                                   0.1   \n",
              "param_gamma                                               100   \n",
              "param_kernel                                              rbf   \n",
              "params              {'C': 0.1, 'gamma': 100, 'kernel': 'rbf'}   \n",
              "split0_test_score                                    0.347826   \n",
              "split1_test_score                                    0.347826   \n",
              "split2_test_score                                    0.363636   \n",
              "split3_test_score                                    0.363636   \n",
              "split4_test_score                                    0.409091   \n",
              "mean_test_score                                      0.366403   \n",
              "std_test_score                                       0.022485   \n",
              "rank_test_score                                            27   \n",
              "split0_train_score                                   0.370787   \n",
              "split1_train_score                                   0.370787   \n",
              "split2_train_score                                   0.366667   \n",
              "split3_train_score                                   0.366667   \n",
              "split4_train_score                                   0.355556   \n",
              "mean_train_score                                     0.366092   \n",
              "std_train_score                                      0.005581   \n",
              "\n",
              "                                                           18  \\\n",
              "mean_fit_time                                         0.00183   \n",
              "std_fit_time                                         0.000216   \n",
              "mean_score_time                                      0.000789   \n",
              "std_score_time                                        0.00011   \n",
              "param_C                                                     1   \n",
              "param_gamma                                             0.001   \n",
              "param_kernel                                              rbf   \n",
              "params              {'C': 1, 'gamma': 0.001, 'kernel': 'rbf'}   \n",
              "split0_test_score                                    0.695652   \n",
              "split1_test_score                                    0.695652   \n",
              "split2_test_score                                    0.681818   \n",
              "split3_test_score                                    0.681818   \n",
              "split4_test_score                                    0.727273   \n",
              "mean_test_score                                      0.696443   \n",
              "std_test_score                                        0.01661   \n",
              "rank_test_score                                            22   \n",
              "split0_train_score                                   0.696629   \n",
              "split1_train_score                                   0.696629   \n",
              "split2_train_score                                        0.7   \n",
              "split3_train_score                                        0.7   \n",
              "split4_train_score                                   0.688889   \n",
              "mean_train_score                                     0.696429   \n",
              "std_train_score                                       0.00406   \n",
              "\n",
              "                                                          19  \\\n",
              "mean_fit_time                                        0.00135   \n",
              "std_fit_time                                        0.000019   \n",
              "mean_score_time                                     0.000641   \n",
              "std_score_time                                      0.000031   \n",
              "param_C                                                    1   \n",
              "param_gamma                                             0.01   \n",
              "param_kernel                                             rbf   \n",
              "params              {'C': 1, 'gamma': 0.01, 'kernel': 'rbf'}   \n",
              "split0_test_score                                   0.913043   \n",
              "split1_test_score                                   0.913043   \n",
              "split2_test_score                                        1.0   \n",
              "split3_test_score                                   0.909091   \n",
              "split4_test_score                                   0.954545   \n",
              "mean_test_score                                     0.937945   \n",
              "std_test_score                                      0.035211   \n",
              "rank_test_score                                           15   \n",
              "split0_train_score                                   0.94382   \n",
              "split1_train_score                                  0.932584   \n",
              "split2_train_score                                  0.922222   \n",
              "split3_train_score                                  0.944444   \n",
              "split4_train_score                                  0.933333   \n",
              "mean_train_score                                    0.935281   \n",
              "std_train_score                                     0.008228   \n",
              "\n",
              "                                                         20  \\\n",
              "mean_fit_time                                      0.001137   \n",
              "std_fit_time                                       0.000029   \n",
              "mean_score_time                                    0.000582   \n",
              "std_score_time                                     0.000054   \n",
              "param_C                                                   1   \n",
              "param_gamma                                             0.1   \n",
              "param_kernel                                            rbf   \n",
              "params              {'C': 1, 'gamma': 0.1, 'kernel': 'rbf'}   \n",
              "split0_test_score                                       1.0   \n",
              "split1_test_score                                  0.956522   \n",
              "split2_test_score                                       1.0   \n",
              "split3_test_score                                  0.909091   \n",
              "split4_test_score                                  0.954545   \n",
              "mean_test_score                                    0.964032   \n",
              "std_test_score                                     0.033918   \n",
              "rank_test_score                                           5   \n",
              "split0_train_score                                 0.977528   \n",
              "split1_train_score                                 0.966292   \n",
              "split2_train_score                                 0.966667   \n",
              "split3_train_score                                 0.977778   \n",
              "split4_train_score                                 0.977778   \n",
              "mean_train_score                                   0.973208   \n",
              "std_train_score                                    0.005496   \n",
              "\n",
              "                                                       21  \\\n",
              "mean_fit_time                                    0.001212   \n",
              "std_fit_time                                     0.000128   \n",
              "mean_score_time                                  0.000507   \n",
              "std_score_time                                   0.000073   \n",
              "param_C                                                 1   \n",
              "param_gamma                                             1   \n",
              "param_kernel                                          rbf   \n",
              "params              {'C': 1, 'gamma': 1, 'kernel': 'rbf'}   \n",
              "split0_test_score                                0.956522   \n",
              "split1_test_score                                0.913043   \n",
              "split2_test_score                                     1.0   \n",
              "split3_test_score                                0.909091   \n",
              "split4_test_score                                0.954545   \n",
              "mean_test_score                                   0.94664   \n",
              "std_test_score                                   0.033305   \n",
              "rank_test_score                                        12   \n",
              "split0_train_score                               0.977528   \n",
              "split1_train_score                                    1.0   \n",
              "split2_train_score                               0.977778   \n",
              "split3_train_score                                    1.0   \n",
              "split4_train_score                               0.977778   \n",
              "mean_train_score                                 0.986617   \n",
              "std_train_score                                  0.010928   \n",
              "\n",
              "                                                        22  \\\n",
              "mean_fit_time                                     0.002022   \n",
              "std_fit_time                                      0.000335   \n",
              "mean_score_time                                   0.001711   \n",
              "std_score_time                                    0.002086   \n",
              "param_C                                                  1   \n",
              "param_gamma                                             10   \n",
              "param_kernel                                           rbf   \n",
              "params              {'C': 1, 'gamma': 10, 'kernel': 'rbf'}   \n",
              "split0_test_score                                 0.913043   \n",
              "split1_test_score                                 0.956522   \n",
              "split2_test_score                                      1.0   \n",
              "split3_test_score                                 0.818182   \n",
              "split4_test_score                                 0.954545   \n",
              "mean_test_score                                   0.928458   \n",
              "std_test_score                                     0.06162   \n",
              "rank_test_score                                         17   \n",
              "split0_train_score                                     1.0   \n",
              "split1_train_score                                     1.0   \n",
              "split2_train_score                                     1.0   \n",
              "split3_train_score                                     1.0   \n",
              "split4_train_score                                     1.0   \n",
              "mean_train_score                                       1.0   \n",
              "std_train_score                                        0.0   \n",
              "\n",
              "                                                         23  \\\n",
              "mean_fit_time                                      0.006543   \n",
              "std_fit_time                                       0.004551   \n",
              "mean_score_time                                     0.00249   \n",
              "std_score_time                                     0.002813   \n",
              "param_C                                                   1   \n",
              "param_gamma                                             100   \n",
              "param_kernel                                            rbf   \n",
              "params              {'C': 1, 'gamma': 100, 'kernel': 'rbf'}   \n",
              "split0_test_score                                  0.391304   \n",
              "split1_test_score                                  0.434783   \n",
              "split2_test_score                                  0.545455   \n",
              "split3_test_score                                       0.5   \n",
              "split4_test_score                                  0.636364   \n",
              "mean_test_score                                    0.501581   \n",
              "std_test_score                                     0.085693   \n",
              "rank_test_score                                          26   \n",
              "split0_train_score                                      1.0   \n",
              "split1_train_score                                      1.0   \n",
              "split2_train_score                                      1.0   \n",
              "split3_train_score                                      1.0   \n",
              "split4_train_score                                      1.0   \n",
              "mean_train_score                                        1.0   \n",
              "std_train_score                                         0.0   \n",
              "\n",
              "                                                            24  \\\n",
              "mean_fit_time                                          0.00142   \n",
              "std_fit_time                                          0.000188   \n",
              "mean_score_time                                       0.000642   \n",
              "std_score_time                                        0.000063   \n",
              "param_C                                                     10   \n",
              "param_gamma                                              0.001   \n",
              "param_kernel                                               rbf   \n",
              "params              {'C': 10, 'gamma': 0.001, 'kernel': 'rbf'}   \n",
              "split0_test_score                                     0.913043   \n",
              "split1_test_score                                     0.913043   \n",
              "split2_test_score                                          1.0   \n",
              "split3_test_score                                     0.909091   \n",
              "split4_test_score                                     0.954545   \n",
              "mean_test_score                                       0.937945   \n",
              "std_test_score                                        0.035211   \n",
              "rank_test_score                                             15   \n",
              "split0_train_score                                     0.94382   \n",
              "split1_train_score                                    0.932584   \n",
              "split2_train_score                                    0.922222   \n",
              "split3_train_score                                    0.933333   \n",
              "split4_train_score                                    0.933333   \n",
              "mean_train_score                                      0.933059   \n",
              "std_train_score                                       0.006835   \n",
              "\n",
              "                                                           25  \\\n",
              "mean_fit_time                                        0.002248   \n",
              "std_fit_time                                         0.002554   \n",
              "mean_score_time                                      0.000514   \n",
              "std_score_time                                       0.000099   \n",
              "param_C                                                    10   \n",
              "param_gamma                                              0.01   \n",
              "param_kernel                                              rbf   \n",
              "params              {'C': 10, 'gamma': 0.01, 'kernel': 'rbf'}   \n",
              "split0_test_score                                         1.0   \n",
              "split1_test_score                                    0.956522   \n",
              "split2_test_score                                         1.0   \n",
              "split3_test_score                                    0.909091   \n",
              "split4_test_score                                    0.954545   \n",
              "mean_test_score                                      0.964032   \n",
              "std_test_score                                       0.033918   \n",
              "rank_test_score                                             5   \n",
              "split0_train_score                                   0.977528   \n",
              "split1_train_score                                   0.977528   \n",
              "split2_train_score                                   0.966667   \n",
              "split3_train_score                                   0.988889   \n",
              "split4_train_score                                   0.977778   \n",
              "mean_train_score                                     0.977678   \n",
              "std_train_score                                      0.007028   \n",
              "\n",
              "                                                          26  \\\n",
              "mean_fit_time                                       0.003373   \n",
              "std_fit_time                                        0.004372   \n",
              "mean_score_time                                     0.000624   \n",
              "std_score_time                                      0.000134   \n",
              "param_C                                                   10   \n",
              "param_gamma                                              0.1   \n",
              "param_kernel                                             rbf   \n",
              "params              {'C': 10, 'gamma': 0.1, 'kernel': 'rbf'}   \n",
              "split0_test_score                                        1.0   \n",
              "split1_test_score                                   0.956522   \n",
              "split2_test_score                                        1.0   \n",
              "split3_test_score                                   0.954545   \n",
              "split4_test_score                                   0.954545   \n",
              "mean_test_score                                     0.973123   \n",
              "std_test_score                                      0.021957   \n",
              "rank_test_score                                            1   \n",
              "split0_train_score                                  0.988764   \n",
              "split1_train_score                                  0.988764   \n",
              "split2_train_score                                  0.977778   \n",
              "split3_train_score                                  0.988889   \n",
              "split4_train_score                                       1.0   \n",
              "mean_train_score                                    0.988839   \n",
              "std_train_score                                     0.007028   \n",
              "\n",
              "                                                        27  \\\n",
              "mean_fit_time                                     0.006531   \n",
              "std_fit_time                                      0.010129   \n",
              "mean_score_time                                   0.001419   \n",
              "std_score_time                                     0.00154   \n",
              "param_C                                                 10   \n",
              "param_gamma                                              1   \n",
              "param_kernel                                           rbf   \n",
              "params              {'C': 10, 'gamma': 1, 'kernel': 'rbf'}   \n",
              "split0_test_score                                 0.956522   \n",
              "split1_test_score                                 0.956522   \n",
              "split2_test_score                                      1.0   \n",
              "split3_test_score                                 0.863636   \n",
              "split4_test_score                                 0.954545   \n",
              "mean_test_score                                   0.946245   \n",
              "std_test_score                                    0.044708   \n",
              "rank_test_score                                         13   \n",
              "split0_train_score                                0.988764   \n",
              "split1_train_score                                0.988764   \n",
              "split2_train_score                                0.977778   \n",
              "split3_train_score                                     1.0   \n",
              "split4_train_score                                0.988889   \n",
              "mean_train_score                                  0.988839   \n",
              "std_train_score                                   0.007028   \n",
              "\n",
              "                                                         28  \\\n",
              "mean_fit_time                                       0.00666   \n",
              "std_fit_time                                       0.006206   \n",
              "mean_score_time                                    0.002259   \n",
              "std_score_time                                      0.00276   \n",
              "param_C                                                  10   \n",
              "param_gamma                                              10   \n",
              "param_kernel                                            rbf   \n",
              "params              {'C': 10, 'gamma': 10, 'kernel': 'rbf'}   \n",
              "split0_test_score                                  0.869565   \n",
              "split1_test_score                                  0.913043   \n",
              "split2_test_score                                       1.0   \n",
              "split3_test_score                                  0.818182   \n",
              "split4_test_score                                  0.954545   \n",
              "mean_test_score                                    0.911067   \n",
              "std_test_score                                     0.063488   \n",
              "rank_test_score                                          18   \n",
              "split0_train_score                                      1.0   \n",
              "split1_train_score                                      1.0   \n",
              "split2_train_score                                      1.0   \n",
              "split3_train_score                                      1.0   \n",
              "split4_train_score                                      1.0   \n",
              "mean_train_score                                        1.0   \n",
              "std_train_score                                         0.0   \n",
              "\n",
              "                                                          29  \\\n",
              "mean_fit_time                                       0.006666   \n",
              "std_fit_time                                        0.001641   \n",
              "mean_score_time                                     0.001185   \n",
              "std_score_time                                      0.000262   \n",
              "param_C                                                   10   \n",
              "param_gamma                                              100   \n",
              "param_kernel                                             rbf   \n",
              "params              {'C': 10, 'gamma': 100, 'kernel': 'rbf'}   \n",
              "split0_test_score                                   0.521739   \n",
              "split1_test_score                                   0.521739   \n",
              "split2_test_score                                   0.590909   \n",
              "split3_test_score                                   0.590909   \n",
              "split4_test_score                                   0.681818   \n",
              "mean_test_score                                     0.581423   \n",
              "std_test_score                                      0.058964   \n",
              "rank_test_score                                           24   \n",
              "split0_train_score                                       1.0   \n",
              "split1_train_score                                       1.0   \n",
              "split2_train_score                                       1.0   \n",
              "split3_train_score                                       1.0   \n",
              "split4_train_score                                       1.0   \n",
              "mean_train_score                                         1.0   \n",
              "std_train_score                                          0.0   \n",
              "\n",
              "                                                             30  \\\n",
              "mean_fit_time                                          0.002629   \n",
              "std_fit_time                                           0.002759   \n",
              "mean_score_time                                        0.000688   \n",
              "std_score_time                                          0.00011   \n",
              "param_C                                                     100   \n",
              "param_gamma                                               0.001   \n",
              "param_kernel                                                rbf   \n",
              "params              {'C': 100, 'gamma': 0.001, 'kernel': 'rbf'}   \n",
              "split0_test_score                                           1.0   \n",
              "split1_test_score                                      0.956522   \n",
              "split2_test_score                                           1.0   \n",
              "split3_test_score                                      0.909091   \n",
              "split4_test_score                                      0.954545   \n",
              "mean_test_score                                        0.964032   \n",
              "std_test_score                                         0.033918   \n",
              "rank_test_score                                               5   \n",
              "split0_train_score                                     0.977528   \n",
              "split1_train_score                                     0.977528   \n",
              "split2_train_score                                     0.966667   \n",
              "split3_train_score                                     0.988889   \n",
              "split4_train_score                                     0.977778   \n",
              "mean_train_score                                       0.977678   \n",
              "std_train_score                                        0.007028   \n",
              "\n",
              "                                                            31  \\\n",
              "mean_fit_time                                         0.007494   \n",
              "std_fit_time                                          0.006227   \n",
              "mean_score_time                                       0.001168   \n",
              "std_score_time                                        0.000874   \n",
              "param_C                                                    100   \n",
              "param_gamma                                               0.01   \n",
              "param_kernel                                               rbf   \n",
              "params              {'C': 100, 'gamma': 0.01, 'kernel': 'rbf'}   \n",
              "split0_test_score                                          1.0   \n",
              "split1_test_score                                     0.913043   \n",
              "split2_test_score                                          1.0   \n",
              "split3_test_score                                     0.954545   \n",
              "split4_test_score                                     0.954545   \n",
              "mean_test_score                                       0.964427   \n",
              "std_test_score                                        0.032761   \n",
              "rank_test_score                                              4   \n",
              "split0_train_score                                    0.988764   \n",
              "split1_train_score                                    0.988764   \n",
              "split2_train_score                                    0.977778   \n",
              "split3_train_score                                    0.988889   \n",
              "split4_train_score                                    0.988889   \n",
              "mean_train_score                                      0.986617   \n",
              "std_train_score                                        0.00442   \n",
              "\n",
              "                                                           32  \\\n",
              "mean_fit_time                                        0.001054   \n",
              "std_fit_time                                         0.000046   \n",
              "mean_score_time                                      0.000564   \n",
              "std_score_time                                       0.000118   \n",
              "param_C                                                   100   \n",
              "param_gamma                                               0.1   \n",
              "param_kernel                                              rbf   \n",
              "params              {'C': 100, 'gamma': 0.1, 'kernel': 'rbf'}   \n",
              "split0_test_score                                         1.0   \n",
              "split1_test_score                                    0.956522   \n",
              "split2_test_score                                         1.0   \n",
              "split3_test_score                                    0.863636   \n",
              "split4_test_score                                    0.954545   \n",
              "mean_test_score                                      0.954941   \n",
              "std_test_score                                       0.049799   \n",
              "rank_test_score                                            11   \n",
              "split0_train_score                                   0.988764   \n",
              "split1_train_score                                   0.988764   \n",
              "split2_train_score                                   0.977778   \n",
              "split3_train_score                                        1.0   \n",
              "split4_train_score                                        1.0   \n",
              "mean_train_score                                     0.991061   \n",
              "std_train_score                                      0.008328   \n",
              "\n",
              "                                                         33  \\\n",
              "mean_fit_time                                      0.002257   \n",
              "std_fit_time                                       0.001449   \n",
              "mean_score_time                                    0.002064   \n",
              "std_score_time                                     0.002568   \n",
              "param_C                                                 100   \n",
              "param_gamma                                               1   \n",
              "param_kernel                                            rbf   \n",
              "params              {'C': 100, 'gamma': 1, 'kernel': 'rbf'}   \n",
              "split0_test_score                                  0.956522   \n",
              "split1_test_score                                  0.956522   \n",
              "split2_test_score                                       1.0   \n",
              "split3_test_score                                  0.863636   \n",
              "split4_test_score                                  0.954545   \n",
              "mean_test_score                                    0.946245   \n",
              "std_test_score                                     0.044708   \n",
              "rank_test_score                                          13   \n",
              "split0_train_score                                      1.0   \n",
              "split1_train_score                                      1.0   \n",
              "split2_train_score                                      1.0   \n",
              "split3_train_score                                      1.0   \n",
              "split4_train_score                                      1.0   \n",
              "mean_train_score                                        1.0   \n",
              "std_train_score                                         0.0   \n",
              "\n",
              "                                                          34  \\\n",
              "mean_fit_time                                       0.006862   \n",
              "std_fit_time                                        0.004058   \n",
              "mean_score_time                                      0.00386   \n",
              "std_score_time                                      0.003454   \n",
              "param_C                                                  100   \n",
              "param_gamma                                               10   \n",
              "param_kernel                                             rbf   \n",
              "params              {'C': 100, 'gamma': 10, 'kernel': 'rbf'}   \n",
              "split0_test_score                                   0.869565   \n",
              "split1_test_score                                   0.913043   \n",
              "split2_test_score                                        1.0   \n",
              "split3_test_score                                   0.818182   \n",
              "split4_test_score                                   0.954545   \n",
              "mean_test_score                                     0.911067   \n",
              "std_test_score                                      0.063488   \n",
              "rank_test_score                                           18   \n",
              "split0_train_score                                       1.0   \n",
              "split1_train_score                                       1.0   \n",
              "split2_train_score                                       1.0   \n",
              "split3_train_score                                       1.0   \n",
              "split4_train_score                                       1.0   \n",
              "mean_train_score                                         1.0   \n",
              "std_train_score                                          0.0   \n",
              "\n",
              "                                                           35  \\\n",
              "mean_fit_time                                        0.003599   \n",
              "std_fit_time                                          0.00241   \n",
              "mean_score_time                                      0.000885   \n",
              "std_score_time                                       0.000114   \n",
              "param_C                                                   100   \n",
              "param_gamma                                               100   \n",
              "param_kernel                                              rbf   \n",
              "params              {'C': 100, 'gamma': 100, 'kernel': 'rbf'}   \n",
              "split0_test_score                                    0.521739   \n",
              "split1_test_score                                    0.521739   \n",
              "split2_test_score                                    0.590909   \n",
              "split3_test_score                                    0.590909   \n",
              "split4_test_score                                    0.681818   \n",
              "mean_test_score                                      0.581423   \n",
              "std_test_score                                       0.058964   \n",
              "rank_test_score                                            24   \n",
              "split0_train_score                                        1.0   \n",
              "split1_train_score                                        1.0   \n",
              "split2_train_score                                        1.0   \n",
              "split3_train_score                                        1.0   \n",
              "split4_train_score                                        1.0   \n",
              "mean_train_score                                          1.0   \n",
              "std_train_score                                           0.0   \n",
              "\n",
              "                                                  36  \\\n",
              "mean_fit_time                               0.004012   \n",
              "std_fit_time                                 0.00284   \n",
              "mean_score_time                             0.002193   \n",
              "std_score_time                              0.001723   \n",
              "param_C                                        0.001   \n",
              "param_gamma                                      NaN   \n",
              "param_kernel                                  linear   \n",
              "params              {'C': 0.001, 'kernel': 'linear'}   \n",
              "split0_test_score                           0.347826   \n",
              "split1_test_score                           0.347826   \n",
              "split2_test_score                           0.363636   \n",
              "split3_test_score                           0.363636   \n",
              "split4_test_score                           0.409091   \n",
              "mean_test_score                             0.366403   \n",
              "std_test_score                              0.022485   \n",
              "rank_test_score                                   27   \n",
              "split0_train_score                          0.370787   \n",
              "split1_train_score                          0.370787   \n",
              "split2_train_score                          0.366667   \n",
              "split3_train_score                          0.366667   \n",
              "split4_train_score                          0.355556   \n",
              "mean_train_score                            0.366092   \n",
              "std_train_score                             0.005581   \n",
              "\n",
              "                                                 37  \\\n",
              "mean_fit_time                               0.00133   \n",
              "std_fit_time                               0.000062   \n",
              "mean_score_time                            0.000548   \n",
              "std_score_time                             0.000031   \n",
              "param_C                                        0.01   \n",
              "param_gamma                                     NaN   \n",
              "param_kernel                                 linear   \n",
              "params              {'C': 0.01, 'kernel': 'linear'}   \n",
              "split0_test_score                          0.869565   \n",
              "split1_test_score                          0.869565   \n",
              "split2_test_score                          0.772727   \n",
              "split3_test_score                          0.772727   \n",
              "split4_test_score                          0.909091   \n",
              "mean_test_score                            0.838735   \n",
              "std_test_score                             0.055794   \n",
              "rank_test_score                                  21   \n",
              "split0_train_score                         0.853933   \n",
              "split1_train_score                         0.910112   \n",
              "split2_train_score                         0.844444   \n",
              "split3_train_score                         0.766667   \n",
              "split4_train_score                         0.877778   \n",
              "mean_train_score                           0.850587   \n",
              "std_train_score                            0.047695   \n",
              "\n",
              "                                                38  \\\n",
              "mean_fit_time                             0.001089   \n",
              "std_fit_time                              0.000033   \n",
              "mean_score_time                           0.000492   \n",
              "std_score_time                            0.000025   \n",
              "param_C                                        0.1   \n",
              "param_gamma                                    NaN   \n",
              "param_kernel                                linear   \n",
              "params              {'C': 0.1, 'kernel': 'linear'}   \n",
              "split0_test_score                              1.0   \n",
              "split1_test_score                         0.913043   \n",
              "split2_test_score                              1.0   \n",
              "split3_test_score                         0.909091   \n",
              "split4_test_score                         0.954545   \n",
              "mean_test_score                           0.955336   \n",
              "std_test_score                            0.039794   \n",
              "rank_test_score                                  8   \n",
              "split0_train_score                        0.966292   \n",
              "split1_train_score                        0.966292   \n",
              "split2_train_score                        0.944444   \n",
              "split3_train_score                        0.966667   \n",
              "split4_train_score                        0.966667   \n",
              "mean_train_score                          0.962072   \n",
              "std_train_score                           0.008816   \n",
              "\n",
              "                                              39  \\\n",
              "mean_fit_time                           0.001121   \n",
              "std_fit_time                            0.000039   \n",
              "mean_score_time                         0.000489   \n",
              "std_score_time                          0.000024   \n",
              "param_C                                        1   \n",
              "param_gamma                                  NaN   \n",
              "param_kernel                              linear   \n",
              "params              {'C': 1, 'kernel': 'linear'}   \n",
              "split0_test_score                            1.0   \n",
              "split1_test_score                       0.956522   \n",
              "split2_test_score                            1.0   \n",
              "split3_test_score                       0.954545   \n",
              "split4_test_score                       0.954545   \n",
              "mean_test_score                         0.973123   \n",
              "std_test_score                          0.021957   \n",
              "rank_test_score                                1   \n",
              "split0_train_score                      0.988764   \n",
              "split1_train_score                      0.977528   \n",
              "split2_train_score                      0.977778   \n",
              "split3_train_score                      0.988889   \n",
              "split4_train_score                      0.988889   \n",
              "mean_train_score                         0.98437   \n",
              "std_train_score                         0.005485   \n",
              "\n",
              "                                               40  \\\n",
              "mean_fit_time                            0.001069   \n",
              "std_fit_time                             0.000039   \n",
              "mean_score_time                          0.000478   \n",
              "std_score_time                           0.000021   \n",
              "param_C                                        10   \n",
              "param_gamma                                   NaN   \n",
              "param_kernel                               linear   \n",
              "params              {'C': 10, 'kernel': 'linear'}   \n",
              "split0_test_score                             1.0   \n",
              "split1_test_score                             1.0   \n",
              "split2_test_score                             1.0   \n",
              "split3_test_score                        0.909091   \n",
              "split4_test_score                        0.954545   \n",
              "mean_test_score                          0.972727   \n",
              "std_test_score                           0.036364   \n",
              "rank_test_score                                 3   \n",
              "split0_train_score                       0.988764   \n",
              "split1_train_score                       0.988764   \n",
              "split2_train_score                       0.977778   \n",
              "split3_train_score                       0.988889   \n",
              "split4_train_score                            1.0   \n",
              "mean_train_score                         0.988839   \n",
              "std_train_score                          0.007028   \n",
              "\n",
              "                                                41  \n",
              "mean_fit_time                             0.000996  \n",
              "std_fit_time                              0.000092  \n",
              "mean_score_time                           0.000447  \n",
              "std_score_time                            0.000009  \n",
              "param_C                                        100  \n",
              "param_gamma                                    NaN  \n",
              "param_kernel                                linear  \n",
              "params              {'C': 100, 'kernel': 'linear'}  \n",
              "split0_test_score                         0.956522  \n",
              "split1_test_score                         0.956522  \n",
              "split2_test_score                              1.0  \n",
              "split3_test_score                         0.909091  \n",
              "split4_test_score                         0.954545  \n",
              "mean_test_score                           0.955336  \n",
              "std_test_score                            0.028764  \n",
              "rank_test_score                                  8  \n",
              "split0_train_score                        0.977528  \n",
              "split1_train_score                        0.988764  \n",
              "split2_train_score                        0.988889  \n",
              "split3_train_score                             1.0  \n",
              "split4_train_score                             1.0  \n",
              "mean_train_score                          0.991036  \n",
              "std_train_score                           0.008402  "
            ],
            "text/html": [
              "\n",
              "  <div id=\"df-fe0f5a33-a21e-4b75-ae97-c0221e03a100\">\n",
              "    <div class=\"colab-df-container\">\n",
              "      <div>\n",
              "<style scoped>\n",
              "    .dataframe tbody tr th:only-of-type {\n",
              "        vertical-align: middle;\n",
              "    }\n",
              "\n",
              "    .dataframe tbody tr th {\n",
              "        vertical-align: top;\n",
              "    }\n",
              "\n",
              "    .dataframe thead th {\n",
              "        text-align: right;\n",
              "    }\n",
              "</style>\n",
              "<table border=\"1\" class=\"dataframe\">\n",
              "  <thead>\n",
              "    <tr style=\"text-align: right;\">\n",
              "      <th></th>\n",
              "      <th>0</th>\n",
              "      <th>1</th>\n",
              "      <th>2</th>\n",
              "      <th>3</th>\n",
              "      <th>4</th>\n",
              "      <th>5</th>\n",
              "      <th>6</th>\n",
              "      <th>7</th>\n",
              "      <th>8</th>\n",
              "      <th>9</th>\n",
              "      <th>10</th>\n",
              "      <th>11</th>\n",
              "      <th>12</th>\n",
              "      <th>13</th>\n",
              "      <th>14</th>\n",
              "      <th>15</th>\n",
              "      <th>16</th>\n",
              "      <th>17</th>\n",
              "      <th>18</th>\n",
              "      <th>19</th>\n",
              "      <th>20</th>\n",
              "      <th>21</th>\n",
              "      <th>22</th>\n",
              "      <th>23</th>\n",
              "      <th>24</th>\n",
              "      <th>25</th>\n",
              "      <th>26</th>\n",
              "      <th>27</th>\n",
              "      <th>28</th>\n",
              "      <th>29</th>\n",
              "      <th>30</th>\n",
              "      <th>31</th>\n",
              "      <th>32</th>\n",
              "      <th>33</th>\n",
              "      <th>34</th>\n",
              "      <th>35</th>\n",
              "      <th>36</th>\n",
              "      <th>37</th>\n",
              "      <th>38</th>\n",
              "      <th>39</th>\n",
              "      <th>40</th>\n",
              "      <th>41</th>\n",
              "    </tr>\n",
              "  </thead>\n",
              "  <tbody>\n",
              "    <tr>\n",
              "      <th>mean_fit_time</th>\n",
              "      <td>0.001876</td>\n",
              "      <td>0.001615</td>\n",
              "      <td>0.001666</td>\n",
              "      <td>0.001647</td>\n",
              "      <td>0.00187</td>\n",
              "      <td>0.001857</td>\n",
              "      <td>0.003216</td>\n",
              "      <td>0.002624</td>\n",
              "      <td>0.001688</td>\n",
              "      <td>0.001874</td>\n",
              "      <td>0.001826</td>\n",
              "      <td>0.001869</td>\n",
              "      <td>0.001598</td>\n",
              "      <td>0.00159</td>\n",
              "      <td>0.001422</td>\n",
              "      <td>0.001671</td>\n",
              "      <td>0.00287</td>\n",
              "      <td>0.00204</td>\n",
              "      <td>0.00183</td>\n",
              "      <td>0.00135</td>\n",
              "      <td>0.001137</td>\n",
              "      <td>0.001212</td>\n",
              "      <td>0.002022</td>\n",
              "      <td>0.006543</td>\n",
              "      <td>0.00142</td>\n",
              "      <td>0.002248</td>\n",
              "      <td>0.003373</td>\n",
              "      <td>0.006531</td>\n",
              "      <td>0.00666</td>\n",
              "      <td>0.006666</td>\n",
              "      <td>0.002629</td>\n",
              "      <td>0.007494</td>\n",
              "      <td>0.001054</td>\n",
              "      <td>0.002257</td>\n",
              "      <td>0.006862</td>\n",
              "      <td>0.003599</td>\n",
              "      <td>0.004012</td>\n",
              "      <td>0.00133</td>\n",
              "      <td>0.001089</td>\n",
              "      <td>0.001121</td>\n",
              "      <td>0.001069</td>\n",
              "      <td>0.000996</td>\n",
              "    </tr>\n",
              "    <tr>\n",
              "      <th>std_fit_time</th>\n",
              "      <td>0.000075</td>\n",
              "      <td>0.000055</td>\n",
              "      <td>0.000059</td>\n",
              "      <td>0.000016</td>\n",
              "      <td>0.000249</td>\n",
              "      <td>0.000126</td>\n",
              "      <td>0.003108</td>\n",
              "      <td>0.001735</td>\n",
              "      <td>0.000055</td>\n",
              "      <td>0.00024</td>\n",
              "      <td>0.000152</td>\n",
              "      <td>0.000043</td>\n",
              "      <td>0.000095</td>\n",
              "      <td>0.000062</td>\n",
              "      <td>0.000093</td>\n",
              "      <td>0.000373</td>\n",
              "      <td>0.001471</td>\n",
              "      <td>0.000098</td>\n",
              "      <td>0.000216</td>\n",
              "      <td>0.000019</td>\n",
              "      <td>0.000029</td>\n",
              "      <td>0.000128</td>\n",
              "      <td>0.000335</td>\n",
              "      <td>0.004551</td>\n",
              "      <td>0.000188</td>\n",
              "      <td>0.002554</td>\n",
              "      <td>0.004372</td>\n",
              "      <td>0.010129</td>\n",
              "      <td>0.006206</td>\n",
              "      <td>0.001641</td>\n",
              "      <td>0.002759</td>\n",
              "      <td>0.006227</td>\n",
              "      <td>0.000046</td>\n",
              "      <td>0.001449</td>\n",
              "      <td>0.004058</td>\n",
              "      <td>0.00241</td>\n",
              "      <td>0.00284</td>\n",
              "      <td>0.000062</td>\n",
              "      <td>0.000033</td>\n",
              "      <td>0.000039</td>\n",
              "      <td>0.000039</td>\n",
              "      <td>0.000092</td>\n",
              "    </tr>\n",
              "    <tr>\n",
              "      <th>mean_score_time</th>\n",
              "      <td>0.000778</td>\n",
              "      <td>0.000685</td>\n",
              "      <td>0.000692</td>\n",
              "      <td>0.000679</td>\n",
              "      <td>0.000705</td>\n",
              "      <td>0.000704</td>\n",
              "      <td>0.001031</td>\n",
              "      <td>0.001727</td>\n",
              "      <td>0.000732</td>\n",
              "      <td>0.000717</td>\n",
              "      <td>0.000752</td>\n",
              "      <td>0.000709</td>\n",
              "      <td>0.000666</td>\n",
              "      <td>0.000687</td>\n",
              "      <td>0.000623</td>\n",
              "      <td>0.002106</td>\n",
              "      <td>0.000798</td>\n",
              "      <td>0.000775</td>\n",
              "      <td>0.000789</td>\n",
              "      <td>0.000641</td>\n",
              "      <td>0.000582</td>\n",
              "      <td>0.000507</td>\n",
              "      <td>0.001711</td>\n",
              "      <td>0.00249</td>\n",
              "      <td>0.000642</td>\n",
              "      <td>0.000514</td>\n",
              "      <td>0.000624</td>\n",
              "      <td>0.001419</td>\n",
              "      <td>0.002259</td>\n",
              "      <td>0.001185</td>\n",
              "      <td>0.000688</td>\n",
              "      <td>0.001168</td>\n",
              "      <td>0.000564</td>\n",
              "      <td>0.002064</td>\n",
              "      <td>0.00386</td>\n",
              "      <td>0.000885</td>\n",
              "      <td>0.002193</td>\n",
              "      <td>0.000548</td>\n",
              "      <td>0.000492</td>\n",
              "      <td>0.000489</td>\n",
              "      <td>0.000478</td>\n",
              "      <td>0.000447</td>\n",
              "    </tr>\n",
              "    <tr>\n",
              "      <th>std_score_time</th>\n",
              "      <td>0.000088</td>\n",
              "      <td>0.000029</td>\n",
              "      <td>0.000036</td>\n",
              "      <td>0.000025</td>\n",
              "      <td>0.000034</td>\n",
              "      <td>0.000033</td>\n",
              "      <td>0.000633</td>\n",
              "      <td>0.00189</td>\n",
              "      <td>0.000068</td>\n",
              "      <td>0.000045</td>\n",
              "      <td>0.000047</td>\n",
              "      <td>0.000014</td>\n",
              "      <td>0.000034</td>\n",
              "      <td>0.000028</td>\n",
              "      <td>0.000016</td>\n",
              "      <td>0.002957</td>\n",
              "      <td>0.000062</td>\n",
              "      <td>0.000016</td>\n",
              "      <td>0.00011</td>\n",
              "      <td>0.000031</td>\n",
              "      <td>0.000054</td>\n",
              "      <td>0.000073</td>\n",
              "      <td>0.002086</td>\n",
              "      <td>0.002813</td>\n",
              "      <td>0.000063</td>\n",
              "      <td>0.000099</td>\n",
              "      <td>0.000134</td>\n",
              "      <td>0.00154</td>\n",
              "      <td>0.00276</td>\n",
              "      <td>0.000262</td>\n",
              "      <td>0.00011</td>\n",
              "      <td>0.000874</td>\n",
              "      <td>0.000118</td>\n",
              "      <td>0.002568</td>\n",
              "      <td>0.003454</td>\n",
              "      <td>0.000114</td>\n",
              "      <td>0.001723</td>\n",
              "      <td>0.000031</td>\n",
              "      <td>0.000025</td>\n",
              "      <td>0.000024</td>\n",
              "      <td>0.000021</td>\n",
              "      <td>0.000009</td>\n",
              "    </tr>\n",
              "    <tr>\n",
              "      <th>param_C</th>\n",
              "      <td>0.001</td>\n",
              "      <td>0.001</td>\n",
              "      <td>0.001</td>\n",
              "      <td>0.001</td>\n",
              "      <td>0.001</td>\n",
              "      <td>0.001</td>\n",
              "      <td>0.01</td>\n",
              "      <td>0.01</td>\n",
              "      <td>0.01</td>\n",
              "      <td>0.01</td>\n",
              "      <td>0.01</td>\n",
              "      <td>0.01</td>\n",
              "      <td>0.1</td>\n",
              "      <td>0.1</td>\n",
              "      <td>0.1</td>\n",
              "      <td>0.1</td>\n",
              "      <td>0.1</td>\n",
              "      <td>0.1</td>\n",
              "      <td>1</td>\n",
              "      <td>1</td>\n",
              "      <td>1</td>\n",
              "      <td>1</td>\n",
              "      <td>1</td>\n",
              "      <td>1</td>\n",
              "      <td>10</td>\n",
              "      <td>10</td>\n",
              "      <td>10</td>\n",
              "      <td>10</td>\n",
              "      <td>10</td>\n",
              "      <td>10</td>\n",
              "      <td>100</td>\n",
              "      <td>100</td>\n",
              "      <td>100</td>\n",
              "      <td>100</td>\n",
              "      <td>100</td>\n",
              "      <td>100</td>\n",
              "      <td>0.001</td>\n",
              "      <td>0.01</td>\n",
              "      <td>0.1</td>\n",
              "      <td>1</td>\n",
              "      <td>10</td>\n",
              "      <td>100</td>\n",
              "    </tr>\n",
              "    <tr>\n",
              "      <th>param_gamma</th>\n",
              "      <td>0.001</td>\n",
              "      <td>0.01</td>\n",
              "      <td>0.1</td>\n",
              "      <td>1</td>\n",
              "      <td>10</td>\n",
              "      <td>100</td>\n",
              "      <td>0.001</td>\n",
              "      <td>0.01</td>\n",
              "      <td>0.1</td>\n",
              "      <td>1</td>\n",
              "      <td>10</td>\n",
              "      <td>100</td>\n",
              "      <td>0.001</td>\n",
              "      <td>0.01</td>\n",
              "      <td>0.1</td>\n",
              "      <td>1</td>\n",
              "      <td>10</td>\n",
              "      <td>100</td>\n",
              "      <td>0.001</td>\n",
              "      <td>0.01</td>\n",
              "      <td>0.1</td>\n",
              "      <td>1</td>\n",
              "      <td>10</td>\n",
              "      <td>100</td>\n",
              "      <td>0.001</td>\n",
              "      <td>0.01</td>\n",
              "      <td>0.1</td>\n",
              "      <td>1</td>\n",
              "      <td>10</td>\n",
              "      <td>100</td>\n",
              "      <td>0.001</td>\n",
              "      <td>0.01</td>\n",
              "      <td>0.1</td>\n",
              "      <td>1</td>\n",
              "      <td>10</td>\n",
              "      <td>100</td>\n",
              "      <td>NaN</td>\n",
              "      <td>NaN</td>\n",
              "      <td>NaN</td>\n",
              "      <td>NaN</td>\n",
              "      <td>NaN</td>\n",
              "      <td>NaN</td>\n",
              "    </tr>\n",
              "    <tr>\n",
              "      <th>param_kernel</th>\n",
              "      <td>rbf</td>\n",
              "      <td>rbf</td>\n",
              "      <td>rbf</td>\n",
              "      <td>rbf</td>\n",
              "      <td>rbf</td>\n",
              "      <td>rbf</td>\n",
              "      <td>rbf</td>\n",
              "      <td>rbf</td>\n",
              "      <td>rbf</td>\n",
              "      <td>rbf</td>\n",
              "      <td>rbf</td>\n",
              "      <td>rbf</td>\n",
              "      <td>rbf</td>\n",
              "      <td>rbf</td>\n",
              "      <td>rbf</td>\n",
              "      <td>rbf</td>\n",
              "      <td>rbf</td>\n",
              "      <td>rbf</td>\n",
              "      <td>rbf</td>\n",
              "      <td>rbf</td>\n",
              "      <td>rbf</td>\n",
              "      <td>rbf</td>\n",
              "      <td>rbf</td>\n",
              "      <td>rbf</td>\n",
              "      <td>rbf</td>\n",
              "      <td>rbf</td>\n",
              "      <td>rbf</td>\n",
              "      <td>rbf</td>\n",
              "      <td>rbf</td>\n",
              "      <td>rbf</td>\n",
              "      <td>rbf</td>\n",
              "      <td>rbf</td>\n",
              "      <td>rbf</td>\n",
              "      <td>rbf</td>\n",
              "      <td>rbf</td>\n",
              "      <td>rbf</td>\n",
              "      <td>linear</td>\n",
              "      <td>linear</td>\n",
              "      <td>linear</td>\n",
              "      <td>linear</td>\n",
              "      <td>linear</td>\n",
              "      <td>linear</td>\n",
              "    </tr>\n",
              "    <tr>\n",
              "      <th>params</th>\n",
              "      <td>{'C': 0.001, 'gamma': 0.001, 'kernel': 'rbf'}</td>\n",
              "      <td>{'C': 0.001, 'gamma': 0.01, 'kernel': 'rbf'}</td>\n",
              "      <td>{'C': 0.001, 'gamma': 0.1, 'kernel': 'rbf'}</td>\n",
              "      <td>{'C': 0.001, 'gamma': 1, 'kernel': 'rbf'}</td>\n",
              "      <td>{'C': 0.001, 'gamma': 10, 'kernel': 'rbf'}</td>\n",
              "      <td>{'C': 0.001, 'gamma': 100, 'kernel': 'rbf'}</td>\n",
              "      <td>{'C': 0.01, 'gamma': 0.001, 'kernel': 'rbf'}</td>\n",
              "      <td>{'C': 0.01, 'gamma': 0.01, 'kernel': 'rbf'}</td>\n",
              "      <td>{'C': 0.01, 'gamma': 0.1, 'kernel': 'rbf'}</td>\n",
              "      <td>{'C': 0.01, 'gamma': 1, 'kernel': 'rbf'}</td>\n",
              "      <td>{'C': 0.01, 'gamma': 10, 'kernel': 'rbf'}</td>\n",
              "      <td>{'C': 0.01, 'gamma': 100, 'kernel': 'rbf'}</td>\n",
              "      <td>{'C': 0.1, 'gamma': 0.001, 'kernel': 'rbf'}</td>\n",
              "      <td>{'C': 0.1, 'gamma': 0.01, 'kernel': 'rbf'}</td>\n",
              "      <td>{'C': 0.1, 'gamma': 0.1, 'kernel': 'rbf'}</td>\n",
              "      <td>{'C': 0.1, 'gamma': 1, 'kernel': 'rbf'}</td>\n",
              "      <td>{'C': 0.1, 'gamma': 10, 'kernel': 'rbf'}</td>\n",
              "      <td>{'C': 0.1, 'gamma': 100, 'kernel': 'rbf'}</td>\n",
              "      <td>{'C': 1, 'gamma': 0.001, 'kernel': 'rbf'}</td>\n",
              "      <td>{'C': 1, 'gamma': 0.01, 'kernel': 'rbf'}</td>\n",
              "      <td>{'C': 1, 'gamma': 0.1, 'kernel': 'rbf'}</td>\n",
              "      <td>{'C': 1, 'gamma': 1, 'kernel': 'rbf'}</td>\n",
              "      <td>{'C': 1, 'gamma': 10, 'kernel': 'rbf'}</td>\n",
              "      <td>{'C': 1, 'gamma': 100, 'kernel': 'rbf'}</td>\n",
              "      <td>{'C': 10, 'gamma': 0.001, 'kernel': 'rbf'}</td>\n",
              "      <td>{'C': 10, 'gamma': 0.01, 'kernel': 'rbf'}</td>\n",
              "      <td>{'C': 10, 'gamma': 0.1, 'kernel': 'rbf'}</td>\n",
              "      <td>{'C': 10, 'gamma': 1, 'kernel': 'rbf'}</td>\n",
              "      <td>{'C': 10, 'gamma': 10, 'kernel': 'rbf'}</td>\n",
              "      <td>{'C': 10, 'gamma': 100, 'kernel': 'rbf'}</td>\n",
              "      <td>{'C': 100, 'gamma': 0.001, 'kernel': 'rbf'}</td>\n",
              "      <td>{'C': 100, 'gamma': 0.01, 'kernel': 'rbf'}</td>\n",
              "      <td>{'C': 100, 'gamma': 0.1, 'kernel': 'rbf'}</td>\n",
              "      <td>{'C': 100, 'gamma': 1, 'kernel': 'rbf'}</td>\n",
              "      <td>{'C': 100, 'gamma': 10, 'kernel': 'rbf'}</td>\n",
              "      <td>{'C': 100, 'gamma': 100, 'kernel': 'rbf'}</td>\n",
              "      <td>{'C': 0.001, 'kernel': 'linear'}</td>\n",
              "      <td>{'C': 0.01, 'kernel': 'linear'}</td>\n",
              "      <td>{'C': 0.1, 'kernel': 'linear'}</td>\n",
              "      <td>{'C': 1, 'kernel': 'linear'}</td>\n",
              "      <td>{'C': 10, 'kernel': 'linear'}</td>\n",
              "      <td>{'C': 100, 'kernel': 'linear'}</td>\n",
              "    </tr>\n",
              "    <tr>\n",
              "      <th>split0_test_score</th>\n",
              "      <td>0.347826</td>\n",
              "      <td>0.347826</td>\n",
              "      <td>0.347826</td>\n",
              "      <td>0.347826</td>\n",
              "      <td>0.347826</td>\n",
              "      <td>0.347826</td>\n",
              "      <td>0.347826</td>\n",
              "      <td>0.347826</td>\n",
              "      <td>0.347826</td>\n",
              "      <td>0.347826</td>\n",
              "      <td>0.347826</td>\n",
              "      <td>0.347826</td>\n",
              "      <td>0.347826</td>\n",
              "      <td>0.695652</td>\n",
              "      <td>0.913043</td>\n",
              "      <td>1.0</td>\n",
              "      <td>0.347826</td>\n",
              "      <td>0.347826</td>\n",
              "      <td>0.695652</td>\n",
              "      <td>0.913043</td>\n",
              "      <td>1.0</td>\n",
              "      <td>0.956522</td>\n",
              "      <td>0.913043</td>\n",
              "      <td>0.391304</td>\n",
              "      <td>0.913043</td>\n",
              "      <td>1.0</td>\n",
              "      <td>1.0</td>\n",
              "      <td>0.956522</td>\n",
              "      <td>0.869565</td>\n",
              "      <td>0.521739</td>\n",
              "      <td>1.0</td>\n",
              "      <td>1.0</td>\n",
              "      <td>1.0</td>\n",
              "      <td>0.956522</td>\n",
              "      <td>0.869565</td>\n",
              "      <td>0.521739</td>\n",
              "      <td>0.347826</td>\n",
              "      <td>0.869565</td>\n",
              "      <td>1.0</td>\n",
              "      <td>1.0</td>\n",
              "      <td>1.0</td>\n",
              "      <td>0.956522</td>\n",
              "    </tr>\n",
              "    <tr>\n",
              "      <th>split1_test_score</th>\n",
              "      <td>0.347826</td>\n",
              "      <td>0.347826</td>\n",
              "      <td>0.347826</td>\n",
              "      <td>0.347826</td>\n",
              "      <td>0.347826</td>\n",
              "      <td>0.347826</td>\n",
              "      <td>0.347826</td>\n",
              "      <td>0.347826</td>\n",
              "      <td>0.347826</td>\n",
              "      <td>0.347826</td>\n",
              "      <td>0.347826</td>\n",
              "      <td>0.347826</td>\n",
              "      <td>0.347826</td>\n",
              "      <td>0.695652</td>\n",
              "      <td>0.913043</td>\n",
              "      <td>0.913043</td>\n",
              "      <td>0.347826</td>\n",
              "      <td>0.347826</td>\n",
              "      <td>0.695652</td>\n",
              "      <td>0.913043</td>\n",
              "      <td>0.956522</td>\n",
              "      <td>0.913043</td>\n",
              "      <td>0.956522</td>\n",
              "      <td>0.434783</td>\n",
              "      <td>0.913043</td>\n",
              "      <td>0.956522</td>\n",
              "      <td>0.956522</td>\n",
              "      <td>0.956522</td>\n",
              "      <td>0.913043</td>\n",
              "      <td>0.521739</td>\n",
              "      <td>0.956522</td>\n",
              "      <td>0.913043</td>\n",
              "      <td>0.956522</td>\n",
              "      <td>0.956522</td>\n",
              "      <td>0.913043</td>\n",
              "      <td>0.521739</td>\n",
              "      <td>0.347826</td>\n",
              "      <td>0.869565</td>\n",
              "      <td>0.913043</td>\n",
              "      <td>0.956522</td>\n",
              "      <td>1.0</td>\n",
              "      <td>0.956522</td>\n",
              "    </tr>\n",
              "    <tr>\n",
              "      <th>split2_test_score</th>\n",
              "      <td>0.363636</td>\n",
              "      <td>0.363636</td>\n",
              "      <td>0.363636</td>\n",
              "      <td>0.363636</td>\n",
              "      <td>0.363636</td>\n",
              "      <td>0.363636</td>\n",
              "      <td>0.363636</td>\n",
              "      <td>0.363636</td>\n",
              "      <td>0.363636</td>\n",
              "      <td>0.363636</td>\n",
              "      <td>0.363636</td>\n",
              "      <td>0.363636</td>\n",
              "      <td>0.363636</td>\n",
              "      <td>0.681818</td>\n",
              "      <td>0.909091</td>\n",
              "      <td>1.0</td>\n",
              "      <td>0.363636</td>\n",
              "      <td>0.363636</td>\n",
              "      <td>0.681818</td>\n",
              "      <td>1.0</td>\n",
              "      <td>1.0</td>\n",
              "      <td>1.0</td>\n",
              "      <td>1.0</td>\n",
              "      <td>0.545455</td>\n",
              "      <td>1.0</td>\n",
              "      <td>1.0</td>\n",
              "      <td>1.0</td>\n",
              "      <td>1.0</td>\n",
              "      <td>1.0</td>\n",
              "      <td>0.590909</td>\n",
              "      <td>1.0</td>\n",
              "      <td>1.0</td>\n",
              "      <td>1.0</td>\n",
              "      <td>1.0</td>\n",
              "      <td>1.0</td>\n",
              "      <td>0.590909</td>\n",
              "      <td>0.363636</td>\n",
              "      <td>0.772727</td>\n",
              "      <td>1.0</td>\n",
              "      <td>1.0</td>\n",
              "      <td>1.0</td>\n",
              "      <td>1.0</td>\n",
              "    </tr>\n",
              "    <tr>\n",
              "      <th>split3_test_score</th>\n",
              "      <td>0.363636</td>\n",
              "      <td>0.363636</td>\n",
              "      <td>0.363636</td>\n",
              "      <td>0.363636</td>\n",
              "      <td>0.363636</td>\n",
              "      <td>0.363636</td>\n",
              "      <td>0.363636</td>\n",
              "      <td>0.363636</td>\n",
              "      <td>0.363636</td>\n",
              "      <td>0.363636</td>\n",
              "      <td>0.363636</td>\n",
              "      <td>0.363636</td>\n",
              "      <td>0.363636</td>\n",
              "      <td>0.681818</td>\n",
              "      <td>0.863636</td>\n",
              "      <td>0.909091</td>\n",
              "      <td>0.363636</td>\n",
              "      <td>0.363636</td>\n",
              "      <td>0.681818</td>\n",
              "      <td>0.909091</td>\n",
              "      <td>0.909091</td>\n",
              "      <td>0.909091</td>\n",
              "      <td>0.818182</td>\n",
              "      <td>0.5</td>\n",
              "      <td>0.909091</td>\n",
              "      <td>0.909091</td>\n",
              "      <td>0.954545</td>\n",
              "      <td>0.863636</td>\n",
              "      <td>0.818182</td>\n",
              "      <td>0.590909</td>\n",
              "      <td>0.909091</td>\n",
              "      <td>0.954545</td>\n",
              "      <td>0.863636</td>\n",
              "      <td>0.863636</td>\n",
              "      <td>0.818182</td>\n",
              "      <td>0.590909</td>\n",
              "      <td>0.363636</td>\n",
              "      <td>0.772727</td>\n",
              "      <td>0.909091</td>\n",
              "      <td>0.954545</td>\n",
              "      <td>0.909091</td>\n",
              "      <td>0.909091</td>\n",
              "    </tr>\n",
              "    <tr>\n",
              "      <th>split4_test_score</th>\n",
              "      <td>0.409091</td>\n",
              "      <td>0.409091</td>\n",
              "      <td>0.409091</td>\n",
              "      <td>0.409091</td>\n",
              "      <td>0.409091</td>\n",
              "      <td>0.409091</td>\n",
              "      <td>0.409091</td>\n",
              "      <td>0.409091</td>\n",
              "      <td>0.409091</td>\n",
              "      <td>0.409091</td>\n",
              "      <td>0.409091</td>\n",
              "      <td>0.409091</td>\n",
              "      <td>0.409091</td>\n",
              "      <td>0.727273</td>\n",
              "      <td>0.909091</td>\n",
              "      <td>0.954545</td>\n",
              "      <td>0.409091</td>\n",
              "      <td>0.409091</td>\n",
              "      <td>0.727273</td>\n",
              "      <td>0.954545</td>\n",
              "      <td>0.954545</td>\n",
              "      <td>0.954545</td>\n",
              "      <td>0.954545</td>\n",
              "      <td>0.636364</td>\n",
              "      <td>0.954545</td>\n",
              "      <td>0.954545</td>\n",
              "      <td>0.954545</td>\n",
              "      <td>0.954545</td>\n",
              "      <td>0.954545</td>\n",
              "      <td>0.681818</td>\n",
              "      <td>0.954545</td>\n",
              "      <td>0.954545</td>\n",
              "      <td>0.954545</td>\n",
              "      <td>0.954545</td>\n",
              "      <td>0.954545</td>\n",
              "      <td>0.681818</td>\n",
              "      <td>0.409091</td>\n",
              "      <td>0.909091</td>\n",
              "      <td>0.954545</td>\n",
              "      <td>0.954545</td>\n",
              "      <td>0.954545</td>\n",
              "      <td>0.954545</td>\n",
              "    </tr>\n",
              "    <tr>\n",
              "      <th>mean_test_score</th>\n",
              "      <td>0.366403</td>\n",
              "      <td>0.366403</td>\n",
              "      <td>0.366403</td>\n",
              "      <td>0.366403</td>\n",
              "      <td>0.366403</td>\n",
              "      <td>0.366403</td>\n",
              "      <td>0.366403</td>\n",
              "      <td>0.366403</td>\n",
              "      <td>0.366403</td>\n",
              "      <td>0.366403</td>\n",
              "      <td>0.366403</td>\n",
              "      <td>0.366403</td>\n",
              "      <td>0.366403</td>\n",
              "      <td>0.696443</td>\n",
              "      <td>0.901581</td>\n",
              "      <td>0.955336</td>\n",
              "      <td>0.366403</td>\n",
              "      <td>0.366403</td>\n",
              "      <td>0.696443</td>\n",
              "      <td>0.937945</td>\n",
              "      <td>0.964032</td>\n",
              "      <td>0.94664</td>\n",
              "      <td>0.928458</td>\n",
              "      <td>0.501581</td>\n",
              "      <td>0.937945</td>\n",
              "      <td>0.964032</td>\n",
              "      <td>0.973123</td>\n",
              "      <td>0.946245</td>\n",
              "      <td>0.911067</td>\n",
              "      <td>0.581423</td>\n",
              "      <td>0.964032</td>\n",
              "      <td>0.964427</td>\n",
              "      <td>0.954941</td>\n",
              "      <td>0.946245</td>\n",
              "      <td>0.911067</td>\n",
              "      <td>0.581423</td>\n",
              "      <td>0.366403</td>\n",
              "      <td>0.838735</td>\n",
              "      <td>0.955336</td>\n",
              "      <td>0.973123</td>\n",
              "      <td>0.972727</td>\n",
              "      <td>0.955336</td>\n",
              "    </tr>\n",
              "    <tr>\n",
              "      <th>std_test_score</th>\n",
              "      <td>0.022485</td>\n",
              "      <td>0.022485</td>\n",
              "      <td>0.022485</td>\n",
              "      <td>0.022485</td>\n",
              "      <td>0.022485</td>\n",
              "      <td>0.022485</td>\n",
              "      <td>0.022485</td>\n",
              "      <td>0.022485</td>\n",
              "      <td>0.022485</td>\n",
              "      <td>0.022485</td>\n",
              "      <td>0.022485</td>\n",
              "      <td>0.022485</td>\n",
              "      <td>0.022485</td>\n",
              "      <td>0.01661</td>\n",
              "      <td>0.019054</td>\n",
              "      <td>0.039794</td>\n",
              "      <td>0.022485</td>\n",
              "      <td>0.022485</td>\n",
              "      <td>0.01661</td>\n",
              "      <td>0.035211</td>\n",
              "      <td>0.033918</td>\n",
              "      <td>0.033305</td>\n",
              "      <td>0.06162</td>\n",
              "      <td>0.085693</td>\n",
              "      <td>0.035211</td>\n",
              "      <td>0.033918</td>\n",
              "      <td>0.021957</td>\n",
              "      <td>0.044708</td>\n",
              "      <td>0.063488</td>\n",
              "      <td>0.058964</td>\n",
              "      <td>0.033918</td>\n",
              "      <td>0.032761</td>\n",
              "      <td>0.049799</td>\n",
              "      <td>0.044708</td>\n",
              "      <td>0.063488</td>\n",
              "      <td>0.058964</td>\n",
              "      <td>0.022485</td>\n",
              "      <td>0.055794</td>\n",
              "      <td>0.039794</td>\n",
              "      <td>0.021957</td>\n",
              "      <td>0.036364</td>\n",
              "      <td>0.028764</td>\n",
              "    </tr>\n",
              "    <tr>\n",
              "      <th>rank_test_score</th>\n",
              "      <td>27</td>\n",
              "      <td>27</td>\n",
              "      <td>27</td>\n",
              "      <td>27</td>\n",
              "      <td>27</td>\n",
              "      <td>27</td>\n",
              "      <td>27</td>\n",
              "      <td>27</td>\n",
              "      <td>27</td>\n",
              "      <td>27</td>\n",
              "      <td>27</td>\n",
              "      <td>27</td>\n",
              "      <td>27</td>\n",
              "      <td>22</td>\n",
              "      <td>20</td>\n",
              "      <td>8</td>\n",
              "      <td>27</td>\n",
              "      <td>27</td>\n",
              "      <td>22</td>\n",
              "      <td>15</td>\n",
              "      <td>5</td>\n",
              "      <td>12</td>\n",
              "      <td>17</td>\n",
              "      <td>26</td>\n",
              "      <td>15</td>\n",
              "      <td>5</td>\n",
              "      <td>1</td>\n",
              "      <td>13</td>\n",
              "      <td>18</td>\n",
              "      <td>24</td>\n",
              "      <td>5</td>\n",
              "      <td>4</td>\n",
              "      <td>11</td>\n",
              "      <td>13</td>\n",
              "      <td>18</td>\n",
              "      <td>24</td>\n",
              "      <td>27</td>\n",
              "      <td>21</td>\n",
              "      <td>8</td>\n",
              "      <td>1</td>\n",
              "      <td>3</td>\n",
              "      <td>8</td>\n",
              "    </tr>\n",
              "    <tr>\n",
              "      <th>split0_train_score</th>\n",
              "      <td>0.370787</td>\n",
              "      <td>0.370787</td>\n",
              "      <td>0.370787</td>\n",
              "      <td>0.370787</td>\n",
              "      <td>0.370787</td>\n",
              "      <td>0.370787</td>\n",
              "      <td>0.370787</td>\n",
              "      <td>0.370787</td>\n",
              "      <td>0.370787</td>\n",
              "      <td>0.370787</td>\n",
              "      <td>0.370787</td>\n",
              "      <td>0.370787</td>\n",
              "      <td>0.370787</td>\n",
              "      <td>0.696629</td>\n",
              "      <td>0.898876</td>\n",
              "      <td>0.94382</td>\n",
              "      <td>0.382022</td>\n",
              "      <td>0.370787</td>\n",
              "      <td>0.696629</td>\n",
              "      <td>0.94382</td>\n",
              "      <td>0.977528</td>\n",
              "      <td>0.977528</td>\n",
              "      <td>1.0</td>\n",
              "      <td>1.0</td>\n",
              "      <td>0.94382</td>\n",
              "      <td>0.977528</td>\n",
              "      <td>0.988764</td>\n",
              "      <td>0.988764</td>\n",
              "      <td>1.0</td>\n",
              "      <td>1.0</td>\n",
              "      <td>0.977528</td>\n",
              "      <td>0.988764</td>\n",
              "      <td>0.988764</td>\n",
              "      <td>1.0</td>\n",
              "      <td>1.0</td>\n",
              "      <td>1.0</td>\n",
              "      <td>0.370787</td>\n",
              "      <td>0.853933</td>\n",
              "      <td>0.966292</td>\n",
              "      <td>0.988764</td>\n",
              "      <td>0.988764</td>\n",
              "      <td>0.977528</td>\n",
              "    </tr>\n",
              "    <tr>\n",
              "      <th>split1_train_score</th>\n",
              "      <td>0.370787</td>\n",
              "      <td>0.370787</td>\n",
              "      <td>0.370787</td>\n",
              "      <td>0.370787</td>\n",
              "      <td>0.370787</td>\n",
              "      <td>0.370787</td>\n",
              "      <td>0.370787</td>\n",
              "      <td>0.370787</td>\n",
              "      <td>0.370787</td>\n",
              "      <td>0.370787</td>\n",
              "      <td>0.370787</td>\n",
              "      <td>0.370787</td>\n",
              "      <td>0.370787</td>\n",
              "      <td>0.696629</td>\n",
              "      <td>0.932584</td>\n",
              "      <td>0.977528</td>\n",
              "      <td>0.393258</td>\n",
              "      <td>0.370787</td>\n",
              "      <td>0.696629</td>\n",
              "      <td>0.932584</td>\n",
              "      <td>0.966292</td>\n",
              "      <td>1.0</td>\n",
              "      <td>1.0</td>\n",
              "      <td>1.0</td>\n",
              "      <td>0.932584</td>\n",
              "      <td>0.977528</td>\n",
              "      <td>0.988764</td>\n",
              "      <td>0.988764</td>\n",
              "      <td>1.0</td>\n",
              "      <td>1.0</td>\n",
              "      <td>0.977528</td>\n",
              "      <td>0.988764</td>\n",
              "      <td>0.988764</td>\n",
              "      <td>1.0</td>\n",
              "      <td>1.0</td>\n",
              "      <td>1.0</td>\n",
              "      <td>0.370787</td>\n",
              "      <td>0.910112</td>\n",
              "      <td>0.966292</td>\n",
              "      <td>0.977528</td>\n",
              "      <td>0.988764</td>\n",
              "      <td>0.988764</td>\n",
              "    </tr>\n",
              "    <tr>\n",
              "      <th>split2_train_score</th>\n",
              "      <td>0.366667</td>\n",
              "      <td>0.366667</td>\n",
              "      <td>0.366667</td>\n",
              "      <td>0.366667</td>\n",
              "      <td>0.366667</td>\n",
              "      <td>0.366667</td>\n",
              "      <td>0.366667</td>\n",
              "      <td>0.366667</td>\n",
              "      <td>0.366667</td>\n",
              "      <td>0.366667</td>\n",
              "      <td>0.366667</td>\n",
              "      <td>0.366667</td>\n",
              "      <td>0.366667</td>\n",
              "      <td>0.7</td>\n",
              "      <td>0.877778</td>\n",
              "      <td>0.944444</td>\n",
              "      <td>0.366667</td>\n",
              "      <td>0.366667</td>\n",
              "      <td>0.7</td>\n",
              "      <td>0.922222</td>\n",
              "      <td>0.966667</td>\n",
              "      <td>0.977778</td>\n",
              "      <td>1.0</td>\n",
              "      <td>1.0</td>\n",
              "      <td>0.922222</td>\n",
              "      <td>0.966667</td>\n",
              "      <td>0.977778</td>\n",
              "      <td>0.977778</td>\n",
              "      <td>1.0</td>\n",
              "      <td>1.0</td>\n",
              "      <td>0.966667</td>\n",
              "      <td>0.977778</td>\n",
              "      <td>0.977778</td>\n",
              "      <td>1.0</td>\n",
              "      <td>1.0</td>\n",
              "      <td>1.0</td>\n",
              "      <td>0.366667</td>\n",
              "      <td>0.844444</td>\n",
              "      <td>0.944444</td>\n",
              "      <td>0.977778</td>\n",
              "      <td>0.977778</td>\n",
              "      <td>0.988889</td>\n",
              "    </tr>\n",
              "    <tr>\n",
              "      <th>split3_train_score</th>\n",
              "      <td>0.366667</td>\n",
              "      <td>0.366667</td>\n",
              "      <td>0.366667</td>\n",
              "      <td>0.366667</td>\n",
              "      <td>0.366667</td>\n",
              "      <td>0.366667</td>\n",
              "      <td>0.366667</td>\n",
              "      <td>0.366667</td>\n",
              "      <td>0.366667</td>\n",
              "      <td>0.366667</td>\n",
              "      <td>0.366667</td>\n",
              "      <td>0.366667</td>\n",
              "      <td>0.366667</td>\n",
              "      <td>0.7</td>\n",
              "      <td>0.888889</td>\n",
              "      <td>0.966667</td>\n",
              "      <td>0.4</td>\n",
              "      <td>0.366667</td>\n",
              "      <td>0.7</td>\n",
              "      <td>0.944444</td>\n",
              "      <td>0.977778</td>\n",
              "      <td>1.0</td>\n",
              "      <td>1.0</td>\n",
              "      <td>1.0</td>\n",
              "      <td>0.933333</td>\n",
              "      <td>0.988889</td>\n",
              "      <td>0.988889</td>\n",
              "      <td>1.0</td>\n",
              "      <td>1.0</td>\n",
              "      <td>1.0</td>\n",
              "      <td>0.988889</td>\n",
              "      <td>0.988889</td>\n",
              "      <td>1.0</td>\n",
              "      <td>1.0</td>\n",
              "      <td>1.0</td>\n",
              "      <td>1.0</td>\n",
              "      <td>0.366667</td>\n",
              "      <td>0.766667</td>\n",
              "      <td>0.966667</td>\n",
              "      <td>0.988889</td>\n",
              "      <td>0.988889</td>\n",
              "      <td>1.0</td>\n",
              "    </tr>\n",
              "    <tr>\n",
              "      <th>split4_train_score</th>\n",
              "      <td>0.355556</td>\n",
              "      <td>0.355556</td>\n",
              "      <td>0.355556</td>\n",
              "      <td>0.355556</td>\n",
              "      <td>0.355556</td>\n",
              "      <td>0.355556</td>\n",
              "      <td>0.355556</td>\n",
              "      <td>0.355556</td>\n",
              "      <td>0.355556</td>\n",
              "      <td>0.355556</td>\n",
              "      <td>0.355556</td>\n",
              "      <td>0.355556</td>\n",
              "      <td>0.355556</td>\n",
              "      <td>0.688889</td>\n",
              "      <td>0.933333</td>\n",
              "      <td>0.955556</td>\n",
              "      <td>0.355556</td>\n",
              "      <td>0.355556</td>\n",
              "      <td>0.688889</td>\n",
              "      <td>0.933333</td>\n",
              "      <td>0.977778</td>\n",
              "      <td>0.977778</td>\n",
              "      <td>1.0</td>\n",
              "      <td>1.0</td>\n",
              "      <td>0.933333</td>\n",
              "      <td>0.977778</td>\n",
              "      <td>1.0</td>\n",
              "      <td>0.988889</td>\n",
              "      <td>1.0</td>\n",
              "      <td>1.0</td>\n",
              "      <td>0.977778</td>\n",
              "      <td>0.988889</td>\n",
              "      <td>1.0</td>\n",
              "      <td>1.0</td>\n",
              "      <td>1.0</td>\n",
              "      <td>1.0</td>\n",
              "      <td>0.355556</td>\n",
              "      <td>0.877778</td>\n",
              "      <td>0.966667</td>\n",
              "      <td>0.988889</td>\n",
              "      <td>1.0</td>\n",
              "      <td>1.0</td>\n",
              "    </tr>\n",
              "    <tr>\n",
              "      <th>mean_train_score</th>\n",
              "      <td>0.366092</td>\n",
              "      <td>0.366092</td>\n",
              "      <td>0.366092</td>\n",
              "      <td>0.366092</td>\n",
              "      <td>0.366092</td>\n",
              "      <td>0.366092</td>\n",
              "      <td>0.366092</td>\n",
              "      <td>0.366092</td>\n",
              "      <td>0.366092</td>\n",
              "      <td>0.366092</td>\n",
              "      <td>0.366092</td>\n",
              "      <td>0.366092</td>\n",
              "      <td>0.366092</td>\n",
              "      <td>0.696429</td>\n",
              "      <td>0.906292</td>\n",
              "      <td>0.957603</td>\n",
              "      <td>0.379501</td>\n",
              "      <td>0.366092</td>\n",
              "      <td>0.696429</td>\n",
              "      <td>0.935281</td>\n",
              "      <td>0.973208</td>\n",
              "      <td>0.986617</td>\n",
              "      <td>1.0</td>\n",
              "      <td>1.0</td>\n",
              "      <td>0.933059</td>\n",
              "      <td>0.977678</td>\n",
              "      <td>0.988839</td>\n",
              "      <td>0.988839</td>\n",
              "      <td>1.0</td>\n",
              "      <td>1.0</td>\n",
              "      <td>0.977678</td>\n",
              "      <td>0.986617</td>\n",
              "      <td>0.991061</td>\n",
              "      <td>1.0</td>\n",
              "      <td>1.0</td>\n",
              "      <td>1.0</td>\n",
              "      <td>0.366092</td>\n",
              "      <td>0.850587</td>\n",
              "      <td>0.962072</td>\n",
              "      <td>0.98437</td>\n",
              "      <td>0.988839</td>\n",
              "      <td>0.991036</td>\n",
              "    </tr>\n",
              "    <tr>\n",
              "      <th>std_train_score</th>\n",
              "      <td>0.005581</td>\n",
              "      <td>0.005581</td>\n",
              "      <td>0.005581</td>\n",
              "      <td>0.005581</td>\n",
              "      <td>0.005581</td>\n",
              "      <td>0.005581</td>\n",
              "      <td>0.005581</td>\n",
              "      <td>0.005581</td>\n",
              "      <td>0.005581</td>\n",
              "      <td>0.005581</td>\n",
              "      <td>0.005581</td>\n",
              "      <td>0.005581</td>\n",
              "      <td>0.005581</td>\n",
              "      <td>0.00406</td>\n",
              "      <td>0.022775</td>\n",
              "      <td>0.013011</td>\n",
              "      <td>0.016456</td>\n",
              "      <td>0.005581</td>\n",
              "      <td>0.00406</td>\n",
              "      <td>0.008228</td>\n",
              "      <td>0.005496</td>\n",
              "      <td>0.010928</td>\n",
              "      <td>0.0</td>\n",
              "      <td>0.0</td>\n",
              "      <td>0.006835</td>\n",
              "      <td>0.007028</td>\n",
              "      <td>0.007028</td>\n",
              "      <td>0.007028</td>\n",
              "      <td>0.0</td>\n",
              "      <td>0.0</td>\n",
              "      <td>0.007028</td>\n",
              "      <td>0.00442</td>\n",
              "      <td>0.008328</td>\n",
              "      <td>0.0</td>\n",
              "      <td>0.0</td>\n",
              "      <td>0.0</td>\n",
              "      <td>0.005581</td>\n",
              "      <td>0.047695</td>\n",
              "      <td>0.008816</td>\n",
              "      <td>0.005485</td>\n",
              "      <td>0.007028</td>\n",
              "      <td>0.008402</td>\n",
              "    </tr>\n",
              "  </tbody>\n",
              "</table>\n",
              "</div>\n",
              "      <button class=\"colab-df-convert\" onclick=\"convertToInteractive('df-fe0f5a33-a21e-4b75-ae97-c0221e03a100')\"\n",
              "              title=\"Convert this dataframe to an interactive table.\"\n",
              "              style=\"display:none;\">\n",
              "        \n",
              "  <svg xmlns=\"http://www.w3.org/2000/svg\" height=\"24px\"viewBox=\"0 0 24 24\"\n",
              "       width=\"24px\">\n",
              "    <path d=\"M0 0h24v24H0V0z\" fill=\"none\"/>\n",
              "    <path d=\"M18.56 5.44l.94 2.06.94-2.06 2.06-.94-2.06-.94-.94-2.06-.94 2.06-2.06.94zm-11 1L8.5 8.5l.94-2.06 2.06-.94-2.06-.94L8.5 2.5l-.94 2.06-2.06.94zm10 10l.94 2.06.94-2.06 2.06-.94-2.06-.94-.94-2.06-.94 2.06-2.06.94z\"/><path d=\"M17.41 7.96l-1.37-1.37c-.4-.4-.92-.59-1.43-.59-.52 0-1.04.2-1.43.59L10.3 9.45l-7.72 7.72c-.78.78-.78 2.05 0 2.83L4 21.41c.39.39.9.59 1.41.59.51 0 1.02-.2 1.41-.59l7.78-7.78 2.81-2.81c.8-.78.8-2.07 0-2.86zM5.41 20L4 18.59l7.72-7.72 1.47 1.35L5.41 20z\"/>\n",
              "  </svg>\n",
              "      </button>\n",
              "      \n",
              "  <style>\n",
              "    .colab-df-container {\n",
              "      display:flex;\n",
              "      flex-wrap:wrap;\n",
              "      gap: 12px;\n",
              "    }\n",
              "\n",
              "    .colab-df-convert {\n",
              "      background-color: #E8F0FE;\n",
              "      border: none;\n",
              "      border-radius: 50%;\n",
              "      cursor: pointer;\n",
              "      display: none;\n",
              "      fill: #1967D2;\n",
              "      height: 32px;\n",
              "      padding: 0 0 0 0;\n",
              "      width: 32px;\n",
              "    }\n",
              "\n",
              "    .colab-df-convert:hover {\n",
              "      background-color: #E2EBFA;\n",
              "      box-shadow: 0px 1px 2px rgba(60, 64, 67, 0.3), 0px 1px 3px 1px rgba(60, 64, 67, 0.15);\n",
              "      fill: #174EA6;\n",
              "    }\n",
              "\n",
              "    [theme=dark] .colab-df-convert {\n",
              "      background-color: #3B4455;\n",
              "      fill: #D2E3FC;\n",
              "    }\n",
              "\n",
              "    [theme=dark] .colab-df-convert:hover {\n",
              "      background-color: #434B5C;\n",
              "      box-shadow: 0px 1px 3px 1px rgba(0, 0, 0, 0.15);\n",
              "      filter: drop-shadow(0px 1px 2px rgba(0, 0, 0, 0.3));\n",
              "      fill: #FFFFFF;\n",
              "    }\n",
              "  </style>\n",
              "\n",
              "      <script>\n",
              "        const buttonEl =\n",
              "          document.querySelector('#df-fe0f5a33-a21e-4b75-ae97-c0221e03a100 button.colab-df-convert');\n",
              "        buttonEl.style.display =\n",
              "          google.colab.kernel.accessAllowed ? 'block' : 'none';\n",
              "\n",
              "        async function convertToInteractive(key) {\n",
              "          const element = document.querySelector('#df-fe0f5a33-a21e-4b75-ae97-c0221e03a100');\n",
              "          const dataTable =\n",
              "            await google.colab.kernel.invokeFunction('convertToInteractive',\n",
              "                                                     [key], {});\n",
              "          if (!dataTable) return;\n",
              "\n",
              "          const docLinkHtml = 'Like what you see? Visit the ' +\n",
              "            '<a target=\"_blank\" href=https://colab.research.google.com/notebooks/data_table.ipynb>data table notebook</a>'\n",
              "            + ' to learn more about interactive tables.';\n",
              "          element.innerHTML = '';\n",
              "          dataTable['output_type'] = 'display_data';\n",
              "          await google.colab.output.renderOutput(dataTable, element);\n",
              "          const docLink = document.createElement('div');\n",
              "          docLink.innerHTML = docLinkHtml;\n",
              "          element.appendChild(docLink);\n",
              "        }\n",
              "      </script>\n",
              "    </div>\n",
              "  </div>\n",
              "  "
            ]
          },
          "metadata": {},
          "execution_count": 43
        }
      ]
    },
    {
      "cell_type": "markdown",
      "source": [
        "#### 그리드 서치에 다양한 교차 검증 적용\n",
        "\n",
        "- GridSearchCV는 분류에는 기본적으로 계층형 k-겹 교차 검증을 사용하고 회귀에서는 k-겹 교차 검증을 사용함\n",
        "\n",
        "- GridSearchCV의 cv 매개변수를 통해 다른 교차 검증 분할기를 사용이 가능\n",
        "\n",
        "- 훈련 세트와 검증 세트로 한 번만 분할하려면 n_splits = 1로 하고 ShuffleSplit나 StratifiedShuffleSplit를 사용(데이터셋이 매우 크거나 모델 구축에 시간이 오래 걸릴 때 유용)"
      ],
      "metadata": {
        "id": "X4vJ-9R-9jmt"
      }
    },
    {
      "cell_type": "markdown",
      "source": [
        "#### 중첩 교차 검증\n",
        "\n",
        "**중첩 교차 검증(nested cross-validation)** : 원본 데이터를 훈련 세트와 테스트 세트로 한 번만 나누는 방식 대신 더 나아가 교차 검증 분할 방식\n",
        "\n",
        "1) 테스트 점수의 목록을 만들어줌\n",
        "\n",
        "2) 각 훈련 세트에 대해 그리드 서치를 실행\n",
        "\n",
        "3) 바깥쪽에서 분할된 테스트 세트의 점수를 최적의 매개변수 설정을 사용해 각각 측정\n",
        "\n",
        "- 테스트 점수의 목록을 만들어줌\n",
        "\n",
        "- 그리드 서치를 통해 찾은 최적 매개변수가 모델을 얼마나 잘 일반화시키는지 알 수 있음\n",
        "\n",
        "- 특정 데이터셋에서 주어진 모델이 얼마나 잘 일반화되는지 평가하는 데 유용"
      ],
      "metadata": {
        "id": "2oT4WX7A_-PV"
      }
    },
    {
      "cell_type": "code",
      "source": [
        "param_grid = {'C' : [0.001, 0.01, 0.1, 1, 10, 100],\n",
        "              'gamma' : [0.001, 0.01, 0.1, 1, 10, 100]}\n",
        "\n",
        "scores = cross_val_score(GridSearchCV(SVC(), param_grid, cv = 5), iris.data, iris.target, cv = 5)\n",
        "print(\"Cross-validation score: \", scores)\n",
        "print(\"Cross-validation mean score: \", scores.mean())"
      ],
      "metadata": {
        "colab": {
          "base_uri": "https://localhost:8080/"
        },
        "id": "wSxihJyarZv5",
        "outputId": "a9be45a7-168b-4de0-9727-2bfa95614262"
      },
      "execution_count": 44,
      "outputs": [
        {
          "output_type": "stream",
          "name": "stdout",
          "text": [
            "Cross-validation score:  [0.96666667 1.         0.96666667 0.96666667 1.        ]\n",
            "Cross-validation mean score:  0.9800000000000001\n"
          ]
        }
      ]
    },
    {
      "cell_type": "markdown",
      "source": [
        "**중첩 교차 검증의 결과**\n",
        "\n",
        "\"SVC는 iris 데이터셋에서 평균 교차 검증 정확도가 98%다\" 라고 할 수 있다."
      ],
      "metadata": {
        "id": "RDT42Jq-FP_K"
      }
    },
    {
      "cell_type": "code",
      "source": [
        "def nested_cv(X, y, inner_cv, outer_cv, Classifier, parameter_grid):\n",
        "  outer_scores = []\n",
        "  # outer_cv의 분할을 순회하는 for 루프\n",
        "  # (split 메소드는 훈련과 테스트 세트에 해당하는 인덱스를 반환)\n",
        "  for training_samples, test_samples in outer_cv.split(X, y):\n",
        "    # 최적의 매개변수 찾기\n",
        "    best_parms = {}\n",
        "    best_score = -np.inf\n",
        "    # 매개변수 그리드를 순회\n",
        "    for parameters in parameter_grid:\n",
        "      # 안쪽 교차 검증의 점수를 기록\n",
        "      cv_scores = []\n",
        "      # inner_cv의 분할을 순회하는 for 루프\n",
        "      for inner_train, inner_test in inner_cv.split(X[training_samples], y[training_samples]): # 훈련 데이터와 주어진 매개변수로 분류기 만들기\n",
        "        clf = Classifier(**parameters)\n",
        "        clf.fit(X[inner_train], y[inner_train])\n",
        "        # 검증 세트로 평가\n",
        "        score = clf.score(X[inner_test], y[inner_test])\n",
        "        cv_scores.append(score)\n",
        "      # 안쪽 교차 검증의 평균 점수를 계산\n",
        "      mean_score = np.mean(cv_scores)\n",
        "      if mean_score > best_score:\n",
        "        # 점수가 더 높으면 매개변수와 함께 기록\n",
        "        best_score = mean_score\n",
        "        best_params = parameters\n",
        "       # 바깥쪽 훈련 데이터 전체를 사용해 분류기 만들기\n",
        "    clf = Classifier(**best_params)\n",
        "    clf.fit(X[training_samples], y[training_samples])\n",
        "    # 테스트 세트를 사용해 평가\n",
        "    outer_scores.append(clf.score(X[test_samples], y[test_samples]))\n",
        "  return np.array(outer_scores)  \n"
      ],
      "metadata": {
        "id": "ZJ7s4sRmE7Ye"
      },
      "execution_count": 45,
      "outputs": []
    },
    {
      "cell_type": "code",
      "source": [
        "from sklearn.model_selection import ParameterGrid, StratifiedKFold\n",
        "scores = nested_cv(iris.data, iris.target, StratifiedKFold(5), StratifiedKFold(5), SVC, ParameterGrid(param_grid))\n",
        "print(\"Cross-validation score:\", scores)"
      ],
      "metadata": {
        "colab": {
          "base_uri": "https://localhost:8080/"
        },
        "id": "Mk4W0JxLH22-",
        "outputId": "974152bb-d1e6-4368-e72f-63e5eb2b42ac"
      },
      "execution_count": 46,
      "outputs": [
        {
          "output_type": "stream",
          "name": "stdout",
          "text": [
            "Cross-validation score: [0.96666667 1.         0.96666667 0.96666667 1.        ]\n"
          ]
        }
      ]
    },
    {
      "cell_type": "markdown",
      "source": [
        "#### 교차 검증과 그리드 서치 병렬화\n",
        "\n",
        "그리드 서치는 데이터 용량이 크고 매개변수 수도 많을 때는 상당한 연산 부하를 일으키지만, 다행히 쉽게 병렬화가 가능하다. <br>\n",
        "&rarr; 그리드 서티와 교차 검증은 여러 CPU 코어 또는 클러스터를 병렬화 "
      ],
      "metadata": {
        "id": "ED7eq4CxI24s"
      }
    },
    {
      "cell_type": "markdown",
      "source": [
        "***NOTE_ RandomizedSearchCV***\n",
        "\n",
        "RandomizedSearchCV : 검색이 빠르기 때문에, 매개변수의 조합이 매우 많거나 규제 매개변수 C와 같이 연속형 값을 조정해야 할 때 널리 사용\n",
        "\n",
        "- n_iter  매개변수(기본값 10)로 탐색 횟수를 조정할 수 있어 컴퓨팅 지원에 맞게 탐색을 실행\n",
        "\n",
        "- 샘플링 가능한 분포를 지정"
      ],
      "metadata": {
        "id": "9ENbHdWeMFtM"
      }
    },
    {
      "cell_type": "code",
      "source": [
        "from sklearn.model_selection import RandomizedSearchCV\n",
        "from sklearn.utils.fixes import loguniform\n",
        "\n",
        "param_dist = [{'kernel': ['rbf'], 'C': loguniform(0.001, 100), 'gamma': loguniform(0.001, 100)},\n",
        "              {'kernel': ['linear'],'C': loguniform(0.001, 100)}]"
      ],
      "metadata": {
        "id": "0DJgfSXoIeNt"
      },
      "execution_count": 47,
      "outputs": []
    },
    {
      "cell_type": "code",
      "source": [
        "rand_search = RandomizedSearchCV(SVC(), param_dist, n_iter = 20, random_state = 42, n_jobs = -1)\n",
        "rand_search.fit(X_train, y_train)\n",
        "print(\"Best parameters:\", rand_search.best_params_)\n",
        "print(\"Best cross-validation score: {:.2f}\".format(rand_search.best_score_))"
      ],
      "metadata": {
        "colab": {
          "base_uri": "https://localhost:8080/"
        },
        "id": "aqQG5jAeNUzv",
        "outputId": "18cb6a22-4587-4df7-c65b-d4ae3ff6f6a3"
      },
      "execution_count": 48,
      "outputs": [
        {
          "output_type": "stream",
          "name": "stdout",
          "text": [
            "Best parameters: {'C': 1.7965626423790642, 'kernel': 'linear'}\n",
            "Best cross-validation score: 0.97\n"
          ]
        }
      ]
    },
    {
      "cell_type": "markdown",
      "source": [
        "***NOTE_HalvingGridSearchCV***\n",
        "\n",
        "HalvingGridSearchCV : 모든 파라미터 조합에 대해 제한된 자원으로 그리드서치를 실행한 다음 가장 좋은 후보를 골라서 더 많은 자원을 투여하는 식으로 반복적으로 탐색을 수행함 = **SH**라고도 부름\n",
        "\n",
        "- resource 매개변수 : 반복마다 늘려 갈 자원을 정의(기본값은 'n_samples'로 샘플 개수임)\n",
        "\n",
        "- 탐색 대상 모델에서 양의 정수 값을 가진 매개변수를 지정할 수 있음 (ex. n_estimators)\n",
        "\n",
        "- factor 매개변수 : 반복마다 선택할 후보의 비율을 지정(기본값 = 3, 후보 중에서 성능이 높은 1/3만 다음 반복으로 전달)"
      ],
      "metadata": {
        "id": "JWEce-89OtJo"
      }
    },
    {
      "cell_type": "code",
      "source": [
        "from sklearn.experimental import enable_halving_search_cv\n",
        "from sklearn.model_selection import HalvingGridSearchCV\n",
        "\n",
        "param_grid = [{'kernel' : ['rbf'], 'C' : [0.001, 0.01, 0.1, 1, 10, 100], 'gamma' : [0.001, 0.01, 0.1, 1, 10, 100]},\n",
        "              {'kernel' : ['linear'], 'C' : [0.001, 0.01, 0.1, 1, 10, 100]}]\n",
        "halv_search = HalvingGridSearchCV(SVC(), param_grid, verbose = 1, random_state = 42, n_jobs = -1)\n",
        "halv_search.fit(X_train, y_train)\n",
        "print()\n",
        "print(\"Best parameters:\", halv_search.best_params_)\n",
        "print(\"Best cross-validation score: {:.2f}\".format(halv_search.best_score_))"
      ],
      "metadata": {
        "colab": {
          "base_uri": "https://localhost:8080/"
        },
        "id": "X9iXsZe9N_6N",
        "outputId": "13bd4d7f-109b-4cc8-e9f8-acad2064d23b"
      },
      "execution_count": 49,
      "outputs": [
        {
          "output_type": "stream",
          "name": "stdout",
          "text": [
            "n_iterations: 2\n",
            "n_required_iterations: 4\n",
            "n_possible_iterations: 2\n",
            "min_resources_: 30\n",
            "max_resources_: 112\n",
            "aggressive_elimination: False\n",
            "factor: 3\n",
            "----------\n",
            "iter: 0\n",
            "n_candidates: 42\n",
            "n_resources: 30\n",
            "Fitting 5 folds for each of 42 candidates, totalling 210 fits\n",
            "----------\n",
            "iter: 1\n",
            "n_candidates: 14\n",
            "n_resources: 90\n",
            "Fitting 5 folds for each of 14 candidates, totalling 70 fits\n",
            "\n",
            "Best parameters: {'C': 100, 'gamma': 0.01, 'kernel': 'rbf'}\n",
            "Best cross-validation score: 0.97\n"
          ]
        }
      ]
    },
    {
      "cell_type": "markdown",
      "source": [
        "**출력된 결과 분석**\n",
        "\n",
        "1) 첫 번째 반복(iter : 0)에서 42개의 후보를 30개의 샘플로 교차 검증을 수행\n",
        "\n",
        "- 샘플개수는 회귀일 때는 cv횟수의 두 배이고 분류일 경우에는 클래스 개수를 더 곱한다.\n",
        "\n",
        "ex ) 5(기본 5-겹 교차검증 &rarr; cv횟수 :5) * 2 * 3(클래스 개수 : 3) = 30 &rarr; 붓꽃 분류 문제\n",
        "\n",
        "2) 두 번째 반복(iter : 1)은 첫 번째 반복에서 가장 좋은 성능의 42/3 = 14개의 후보를 뽑아 샘플 개수를 factor배만큼 늘려서 교차 검증을 수행\n",
        "\n",
        "- factor = 3이므로 30 * 3 = 90개의 샘플을 사용\n",
        "\n",
        "3) factor 배만큼 반복할 수 있는 최대 크기이므로 알고리즘 중단 & 가장 좋은 파라미커 조합을 best_params_에 저장\n",
        "\n",
        "*장점*<br>\n",
        "전체 교차 검증 횟수는 42 + 14 = 56회로 그리드 서치보다 많지만 사용한 샘플 개수가 적기 때문에 빠르게 실행된다.\n"
      ],
      "metadata": {
        "id": "uOG7iZ8nSZ9J"
      }
    },
    {
      "cell_type": "code",
      "source": [
        "print(\"자원 리스트:\", halv_search.n_resources_)\n",
        "print(\"후보 리스트:\", halv_search.n_candidates_)"
      ],
      "metadata": {
        "colab": {
          "base_uri": "https://localhost:8080/"
        },
        "id": "m0TDZUaaQmxl",
        "outputId": "05a203f5-3ae2-4256-d6f0-32f53e56f46d"
      },
      "execution_count": 50,
      "outputs": [
        {
          "output_type": "stream",
          "name": "stdout",
          "text": [
            "자원 리스트: [30, 90]\n",
            "후보 리스트: [42, 14]\n"
          ]
        }
      ]
    },
    {
      "cell_type": "markdown",
      "source": [
        "## 5.3 평가 지표와 측정\n",
        "\n",
        "분류 성능 평가 : 정확도(정확하게 분류된 샘플의 비율)를 사용\n",
        "\n",
        "회귀 성능 평가 : R^2을 사용\n",
        "\n",
        "*실전에서 위의 평가 지표가 적합하지 않을 수도 있으므로 모델을 선택하고 매개변수를 튜닝할 때 올바른 지표를 선택하는 것이 중요*\n"
      ],
      "metadata": {
        "id": "x4beRYNpy4tS"
      }
    },
    {
      "cell_type": "markdown",
      "source": [
        "### 5.3.1 최종 목표를 기억하라\n",
        "\n",
        "실전에서 정확한 예측을 만드는 것뿐 아니라 큰 의사 결정 프로세스의 일부로 사용하는 데 더 중점을 둬야 할지 모르기 때문에 머신러닝 평가 지표를 선택하기 전에 비즈니스 지표라고 부를는 애플리케이션의 고차원적인 목표를 생각해야한다."
      ],
      "metadata": {
        "id": "XOJI3cAZzxZJ"
      }
    },
    {
      "cell_type": "markdown",
      "source": [
        "### 5.3.2 이진 분류의 평가 지표\n",
        "\n",
        "이진 분류는 실전에서 가장 널리 사용하고 개념도 쉬운 머신러닝 알고리즘이지만 정확도를 잘못 측정하는 데에 주의할 점이 있다.\n",
        "\n",
        "이진 분류에서는 양성 클래스와 음성 클래스가 있으며 관심 클래스는 양성 클래스이다."
      ],
      "metadata": {
        "id": "SIxsdv66016C"
      }
    },
    {
      "cell_type": "markdown",
      "source": [
        "#### 에러의 종류\n",
        "\n",
        "***ex) 자동화 테스트로 암을 조기 발견하는 애플리케이션***\n",
        "\n",
        "음성 : 건강함\n",
        "\n",
        "양성 : 추가 검사를 받아야함\n",
        "\n",
        "**거짓 양성(false positive)** : 잘못된 양성 예측으로 건강한 사람을 양성(추가 검사 필요)로 분류하는 경우\n",
        "  - 거짓 양성 = 타입 1 에러\n",
        "\n",
        "**거짓 음성(false negative)** : 잘못된 음성 예측으로 암에 걸린 사람을 음성(건강함)으로 분류\n",
        "\n",
        "  - 거짓 음성 = 타입 2 에러\n",
        "\n",
        "*암 진단 예에서는 거짓 음성을 최대한 피해야 함*"
      ],
      "metadata": {
        "id": "amnErcOR1ToI"
      }
    },
    {
      "cell_type": "markdown",
      "source": [
        "#### 불균형 데이터셋\n",
        "\n",
        "두 종류의 에러(거짓 양성과 거짓 음성)는 두 클래스 중 하나가 다른 것보다 훨씬 많을 때 더 중요함.\n",
        "\n",
        "*ex) 어떤 아이템이 사용자에게 보여진 노출 데이터로 클릭을 예측하는 애플리케이션*\n",
        "\n",
        "클릭이 아닌 데이터 99개와 클릭 데이터 1개가 데이터셋으로 만들어진 경우 = 샘플의 99%가 '클릭아님' 클래스에 속하는 경우\n",
        "\n",
        "**불균형 데이터셋(imbalanced datasets) or 불균형 클래스의 데이터셋** : 한 클래스가 다른 것보다 훨씬 많은 데이터셋\n",
        "\n",
        "*클릭을 99% 정확도로 예측하는 분류기*<br>\n",
        "\n",
        "&rarr; 단순히 정확도가 높다고 정말 좋은 모델이라는 것은 아님"
      ],
      "metadata": {
        "id": "D9M-NmlW20NY"
      }
    },
    {
      "cell_type": "code",
      "source": [
        "from sklearn.datasets import load_digits\n",
        "digits = load_digits()\n",
        "y = digits.target == 9\n",
        "\n",
        "X_train, X_test, y_train, y_test = train_test_split(digits.data, y, random_state = 0)"
      ],
      "metadata": {
        "id": "6yGJ5L3Vzwpb"
      },
      "execution_count": 51,
      "outputs": []
    },
    {
      "cell_type": "code",
      "source": [
        "# DummyClassifier : 항상 다수인 클래스를 예측값으로 출력\n",
        "from sklearn.dummy import DummyClassifier\n",
        "dummy_majority = DummyClassifier(strategy = 'most_frequent').fit(X_train, y_train)\n",
        "pred_most_frequent = dummy_majority.predict(X_test)\n",
        "print(\"예측된 레이블의 레이블:\", np.unique(pred_most_frequent))\n",
        "print(\"테스트 점수: {:.2f}\".format(dummy_majority.score(X_test, y_test)))"
      ],
      "metadata": {
        "colab": {
          "base_uri": "https://localhost:8080/"
        },
        "id": "_iIPKU3q4yAr",
        "outputId": "6c5febab-2bdc-4f67-c20b-92f4c393603c"
      },
      "execution_count": 52,
      "outputs": [
        {
          "output_type": "stream",
          "name": "stdout",
          "text": [
            "예측된 레이블의 레이블: [False]\n",
            "테스트 점수: 0.90\n"
          ]
        }
      ]
    },
    {
      "cell_type": "markdown",
      "source": [
        "테스트 점수가 0.90이라는 것은 정확도가 90%라는 것을 의미함<br>\n",
        "거의 아무것도 학습하지 않고 90% 정확도를 엍었음 &rarr; 좋은 모델이라고 착각할 수 있음"
      ],
      "metadata": {
        "id": "qbuon43V5h--"
      }
    },
    {
      "cell_type": "code",
      "source": [
        "from sklearn.tree import DecisionTreeClassifier\n",
        "tree = DecisionTreeClassifier(max_depth = 2).fit(X_train, y_train)\n",
        "pred_tree = tree.predict(X_test)\n",
        "print(\"Test score: {:.2f}\".format(tree.score(X_test, y_test)))"
      ],
      "metadata": {
        "colab": {
          "base_uri": "https://localhost:8080/"
        },
        "id": "pdepCP505W5B",
        "outputId": "c198492f-cca8-4f24-fb1e-ade6ac6753df"
      },
      "execution_count": 53,
      "outputs": [
        {
          "output_type": "stream",
          "name": "stdout",
          "text": [
            "Test score: 0.92\n"
          ]
        }
      ]
    },
    {
      "cell_type": "markdown",
      "source": [
        "정확도가 92%로 DummyClassifier 분류기보다 조금 나음<br>\n",
        "&rarr; DecisionTreeClassifier를 잘못 사용했거나 이 문제에서 좋은 측정 방법이 아님"
      ],
      "metadata": {
        "id": "a6rjNIxq6Ov1"
      }
    },
    {
      "cell_type": "code",
      "source": [
        "# LogisticRegression과 DummyClassifier 분류기 비교\n",
        "from sklearn.linear_model import LogisticRegression\n",
        "\n",
        "dummy = DummyClassifier(strategy = 'stratified').fit(X_train, y_train)\n",
        "pred_dummy = dummy.predict(X_test)\n",
        "print(\"Dummy score: {:.2f}\".format(dummy.score(X_test, y_test)))\n",
        "\n",
        "logreg = LogisticRegression(C = 0.1, max_iter = 1000).fit(X_train, y_train)\n",
        "pred_logreg = logreg.predict(X_test)\n",
        "print(\"Logreg score: {:.2f}\".format(logreg.score(X_test, y_test)))"
      ],
      "metadata": {
        "colab": {
          "base_uri": "https://localhost:8080/"
        },
        "id": "qFHsGqYE6Lhw",
        "outputId": "b040a009-0727-499e-c02f-4f10bda53c2c"
      },
      "execution_count": 54,
      "outputs": [
        {
          "output_type": "stream",
          "name": "stdout",
          "text": [
            "Dummy score: 0.82\n",
            "Logreg score: 0.98\n"
          ]
        }
      ]
    },
    {
      "cell_type": "markdown",
      "source": [
        "더미 분류기보다 LogisticRegression의 정확도가 더 높지만 더미 분류기조차도 80%를 맞췄음<br>\n",
        "&rarr; 실제로 유용한 것인지 판단 X\n",
        "\n",
        "***빈도나 무작위 기반 예측(pred_most_frequent or pred_dummy)보다 얼마나 더 나은지 알려주는 평가 지표가 필요함 &rarr; 비상식적인 예측은 피할 수 있어야함***"
      ],
      "metadata": {
        "id": "BHHhPy6a7axc"
      }
    },
    {
      "cell_type": "markdown",
      "source": [
        "#### 오차 행렬\n",
        "\n",
        "**오차 행렬(confusion matrix)** : 이진 분류 평가 결과를 나타낼 때 가장 널리 사용하는 방법\n",
        "\n",
        "행은 정답 클래스에 해당하고, 열은 예측 클래스에 해당함\n",
        "\n",
        "오차 행렬의 대각 행렬(맨 왼쪽 맨 위에서 맨 오른쪽 맨 아래로 이어지는)은 정확히 분류된 경우이다."
      ],
      "metadata": {
        "id": "P-IqNHmW86_y"
      }
    },
    {
      "cell_type": "code",
      "source": [
        "from sklearn.metrics import confusion_matrix\n",
        "\n",
        "confusion = confusion_matrix(y_test, pred_logreg)\n",
        "print(\"Confusion matrix:\\n\", confusion)"
      ],
      "metadata": {
        "colab": {
          "base_uri": "https://localhost:8080/"
        },
        "id": "Objee8oG7RHu",
        "outputId": "621aaef8-368b-4967-e0e7-57f82b56ea90"
      },
      "execution_count": 55,
      "outputs": [
        {
          "output_type": "stream",
          "name": "stdout",
          "text": [
            "Confusion matrix:\n",
            " [[402   1]\n",
            " [  6  41]]\n"
          ]
        }
      ]
    },
    {
      "cell_type": "code",
      "source": [
        "# '9와 9 아님' 분류 문제의 오차 행렬\n",
        "mglearn.plots.plot_confusion_matrix_illustration()"
      ],
      "metadata": {
        "colab": {
          "base_uri": "https://localhost:8080/",
          "height": 492
        },
        "id": "lvH43tZg9T0M",
        "outputId": "7c27ec4a-5d37-4590-86da-bb21e1f6a6eb"
      },
      "execution_count": 56,
      "outputs": [
        {
          "output_type": "display_data",
          "data": {
            "text/plain": [
              "<Figure size 576x576 with 1 Axes>"
            ],
            "image/png": "[encoded data removed]"
          },
          "metadata": {
            "needs_background": "light"
          }
        }
      ]
    },
    {
      "cell_type": "markdown",
      "source": [
        "- TN(True negative) : 진짜 음성, 실제 음성인데 예측도 음성\n",
        "\n",
        "- TP(True positive) : 진짜 양성, 실제 양성인데 예측도 양성\n",
        "\n",
        "- FN : False negative로 거짓 음성, 실제는 양성인데 예측은 음성\n",
        "\n",
        "- FP(False positive) : 거짓 양성, 실제는 음성인데 예측은 양성\n"
      ],
      "metadata": {
        "id": "MRsIqU9WAGAb"
      }
    },
    {
      "cell_type": "code",
      "source": [
        "# 이진 분류의 오차 행렬\n",
        "mglearn.plots.plot_binary_confusion_matrix()"
      ],
      "metadata": {
        "colab": {
          "base_uri": "https://localhost:8080/",
          "height": 270
        },
        "id": "yZk8FsoB9qAa",
        "outputId": "18b2487a-694e-4549-e386-cf412d03738a"
      },
      "execution_count": 57,
      "outputs": [
        {
          "output_type": "display_data",
          "data": {
            "text/plain": [
              "<Figure size 432x288 with 1 Axes>"
            ],
            "image/png": "[encoded data removed]"
          },
          "metadata": {
            "needs_background": "light"
          }
        }
      ]
    },
    {
      "cell_type": "code",
      "source": [
        "# 더미 모델 두개, 결정 트리, 로지스틱 회귀\n",
        "print(\"빈도 기반 더미 모델:\")\n",
        "print(confusion_matrix(y_test, pred_most_frequent))\n",
        "print(\"\\n무작위 더미 모델:\")\n",
        "print(confusion_matrix(y_test, pred_dummy))\n",
        "print(\"\\n결정 트리\")\n",
        "print(confusion_matrix(y_test, pred_tree))\n",
        "print(\"\\n로지스틱 회귀\")\n",
        "print(confusion_matrix(y_test, pred_logreg))"
      ],
      "metadata": {
        "colab": {
          "base_uri": "https://localhost:8080/"
        },
        "id": "cHb3fezvACP4",
        "outputId": "92a367f4-10db-49c8-f99c-67281fef1e6c"
      },
      "execution_count": 58,
      "outputs": [
        {
          "output_type": "stream",
          "name": "stdout",
          "text": [
            "빈도 기반 더미 모델:\n",
            "[[403   0]\n",
            " [ 47   0]]\n",
            "\n",
            "무작위 더미 모델:\n",
            "[[361  42]\n",
            " [ 43   4]]\n",
            "\n",
            "결정 트리\n",
            "[[390  13]\n",
            " [ 24  23]]\n",
            "\n",
            "로지스틱 회귀\n",
            "[[402   1]\n",
            " [  6  41]]\n"
          ]
        }
      ]
    },
    {
      "cell_type": "markdown",
      "source": [
        "- pred_most_frequent : 항상 동일한 클래스를 예측하기 때문에 잘못된 결과가 출력\n",
        "\n",
        "- pred_dummy : 거짓 음성(FN)과 거짓 양성(FP)보다 진짜 양성(TP)이 매우 적고, 진짜 양성(TP)보다 거짓 양성(FP)가 매우 많음\n",
        "\n",
        "- pred_tree : pred_dummy보다 정상적으로 출력되었지만, 정확도는 비슷함\n",
        "\n",
        "- logreg : 진짜 양성(TP)과 진짜 거짓(TN)이 더 많은 반면, 거짓 양성(FP)과 거짓 음성(FN)은 적음\n",
        "\n",
        "&rarr; 결정 트리와 로지스틱 회귀만 정상적으로 출력되었으며, 로지스틱이 결정 트리보다 더 잘 작동함"
      ],
      "metadata": {
        "id": "mHsJuCWoBenL"
      }
    },
    {
      "cell_type": "code",
      "source": [
        "# 오차 행렬을 시각화 1\n",
        "# from_estimator : 오차 행렬을 그림\n",
        "from sklearn.metrics import ConfusionMatrixDisplay\n",
        "\n",
        "ConfusionMatrixDisplay.from_estimator(logreg, X_test, y_test, display_labels = ['Not 9', '9'])\n",
        "plt.show()"
      ],
      "metadata": {
        "colab": {
          "base_uri": "https://localhost:8080/",
          "height": 282
        },
        "id": "tVZdeSSNBQrn",
        "outputId": "a41afdee-fb6f-4438-ccd1-a2ea3bc07ac5"
      },
      "execution_count": 59,
      "outputs": [
        {
          "output_type": "display_data",
          "data": {
            "text/plain": [
              "<Figure size 432x288 with 2 Axes>"
            ],
            "image/png": "[encoded data removed]"
          },
          "metadata": {
            "needs_background": "light"
          }
        }
      ]
    },
    {
      "cell_type": "code",
      "source": [
        "# 오차 행렬 시각화 2\n",
        "# from_predictions : 예측 결과로부터 오차 행렬을 그림, pred_logreg를 전달\n",
        "ConfusionMatrixDisplay.from_predictions(y_test, pred_logreg, display_labels = ['Not 9', '9'])\n",
        "plt.show()"
      ],
      "metadata": {
        "colab": {
          "base_uri": "https://localhost:8080/",
          "height": 282
        },
        "id": "on5bTjtxC30r",
        "outputId": "c3858671-bc94-4381-b470-106a92ee772a"
      },
      "execution_count": 60,
      "outputs": [
        {
          "output_type": "display_data",
          "data": {
            "text/plain": [
              "<Figure size 432x288 with 2 Axes>"
            ],
            "image/png": "[encoded data removed]"
          },
          "metadata": {
            "needs_background": "light"
          }
        }
      ]
    },
    {
      "cell_type": "markdown",
      "source": [
        "##### **정확도와의 관계**\n",
        "\n",
        "정확도(accuracy)는 정확히 예측한 수(TP + TN)를 전체 샘플 수(오차 행렬의 모든 항목을 더한 값)로 나눈 것이다.\n",
        "\n",
        "<img src = \"data:image/png;base64,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\">"
      ],
      "metadata": {
        "id": "DgCU31RVDrF8"
      }
    },
    {
      "cell_type": "markdown",
      "source": [
        "##### **정밀도, 재현율, f-점수**\n",
        "\n",
        "오차 행렬의 결과를 요약하는 방법\n",
        "\n",
        "1) **정밀도(precision)** : 양성으로 예측된 것(TP + FP) 중 얼마나 많은 샘플이 진짜 양성(TP)인지 측정\n",
        "\n",
        "- 거짓 양성(FP)의 수를 줄이는 것이 목표일 때 성능 지표로 사용 = 높은 정밀도가 중요한 경우\n",
        "\n",
        "- **양성 예측도(PPV)**라고도 함\n",
        "\n",
        "<img src = \"data:image/png;base64,iVBORw0KGgoAAAANSUhEUgAAAeoAAABnCAMAAAD46vG6AAAA21BMVEX///8AAADq6upbW1sAsPDAAAAArvC9AAAAsvAArO/d3d3t7e0XFxfY2Nj4+Pj3/P7CwsLS7vvh8vxBwPPsubmy3/iC1vfTVVVMTEyxsbF6enrJyclkZGTIGRkkt/HY8/1AQEA4ODjOXl6CgoKIz/bjm5uTk5NTx/TQ0NCgoKBvb2/34ODHKiqj2ffgo6MmJiarq6sQEBAwMDDpr6/88fFhy/Wi4PmamppISEiLi4vae3tnxPTQZ2e05/rD6Po9PT3QREThj4/eh4fJSUny0ND66OjLMjKR1fd30/bZHnjYAAAJeklEQVR4nO2di3qaSBSAFVIUEDQxTUSN0dh622y9ZBM1TZt0u2n6/k+0c2ZgmEFAgxhSPf/u1w+Gi5ifOXMVcjkEQRAEQRAEQRAEeb98LLaqMq0iSf7mr/fPLstZXyWSAh/1I4JG/3cXQPWlzlc1Xaveoew/H6ZaRKuS5DIkaxRI01snWV8osi0fiyxqg1AWyov9HFNd7N8S+i0d8nYVXe8Jl5B1BZvlIjF/yZa/V8H1bTYXhqTNcYzq3AnkeR2L6/0gVnXuG2y9y+K6kNSJV31J1rSzLK4LSZ141TkSwfXfGVwWkj4bqMZcvR/Eqz4uYlm9N8SrvoOtl2HHIX8csaqPobHVyuS6kNSJUX1yV4SutO8ZXRmSMmGqi18/Eb62oBdc72MPyp4QppoOarHhDq2f3aUh6RKuWmdoxRfM03tDdAD/9OnlW3bXhaTOmi4UZH9A1QcDqj4YUPXBgKoPBlR9MKDqgwFVHwwrqjVUvacca5qsWj/SisfZXc9usQ0leqNpmG93JRlw3KpWW8I8kxOY/r+vqg113JlHbWy0x4/OW17NW1M+IZSj198BRsWjYW2X76Z5wiTiU2BbvrLV+ZEtcfKccXtUsROfiNlU4z6lm/jkSApYeYnHxDlPocc3wzcy1ZHhHXkLQHVp1iGMmezEJaoKRzfCt9kL+Bgj6amRNADVqmKapmJURtR1UiH2clyLjAlKfVwbJDwxkg5QxDa9EnoSE4M3ILagT14LQNJBUp2rQ5zd7wbw4SKrHgTbRMbAcjfahmVZwT4S0xoMwvtGDGs4dwZGRF4OPRndQNLxVtsNsuqcWzEzu/V6V8kZzVJ+wTY4KlTb2iOxJLe7NYgCtSE9vtHr9ebumZQRq+TNmm4tzyEbJ/xj2MlmI7/0npNjifohqdtNF3vd15Id4aohdab0YG0EyUqHN8d6fN8KTytZ7uqYnWkiNN+mNKUrVAKMMd/YdHOwPSU7GsbCTV4GrzJfCoDdMa9HVm26AVwhNhY9rlZZCO68PNcQ0iCvg+oaPRNrq48fO9CBNqQ7g+o6O064bUjl33VNwsO48siTg222Uj4Iqn41smro6iiRQGq22R+0NmpDhoU4rZJoa0BzbMpiuAEea45hTGrs785Vm7D7jAbnRn3GSuQ5V22D6Q45wvSDBm2Uk6yar08q3Xx+tRUwRdXbI6m2oRsECmemetGwbch1IHFG97GbPLzCUo16tFmR2/BU07qdVwy7dS+Hqx7CVsVftOgiVP3zM+qP3gGB6lyz3pVZYCP91YiqzaaXX6jqmVf3Vv1cRDvXYEHySeGqoaSeBarRXLU9FsriNs/WXTec5NyiHFvh6QOqVUNRFHOwnNGISmNwW4iRlq+BhVLIiDTvSWfiqoXMyuGqG2JRvIRYTs8Mqt1KgNnZXrWpHDhhDVYjUAaO6V+eqvbaVaBp4R0LGX9CMmfNL2eDqqnNjlyz4qrB6aN331jce9e/tdJQ3Vkp2w+M9nrVI2aBqvYyJpSjqmVQFAjmPbeqLo9UcdUKq0l36g1Fqu9R1aq3F0BHwyY7UF1XD5yw8WJJddeL2ZJqNXjL9FxJci2Yq/Yb3NOmN1WBq4ZowOvX5jTvNtTXqJ5UAjg4SvZqAl0oLpLqxyjVcoz2VeecDt93wc6yperVCIWNrVezgWrqTeypWqs6p0xqnpMxLeW3VI1dKCmwgep6frVPY41qwJoz3bTYkFSr3l5mHnP127GB6qVox8WvUHGCqkk1nRbatPLOVTfzQnWenoW2sdaotlbA4a9Xs4FqcDgLjDhSH3I1b1W128SGGhRXDSkl78z0VqD9MCnXwJEQNlANYx8rAxB0EoOUEqaa975w1VLVHQS3eRcKqt4tG6imWmv+EfRfh2fInNvRzVXbfkMI9qpJAZz2srbdT/E7SVH17tlENc2JdbdzZcnCrw29qG0q1Rw9ep1kbLhjWndnn9DubFrt8oc7aNCmI5s2nbbICl1UvXusDVSzIndaHw7nYKdDd6fZetpzJssS6zjng5hQya71Jo6zpG0kunePq6a1vHzTcYYql85qa6LqXX7lQ8UKqV67xbMwYjEX2znunTEUkkTVyljcucQKeWFqgl0XNrum6e3hqqZTF7AzLH1A9XhlQp8hlsRApePJ6fAWrTOWhIHqKdwFxtyfSbBwndXFO2robR97M1rofAXHv6Konw4gW6AMBnxSqI9NUgdy6qDbbDZHc+mucJYkzes4hzN5d4fRG6k1dbTkgcGAj/FP78DJuoJPi2z35pmtfjbyvjFRF/L+KVf1YkuiqMPrD6t+avXv4yQ/n/784cKnUDglSX7K0/3pXyl/E2QN5aoWfNOlDm+/6/svwNT0YjXBY2J/FD4IFJ5J0gc/qVC4fkDZbwrJ1fzNpe5LTOkLdfr0Ke4a/Edtv/557jcFatTjH5J04afQpS/pfx8kkvJttQ9Uj+AlppQWPNjklhiunhF+99mz+z+FHm40eCUzyCnR+fTZ5eEB6jPXRPA9rP64uqB5+3Rn3wuJBN5YXBTWz7Qj7cVdpm/k0ELfyLHMR46yguorOem8wO3aP0D19T/bXTWSAKpaCNKiauo6/EUNvejnBsSrzuX+hRh+s801I4kIU+2/BA/CeegrlRxhNnWAdaqfn4jqhy0uGUlGvOoXqI+HPXGwkVx17oGs/dzikpFkxAbw3J0W8fqsbVTfo+pMiM/VoLqYdq4G1edbXDKSjPhcDQE8tKzeRvUVltWZEJurT1pRNfA1qs+f/2KwJEn1fxdYA8+E2Fz9m8RvXSqqJ0OHQtrVU3exFxiOBdUX14wn1n6WVP+EhvXzTr4MEke06pPv0E2uyT2j/HcOAoFHMJ4KHd4rqp9Pr8ly4fMOvxESQYjqo9ZXoFWkHeTyY6BXft0Wr/qXr/rnA+Hqid0BO/5SSBhhqo/4QIjWCgxtuaqnwr98SpULqP55Ctx8uWEj+ufyYNc5hu8siFat6UetlXEt7xf80Fs2cJcDEzQiauDeSNeHX59xRkcmhKn++jfj40nkYa9vbN1/YeCgVlbEt6sj2aZdjWRDfG9ZJKj6zwNz9cGAufpgSJirh6j6jyNhru4FfhsjgKrfKQlVT1RVtcI3oep3SsIAbhMiNqHqd0pQ9e1mqmO4WVV9jfOB3wEvuqYdCar7uhYx9XtTfhQKhcAkE+gVxWn+WXNWJQiqf5PVLXP11cPDvTzPG8a0MFdnTRmIWU/AajEeU7IjCIIgCIIg+8L/+MfiBbnEqnAAAAAASUVORK5CYII=\">\n",
        "\n",
        "2) **재현율(recall)** : 전체 양성 샘플(TP + FN) 중에서 얼마나 많은 샘플이 양성 클래스 (TP)로 분류되는지 측정\n",
        "\n",
        "- 모든 양성 샘플을 식별해야 할 때 성능 지표로 사용 = 거짓 음성(FN)을 피하는 것\n",
        "\n",
        "- **민감도(sensitivity), 적중률(hit rate), 진짜 양성 비율(TPR)**이라고도 함\n",
        "\n",
        "<img src = \"https://encrypted-tbn0.gstatic.com/images?q=tbn:ANd9GcSXI1znMH_ddGH_GzTDrTE0IwSl6jC-jc3yG1NnSLrfpHmG8H0h5dRODe2EOokKTtispg&usqp=CAU\">\n",
        "\n",
        "재현율 최적화와 정밀도 최적화는 상충되며 재현율이 완벽해지면 정밀도는 매우 낮아지며, 정밀도가 완벽해지면 재현율은 매우 낮아진다.\n",
        "\n",
        "**f-점수(f-score) or f-측정(f-measure)** : 재현율과 정밀도로 전체적은 그림을 볼 수 없으므로 이를 이용해 조화 평균을 내 재현율과 정밀도의 결과를 요얄 할 수 있음 \n",
        "\n",
        "<img src = \"https://images.velog.io/images/jadon/post/f06f1d40-605d-4f13-b6ce-35c220c82968/image.png\">\n",
        "\n"
      ],
      "metadata": {
        "id": "RHRNozFBENuV"
      }
    },
    {
      "cell_type": "code",
      "source": [
        "from sklearn.metrics import f1_score\n",
        "print(\"빈도 기반 더미 모델의 f1 score: {:.2f}\".format(f1_score(y_test, pred_most_frequent)))\n",
        "print(\"무작위 더미 모델의 f1 score: {:.2f}\".format(f1_score(y_test, pred_dummy)))\n",
        "print(\"트리 모델의 f1 score: {:.2f}\".format(f1_score(y_test, pred_tree)))\n",
        "print(\"로지스틱 회귀 모델의 f1 score: {:.2f}\".format(f1_score(y_test, pred_logreg)))"
      ],
      "metadata": {
        "colab": {
          "base_uri": "https://localhost:8080/"
        },
        "id": "JsLylAE9DhqP",
        "outputId": "6eb1f544-b8ac-4ade-b196-bc2dfe242d16"
      },
      "execution_count": 61,
      "outputs": [
        {
          "output_type": "stream",
          "name": "stdout",
          "text": [
            "빈도 기반 더미 모델의 f1 score: 0.00\n",
            "무작위 더미 모델의 f1 score: 0.09\n",
            "트리 모델의 f1 score: 0.55\n",
            "로지스틱 회귀 모델의 f1 score: 0.92\n"
          ]
        }
      ]
    },
    {
      "cell_type": "markdown",
      "source": [
        "- 빈도 기반 모델 : 양성 클래스로 예측된 것이 존재하지 않아 f1-점수의 분모가 0이 되므로 에러가 뜬다.\n",
        "\n",
        "- 무작위 더미 모델 & 트리 모델 : 정확도에서는 없었던 뚜렷한 차이를 알 수 있다.\n",
        "\n",
        "*f1-점수를 사용해 평가하면 예측 성능이 다시 하나의 숫자로 요약되지만 정확도보다 이해하거나 설명하기가 어렵다.*"
      ],
      "metadata": {
        "id": "JZLfEqlENS6L"
      }
    },
    {
      "cell_type": "code",
      "source": [
        "# classification_report : 정밀도, 재현율, f1-score 모두 한 번에 계산하여 출력\n",
        "from sklearn.metrics import classification_report\n",
        "print(classification_report(y_test, pred_most_frequent, target_names = [\"Not 9\", \"9\"], zero_division = 0))"
      ],
      "metadata": {
        "colab": {
          "base_uri": "https://localhost:8080/"
        },
        "id": "VmOPpfp2I-g4",
        "outputId": "740f8663-84b7-40e0-8b8b-566fcef30ec5"
      },
      "execution_count": 62,
      "outputs": [
        {
          "output_type": "stream",
          "name": "stdout",
          "text": [
            "              precision    recall  f1-score   support\n",
            "\n",
            "       Not 9       0.90      1.00      0.94       403\n",
            "           9       0.00      0.00      0.00        47\n",
            "\n",
            "    accuracy                           0.90       450\n",
            "   macro avg       0.45      0.50      0.47       450\n",
            "weighted avg       0.80      0.90      0.85       450\n",
            "\n"
          ]
        }
      ]
    },
    {
      "cell_type": "markdown",
      "source": [
        "**classification_report 출력 결과 분석**\n",
        "\n",
        "- 클래스마다 한 줄씩 출력을 만들고, 각 클래스가 양성일 때 정밀도, 재현율, f1-점수를 리포트함\n",
        "\n",
        "- 마지막 열은 각 클래스에 대한 지지도(support)로, 단순히 이 클래스에 있는 진짜 샘플의 수를 의미\n",
        "\n",
        "- 마지막 세 줄은 정밀도, 재현율, f1-점수의 평균을 보여줌\n",
        "\n",
        "- macro avg : 클래스별 점수의 평균\n",
        "\n",
        "- weighted avg : 클래스의 샘플 수로 가중 평균"
      ],
      "metadata": {
        "id": "6c7lzDHDQa7B"
      }
    },
    {
      "cell_type": "code",
      "source": [
        "print(classification_report(y_test, pred_dummy, target_names = [\"9 아님\", \"9\"]))"
      ],
      "metadata": {
        "colab": {
          "base_uri": "https://localhost:8080/"
        },
        "id": "K1Td2X5HOOz0",
        "outputId": "5d416e5c-1ea8-4c44-fbb9-e11d5485c8a4"
      },
      "execution_count": 63,
      "outputs": [
        {
          "output_type": "stream",
          "name": "stdout",
          "text": [
            "              precision    recall  f1-score   support\n",
            "\n",
            "        9 아님       0.89      0.90      0.89       403\n",
            "           9       0.09      0.09      0.09        47\n",
            "\n",
            "    accuracy                           0.81       450\n",
            "   macro avg       0.49      0.49      0.49       450\n",
            "weighted avg       0.81      0.81      0.81       450\n",
            "\n"
          ]
        }
      ]
    },
    {
      "cell_type": "code",
      "source": [
        "print(classification_report(y_test, pred_logreg, target_names = [\"9 아님\", \"9\"]))"
      ],
      "metadata": {
        "colab": {
          "base_uri": "https://localhost:8080/"
        },
        "id": "uQ1dyJMxROqd",
        "outputId": "16508c6e-02d1-4253-ea0b-a70edb4feab7"
      },
      "execution_count": 64,
      "outputs": [
        {
          "output_type": "stream",
          "name": "stdout",
          "text": [
            "              precision    recall  f1-score   support\n",
            "\n",
            "        9 아님       0.99      1.00      0.99       403\n",
            "           9       0.98      0.87      0.92        47\n",
            "\n",
            "    accuracy                           0.98       450\n",
            "   macro avg       0.98      0.93      0.96       450\n",
            "weighted avg       0.98      0.98      0.98       450\n",
            "\n"
          ]
        }
      ]
    },
    {
      "cell_type": "markdown",
      "source": [
        "어떤 클래스를 양성 클래스로 선택하느냐가 이 평가 지표에 큰 영향을 끼치는 것을 알 수 있다.\n",
        "\n",
        "&rarr; ' 9 ' 클래스의  f1-점수는 0.19이지만 (로지스틱 회귀는 0.92), ' 9 아님 ' 클래스는 각각 0.92와 0.99이다.\n",
        "\n",
        "*두 모델의 비교를 통해 로지스틱 회귀 모델의 우수성을 알 수 있다.*"
      ],
      "metadata": {
        "id": "imvrxqtERyyD"
      }
    },
    {
      "cell_type": "markdown",
      "source": [
        "#### 불확실성 고려\n",
        "\n",
        "오차 행렬과 분류 리포트가 예측 결과를 자세히 분석할 수 있도록 도와주지만 예측값은 모델에 담긴 많은 정보가 이미 손실된 상태이다.\n",
        "\n",
        "&rarr; 예측의 확신을 가늠하기 위해 decision_function이나 predict_proba 메서드를 사용(출력의 임계값을 검증)\n",
        "\n",
        "*In 이진 탐색*\n",
        "\n",
        "- decision_function : 0이 임계값임\n",
        "\n",
        "-  predict_proba : 0.5가 임계값임"
      ],
      "metadata": {
        "id": "VoYsYTqQSflT"
      }
    },
    {
      "cell_type": "code",
      "source": [
        "# 결정 함수의 히트맵과 임계값 변화에 따른 영향을 시각화\n",
        "# 중앙 윗부분의 검은 원 : decision_function이 정확히 0일 때의 임계값을 나타냄\n",
        "# 원 안의 포인트는 양성 클래스로 바깥쪽 포인트는 음성 클래스로 분류\n",
        "X, y = make_blobs(n_samples = (400, 50), cluster_std = [7.0, 2], random_state = 22)\n",
        "X_train, X_test, y_train, y_test = train_test_split(X, y, random_state = 0)\n",
        "svc = SVC(gamma = .05).fit(X_train, y_train)"
      ],
      "metadata": {
        "id": "18P1ZIxfReue"
      },
      "execution_count": 65,
      "outputs": []
    },
    {
      "cell_type": "code",
      "source": [
        "mglearn.plots.plot_decision_threshold()"
      ],
      "metadata": {
        "colab": {
          "base_uri": "https://localhost:8080/",
          "height": 527
        },
        "id": "3aEQyu-FUD4s",
        "outputId": "88a8cf14-24a2-49f3-ceb9-a88166c858a0"
      },
      "execution_count": 66,
      "outputs": [
        {
          "output_type": "display_data",
          "data": {
            "text/plain": [
              "<Figure size 1080x576 with 6 Axes>"
            ],
            "image/png": "[encoded data removed]"
          },
          "metadata": {}
        }
      ]
    },
    {
      "cell_type": "code",
      "source": [
        "print(classification_report(y_test, svc.predict(X_test)))"
      ],
      "metadata": {
        "colab": {
          "base_uri": "https://localhost:8080/"
        },
        "id": "Ht4Z0xg_UG2E",
        "outputId": "34327d6f-55e2-43c0-915b-3e6b97e00b36"
      },
      "execution_count": 67,
      "outputs": [
        {
          "output_type": "stream",
          "name": "stdout",
          "text": [
            "              precision    recall  f1-score   support\n",
            "\n",
            "           0       0.97      0.89      0.93       104\n",
            "           1       0.35      0.67      0.46         9\n",
            "\n",
            "    accuracy                           0.88       113\n",
            "   macro avg       0.66      0.78      0.70       113\n",
            "weighted avg       0.92      0.88      0.89       113\n",
            "\n"
          ]
        }
      ]
    },
    {
      "cell_type": "markdown",
      "source": [
        "**출력된 결과 분석**\n",
        "\n",
        "- 클래스 1에 대해 상당히 작은 정밀도(precision)를 얻었으며 재현율(recall)은 절반 정도이다.\n",
        "\n",
        "- 클래스 0의 샘플이 매우 많으므로 분류기는 소수인 클래스 1보다 클래스 0에 초점을 맞추고 있다.\n",
        "\n",
        "ex) 클래스 1의 재현율(precision) 높이기\n",
        "\n",
        "(클래스 1로 잘못 분류된) 거짓 양성(FP)이 늘어나더라도 (재현율을 높이기 위해) 진짜 양성(TP)을 늘리려 함\n",
        "\n",
        "&rarr; 임계값을 바꿔 클래스 1의 재현율을 높이도록 예측을 조정 "
      ],
      "metadata": {
        "id": "2Z-4wwlVVmyB"
      }
    },
    {
      "cell_type": "code",
      "source": [
        "# 0보다 큰 클래스는 1로 분류 -> 임계값 낮추기\n",
        "y_pred_lower_threshold = svc.decision_function(X_test) > -.8"
      ],
      "metadata": {
        "id": "mzQp5jKMUaZC"
      },
      "execution_count": 68,
      "outputs": []
    },
    {
      "cell_type": "code",
      "source": [
        "print(classification_report(y_test, y_pred_lower_threshold))"
      ],
      "metadata": {
        "colab": {
          "base_uri": "https://localhost:8080/"
        },
        "id": "YDktGUvVYpH6",
        "outputId": "12c0f796-1ad2-491f-a2e1-d607e7ea7df9"
      },
      "execution_count": 69,
      "outputs": [
        {
          "output_type": "stream",
          "name": "stdout",
          "text": [
            "              precision    recall  f1-score   support\n",
            "\n",
            "           0       1.00      0.82      0.90       104\n",
            "           1       0.32      1.00      0.49         9\n",
            "\n",
            "    accuracy                           0.83       113\n",
            "   macro avg       0.66      0.91      0.69       113\n",
            "weighted avg       0.95      0.83      0.87       113\n",
            "\n"
          ]
        }
      ]
    },
    {
      "cell_type": "markdown",
      "source": [
        "**출력값을 분석**\n",
        "\n",
        "- 클래스 1의 재현율이 높아졌고 정밀도는 낮아짐\n",
        "\n",
        "*재현율보다 정밀도가 중요하거나 그 반대, 또는 데이터가 심하게 불균형일 때 결정 함수의 임계값을 바꾸면 더 나은 결과를 얻을 수 있다.*\n",
        "\n",
        "**주의할 점**\n",
        "\n",
        "- 임계값을 선택할 때 테스트 세트를 사용하지 않도록 주의해야함\n",
        "\n",
        "- 검증 세트나 교차 검증을 사용"
      ],
      "metadata": {
        "id": "nwO1TsWXZs2Q"
      }
    },
    {
      "cell_type": "markdown",
      "source": [
        "**Predict_proba 메서드**\n",
        "\n",
        "- 출력이 0에서 1 사이로 고정되니 임계값을 선택하기 쉬움\n",
        "\n",
        "- 기본값이 0.5를 임계값으로 설정하면 양성 클래스라는 확신이 50% 이상일 때 양성으로 분류\n",
        "\n",
        "- 임계값을 높이면 양성 클래스로 분류할 때 더 큰 확신이 있어야함(음성 클래스는 확신이 덜 필요)"
      ],
      "metadata": {
        "id": "xm6-whNXaR1M"
      }
    },
    {
      "cell_type": "markdown",
      "source": [
        "#### 정밀도-재현율 곡선과 ROC 곡선\n",
        "\n",
        "임계값을 바꾸는 것 = 정밀도와 재현율의 상충 관계를 조정하는 일\n",
        "\n",
        "분류기의 필요조건을 지정하는 것을 **운영 포인트(operating point)를 지정한다고 말할 수 있다.\n",
        "\n",
        "*if 운영 포인트가 명확하지 않은 경우*\n",
        "\n",
        "- 임계값을 조사\n",
        "\n",
        "- 동시에 정밀도나 재현율의 모든 장단점을 살펴보기\n",
        "\n",
        "&rarr; **정밀도-재현율 곡선(precision-recall curve)**을 사용"
      ],
      "metadata": {
        "id": "7HG938yAFBbO"
      }
    },
    {
      "cell_type": "code",
      "source": [
        "from sklearn.metrics import precision_recall_curve\n",
        "precision, recall, thresholds = precision_recall_curve(y_test, svc.decision_function(X_test))"
      ],
      "metadata": {
        "id": "QvcoaVV5Ytk6"
      },
      "execution_count": 70,
      "outputs": []
    },
    {
      "cell_type": "code",
      "source": [
        "# 부드러운 곡선을 위해 데이터 포인트 수를 늘림\n",
        "X, y = make_blobs(n_samples = (4000, 500), cluster_std = [7.0, 2], random_state = 22)\n",
        "X_train, X_test, y_train, y_test = train_test_split(X, y, random_state = 0)\n",
        "\n",
        "svc = SVC(gamma = .05).fit(X_train, y_train)\n",
        "\n",
        "precision, recall, thresholds = precision_recall_curve(y_test, svc.decision_function(X_test))\n",
        "# 0에 가까운 임계값 찾기\n",
        "close_zero = np.argmin(np.abs(thresholds))\n",
        "plt.plot(precision[close_zero], recall[close_zero], 'o', markersize = 10, label = \"threholds 0\", fillstyle = \"none\", c = 'k', mew = 2)\n",
        "plt.plot(precision, recall, label = \"precision-recall curve\")\n",
        "plt.xlabel(\"precision\")\n",
        "plt.ylabel(\"recall\")\n",
        "plt.legend(loc = \"best\")\n",
        "plt.show()"
      ],
      "metadata": {
        "colab": {
          "base_uri": "https://localhost:8080/",
          "height": 279
        },
        "id": "0kVyLTHhXbBd",
        "outputId": "00d8447f-46ab-4101-f7f4-8938fb344c73"
      },
      "execution_count": 71,
      "outputs": [
        {
          "output_type": "display_data",
          "data": {
            "text/plain": [
              "<Figure size 432x288 with 1 Axes>"
            ],
            "image/png": "[encoded data removed]"
          },
          "metadata": {
            "needs_background": "light"
          }
        }
      ]
    },
    {
      "cell_type": "markdown",
      "source": [
        "**그래프 분석**\n",
        "\n",
        "- 곡선이 오른쪽 위로 갈수록 더 좋은 분류기다. &rarr; 정밀도와 재현율이 모두 높은 곳임\n",
        "\n",
        "- 임계값이 높을수록 양성으로 분류된 포인트 대부분이 진짜 양성(TP)이 되며, 정밀도가 매우 높아지지만 재현율은 낮아짐\n",
        "\n",
        "- 정밀도(precision)이 0.5보다 크면 정밀도 증가에 따른 재현율 손실이 커진다."
      ],
      "metadata": {
        "id": "oaMkDCsCl8Oi"
      }
    },
    {
      "cell_type": "code",
      "source": [
        "# SVM과 랜덤 포레스트의 정밀도-재현율 곡선 비교\n",
        "# 분류기 변경 -> 운영 포인트가 달라짐\n",
        "from sklearn.ensemble import RandomForestClassifier\n",
        "\n",
        "rf = RandomForestClassifier(n_estimators = 100, random_state = 0, max_features = 2)\n",
        "rf.fit(X_train, y_train)\n",
        "\n",
        "# RandomForestClassifier는 decision_function 대신 predict_proba를 제공\n",
        "precision_rf, recall_rf, thresholds_rf = precision_recall_curve(y_test, rf.predict_proba(X_test)[:, 1])\n",
        "\n",
        "plt.plot(precision, recall, label = \"svc\")\n",
        "\n",
        "plt.plot(precision[close_zero], recall[close_zero], 'o', markersize = 10, label = \"svc: thresholds 0\", fillstyle = \"none\", c = 'k', mew = 2)\n",
        "plt.plot(precision_rf, recall_rf, label = \"rf\")\n",
        "\n",
        "close_default_rf = np.argmin(np.abs(thresholds_rf - 0.5))\n",
        "plt.plot(precision_rf[close_default_rf], recall_rf[close_default_rf], '^', c = 'k', markersize = 10, label = \"rf: thresholds 0.5\", fillstyle = \"none\", mew = 2)\n",
        "plt.xlabel(\"precision\")\n",
        "plt.ylabel(\"recall\")\n",
        "plt.legend(loc = \"best\")\n",
        "plt.show()"
      ],
      "metadata": {
        "colab": {
          "base_uri": "https://localhost:8080/",
          "height": 279
        },
        "id": "c2zX-mhxZuOO",
        "outputId": "860519d2-be06-49d0-8b17-be03982ff7c7"
      },
      "execution_count": 72,
      "outputs": [
        {
          "output_type": "display_data",
          "data": {
            "text/plain": [
              "<Figure size 432x288 with 1 Axes>"
            ],
            "image/png": "[encoded data removed]"
          },
          "metadata": {
            "needs_background": "light"
          }
        }
      ]
    },
    {
      "cell_type": "markdown",
      "source": [
        "**그래프 분석**\n",
        "\n",
        "- 재현율이 매우 높거나 정밀도가 매우 높을 때는 랜덤 포레스트가 더 낫음\n",
        "\n",
        "- 가운데 근처(정밀도 = 0.7 정도)에서는 SVM이 더 좋음\n",
        "\n",
        "- f1-점수는 정밀도-재현율 곡선의 한 지점인 기본 임계값에 대한 점수"
      ],
      "metadata": {
        "id": "ypjHj4xNpISw"
      }
    },
    {
      "cell_type": "code",
      "source": [
        "print(\"랜덤 포레스트의 f1_score: {:.3f}\".format(f1_score(y_test, rf.predict(X_test))))\n",
        "print(\"svc의 f1_score: {:.3f}\".format(f1_score(y_test, svc.predict(X_test))))"
      ],
      "metadata": {
        "colab": {
          "base_uri": "https://localhost:8080/"
        },
        "id": "kl6j5Gdho6lH",
        "outputId": "0a8fb1d2-ab39-40c3-8cc5-7a20fc9a330e"
      },
      "execution_count": 73,
      "outputs": [
        {
          "output_type": "stream",
          "name": "stdout",
          "text": [
            "랜덤 포레스트의 f1_score: 0.610\n",
            "svc의 f1_score: 0.656\n"
          ]
        }
      ]
    },
    {
      "cell_type": "markdown",
      "source": [
        "**평균 정밀도(average precision)** : 정밀도-재현율 곡선의 아랫부분 면적을 계산한 값으로 전체 곡선에 담긴 정보를 요약이 필요할 떄 사용"
      ],
      "metadata": {
        "id": "vdHwHML5qFrr"
      }
    },
    {
      "cell_type": "code",
      "source": [
        "# average_precision_score : 평균 정밀도를 계산\n",
        "from sklearn.metrics import average_precision_score\n",
        "ap_rf = average_precision_score(y_test, rf.predict_proba(X_test)[:, 1])\n",
        "ap_svc = average_precision_score(y_test, svc.decision_function(X_test))\n",
        "print(\"랜덤 포레스트의 평균 정밀도: {:.3f}\".format(ap_rf))\n",
        "print(\"svc의 평균 정밀도: {:.3f}\".format(ap_svc))"
      ],
      "metadata": {
        "colab": {
          "base_uri": "https://localhost:8080/"
        },
        "id": "eKmme39Fp9fA",
        "outputId": "9bb3dd5f-ccf1-4c93-daae-e3bc52a47896"
      },
      "execution_count": 74,
      "outputs": [
        {
          "output_type": "stream",
          "name": "stdout",
          "text": [
            "랜덤 포레스트의 평균 정밀도: 0.660\n",
            "svc의 평균 정밀도: 0.666\n"
          ]
        }
      ]
    },
    {
      "cell_type": "markdown",
      "source": [
        "**평균 정밀도 특징**\n",
        "\n",
        "- 0에서 1 사이를 지나는 곡선의 아래 면적이므로 항상 0(가장 나쁨)과 1(가장 좋음) 사이의 값을 반환\n",
        "\n",
        "- 무작위로 예측하는 분류기의 decision_function의 평균 정밀도는 데이터셋에 있는 양성 클래스의 비율이 됨"
      ],
      "metadata": {
        "id": "Da4ZMsdRrHEr"
      }
    },
    {
      "cell_type": "markdown",
      "source": [
        "***NOTE_ PrecisionRecallDisplay 클래스***\n",
        "\n",
        "- 정밀도-재현율 곡선을 그래는 클래스임\n",
        "- from_estimator 함수와 예측 결과를 사용하는 from_predictions 함수를 제공한다.\n",
        "- 재현율을 x 축에 놓고 정밀도를 y 축에 놓임"
      ],
      "metadata": {
        "id": "_H76YOoCrmB5"
      }
    },
    {
      "cell_type": "code",
      "source": [
        "from sklearn.metrics import PrecisionRecallDisplay\n",
        "\n",
        "fig, ax = plt.subplots()\n",
        "# SVC 곡선 그리기\n",
        "PrecisionRecallDisplay.from_estimator(svc, X_test, y_test, ax = ax)\n",
        "# 랜덤 포레스트 곡선 그리기\n",
        "PrecisionRecallDisplay.from_estimator(rf, X_test, y_test, ax =ax)\n",
        "plt.show()"
      ],
      "metadata": {
        "colab": {
          "base_uri": "https://localhost:8080/",
          "height": 279
        },
        "id": "ye1cRZJSrASK",
        "outputId": "ad71b007-0beb-41ff-83bb-302330a8f7d5"
      },
      "execution_count": 75,
      "outputs": [
        {
          "output_type": "display_data",
          "data": {
            "text/plain": [
              "<Figure size 432x288 with 1 Axes>"
            ],
            "image/png": "[encoded data removed]"
          },
          "metadata": {
            "needs_background": "light"
          }
        }
      ]
    },
    {
      "cell_type": "code",
      "source": [
        "# x축과 y축을 서로 바꿔 그림\n",
        "fig, ax = plt.subplots()\n",
        "# SVC 곡선 그리기\n",
        "disp = PrecisionRecallDisplay(precision = recall, recall = precision, average_precision = ap_svc, estimator_name = 'SVC')\n",
        "disp.plot(ax = ax)\n",
        "# 랜덤 포레스트 곡선 그리기\n",
        "disp = PrecisionRecallDisplay(precision = recall_rf, recall = precision_rf, average_precision = ap_rf, estimator_name = 'Random Forest')\n",
        "disp.plot(ax = ax)\n",
        "ax.set(xlabel = 'precision', ylabel = 'recall')\n",
        "plt.show()"
      ],
      "metadata": {
        "colab": {
          "base_uri": "https://localhost:8080/",
          "height": 279
        },
        "id": "50r0e-qZsYsN",
        "outputId": "14b8c36c-dd0c-4561-dbb6-b934ba5a2f52"
      },
      "execution_count": 76,
      "outputs": [
        {
          "output_type": "display_data",
          "data": {
            "text/plain": [
              "<Figure size 432x288 with 1 Axes>"
            ],
            "image/png": "[encoded data removed]"
          },
          "metadata": {
            "needs_background": "light"
          }
        }
      ]
    },
    {
      "cell_type": "markdown",
      "source": [
        "#### ROC와 AUC\n",
        "\n",
        "**ROC 곡선** : 여러 임계값에서 분류기의 특성을 분석하는 데 널리 사용하는 도구\n",
        "\n",
        "- 분류기의 모든 임계값을 고려\n",
        "\n",
        "- 정밀도와 재현율 대신 **진짜 양성 비율(TPR)**에 대한 **거짓 양성 비율(FPR)**을 나타냄\n",
        "\n",
        "  - 진짜 양성 비율 = 재현율\n",
        "\n",
        "  - 거짓 양성 비율 : 전체 음성 샘플 중에서 거짓 양성으로 잘못 분류한 비율\n",
        "\n",
        "<img src = \"https://miro.medium.com/max/506/1*YHYVVN_lu4_fhtGYyziC1w.png\">"
      ],
      "metadata": {
        "id": "ruYX3s7Jt7Yn"
      }
    },
    {
      "cell_type": "code",
      "source": [
        "# SVM의 ROC 곡선\n",
        "from sklearn.metrics import roc_curve\n",
        "fpr, tpr, thresholds = roc_curve(y_test, svc.decision_function(X_test))\n",
        "\n",
        "plt.plot(fpr, tpr, label = \"ROC curve\")\n",
        "plt.xlabel(\"FPR\")\n",
        "plt.ylabel(\"TPR (recall)\")\n",
        "# 0 근처의 임계값 찾기\n",
        "close_zero = np.argmin(np.abs(thresholds))\n",
        "plt.plot(fpr[close_zero], tpr[close_zero], 'o', markersize = 10, label = \"thresholds 0\", fillstyle = \"none\", c = 'k', mew = 2)\n",
        "plt.legend(loc = 4)\n",
        "plt.show()"
      ],
      "metadata": {
        "colab": {
          "base_uri": "https://localhost:8080/",
          "height": 279
        },
        "id": "wqQVjcxst1-u",
        "outputId": "1ca6a372-3e07-47c8-a086-3ff2beeeb9d6"
      },
      "execution_count": 77,
      "outputs": [
        {
          "output_type": "display_data",
          "data": {
            "text/plain": [
              "<Figure size 432x288 with 1 Axes>"
            ],
            "image/png": "[encoded data removed]"
          },
          "metadata": {
            "needs_background": "light"
          }
        }
      ]
    },
    {
      "cell_type": "markdown",
      "source": [
        "**그래프 분석**\n",
        "\n",
        "- ROC 곡선은 왼쪽 위에 가까울수록 이상적\n",
        "\n",
        "- 거짓 양성 비율(FPR)이 낮게 유지되면 재현율이 높은 분류기가 좋은 것임\n",
        "\n",
        "- 기본 임계값 0의 지점과 비교했을 때, FPR을 조금 늘리면 재현율을 아주 크게 높일 수 있음(0.9 부근)\n",
        "\n",
        "- 왼쪽 위에 가장 가까운 지점이 더 좋은 운영 포인트"
      ],
      "metadata": {
        "id": "xDhTg4mZxFLj"
      }
    },
    {
      "cell_type": "code",
      "source": [
        "# SVM과 랜덤 포레스트의 ROC 곡선 비교\n",
        "from sklearn.metrics import roc_curve\n",
        "fpr_rf, tpr_rf, thresholds_rf = roc_curve(y_test, rf.predict_proba(X_test)[:, 1])\n",
        "\n",
        "plt.plot(fpr, tpr, label = \"ROC curve of SVC\")\n",
        "plt.plot(fpr_rf, tpr_rf, label = \"ROC curve of RF\")\n",
        "\n",
        "plt.xlabel(\"FPR\")\n",
        "plt.ylabel(\"TPR(recall\")\n",
        "plt.plot(fpr[close_zero], tpr[close_zero], 'o', markersize = 10, label = \"SVC thresholds 0\", fillstyle = \"none\", c = 'k', mew = 2)\n",
        "close_default_rf = np.argmin(np.abs(thresholds_rf - 0.5))\n",
        "plt.plot(fpr_rf[close_default_rf], tpr[close_default_rf], '^', markersize = 10, label = \"RF thresholds 0.5\", fillstyle = \"none\", c = 'k', mew = 2)\n",
        "plt.legend(loc = 4)\n",
        "plt.show()"
      ],
      "metadata": {
        "colab": {
          "base_uri": "https://localhost:8080/",
          "height": 279
        },
        "id": "M7TaOu6Jwarz",
        "outputId": "75974591-3de2-4a5f-fc9c-a5d3117059eb"
      },
      "execution_count": 78,
      "outputs": [
        {
          "output_type": "display_data",
          "data": {
            "text/plain": [
              "<Figure size 432x288 with 1 Axes>"
            ],
            "image/png": "[encoded data removed]"
          },
          "metadata": {
            "needs_background": "light"
          }
        }
      ]
    },
    {
      "cell_type": "code",
      "source": [
        "# 곡선 아래의 면적값 하나로 ROC 곡선을 요약\n",
        "# AUC(area under the curve) : 곡선 아래의 면적\n",
        "from sklearn.metrics import roc_auc_score\n",
        "rf_auc = roc_auc_score(y_test, rf.predict_proba(X_test)[:, 1])\n",
        "svc_auc = roc_auc_score(y_test, svc.decision_function(X_test))\n",
        "print(\"랜덤 포레스트의 AUC: {:.3f}\".format(rf_auc))\n",
        "print(\"SVC의 AUC: {:.3f}\".format(svc_auc))"
      ],
      "metadata": {
        "colab": {
          "base_uri": "https://localhost:8080/"
        },
        "id": "pzoNgc_uyx29",
        "outputId": "5531ff31-f34e-4ad7-b563-e0ce52c2fd16"
      },
      "execution_count": 79,
      "outputs": [
        {
          "output_type": "stream",
          "name": "stdout",
          "text": [
            "랜덤 포레스트의 AUC: 0.937\n",
            "SVC의 AUC: 0.916\n"
          ]
        }
      ]
    },
    {
      "cell_type": "markdown",
      "source": [
        "**AUC 특징**\n",
        "\n",
        "- 0과 1 사이의 곡선 아래 면적이므로 항상 0(최악)과 1(최선) 사이의 값을 갖는다.\n",
        "\n",
        "- 데이터셋에 담긴 클래스가 아무리 불균형하더라도 무작위로 예측한 AUC 값은 0.5가 된다.<br>\n",
        "&rarr; 불균형 데이터셋에서는 정확도보다 AUC가 훨씬 좋은 지표임\n",
        "\n",
        "- 양성 샘플의 순위를 평가하는 것 = 무작위로 선택한 양성 클래스 포인트의 점수가 무작위로 선택한 음성 클래스 포인트의 점수보다 높을 확률과 같음\n",
        "\n",
        "    if ) AUC = 1, 모든 양성 포인트 점수가 무든 음성 포인트의 점수보다 높음"
      ],
      "metadata": {
        "id": "NlJ3LLHb0vMw"
      }
    },
    {
      "cell_type": "markdown",
      "source": [
        "***NOTE_ RocCurveDisplay***\n",
        "\n",
        "- ROC 곡선을 그리는 클래스\n",
        "\n",
        "- 추정기 객체를 사용하는 from_estimator 함수와 예측 결과를 사용하는 from_predictions 함수를 제공"
      ],
      "metadata": {
        "id": "7KckSpTm3gfv"
      }
    },
    {
      "cell_type": "code",
      "source": [
        "# from_estimator 함수 사용\n",
        "from sklearn.metrics import RocCurveDisplay\n",
        "\n",
        "fig, ax = plt.subplots()\n",
        "# SVC 곡선 그리기\n",
        "RocCurveDisplay.from_estimator(svc, X_test, y_test, ax = ax)\n",
        "# 랜덤 포레스트 곡선 그리기\n",
        "RocCurveDisplay.from_estimator(rf, X_test, y_test, ax = ax)\n",
        "plt.show()"
      ],
      "metadata": {
        "colab": {
          "base_uri": "https://localhost:8080/",
          "height": 279
        },
        "id": "PnmeRNtfz5R3",
        "outputId": "f2f1fe7f-928d-4b8d-ecd9-cb202fed22a2"
      },
      "execution_count": 80,
      "outputs": [
        {
          "output_type": "display_data",
          "data": {
            "text/plain": [
              "<Figure size 432x288 with 1 Axes>"
            ],
            "image/png": "[encoded data removed]"
          },
          "metadata": {
            "needs_background": "light"
          }
        }
      ]
    },
    {
      "cell_type": "code",
      "source": [
        "# from_predictions 함수 사용\n",
        "fig, ax = plt.subplots()\n",
        "# SVC 곡선 그리기\n",
        "RocCurveDisplay.from_predictions(y_test, svc.decision_function(X_test), name = 'SVC', ax = ax)\n",
        "# 랜덤 포레스트 곡선 그리기\n",
        "RocCurveDisplay.from_predictions(y_test, rf.predict_proba(X_test)[:, 1], name = 'Random Forest', ax = ax)\n",
        "plt.show()"
      ],
      "metadata": {
        "colab": {
          "base_uri": "https://localhost:8080/",
          "height": 279
        },
        "id": "S8bxUBIS4YFI",
        "outputId": "a04ef448-0db5-4221-9030-2134b4ba5d2a"
      },
      "execution_count": 81,
      "outputs": [
        {
          "output_type": "display_data",
          "data": {
            "text/plain": [
              "<Figure size 432x288 with 1 Axes>"
            ],
            "image/png": "[encoded data removed]"
          },
          "metadata": {
            "needs_background": "light"
          }
        }
      ]
    },
    {
      "cell_type": "code",
      "source": [
        "# 각기 다른 gamma를 가진 SVM의 ROC 곡선 비교\n",
        "y = digits.target == 9\n",
        "\n",
        "X_train, X_test, y_train, y_test = train_test_split(digits.data, y, random_state = 0)\n",
        "\n",
        "plt.figure()\n",
        "\n",
        "for gamma in [1, 0.1, 0.01]:\n",
        "  svc = SVC(gamma = gamma).fit(X_train, y_train)\n",
        "  accuracy = svc.score(X_test, y_test)\n",
        "  auc = roc_auc_score(y_test, svc.decision_function(X_test))\n",
        "  fpr, tpr, _ = roc_curve(y_test, svc.decision_function(X_test))\n",
        "  print(\"gamma = {:.2f} accuracy = {:.2f} AUC = {:.2f}\".format(gamma, accuracy, auc))\n",
        "  plt.plot(fpr, tpr, label = \"gamma = {:.2f}\".format(gamma))\n",
        "plt.xlabel(\"FPR\")\n",
        "plt.ylabel(\"TPR\")\n",
        "plt.xlim(-0.01, 1)\n",
        "plt.ylim(0, 1.02)\n",
        "plt.legend(loc = \"best\")\n",
        "plt.show()"
      ],
      "metadata": {
        "colab": {
          "base_uri": "https://localhost:8080/",
          "height": 333
        },
        "id": "jJKEPg8p5ArR",
        "outputId": "65922fcd-ab3f-4297-9307-46814c48aad6"
      },
      "execution_count": 82,
      "outputs": [
        {
          "output_type": "stream",
          "name": "stdout",
          "text": [
            "gamma = 1.00 accuracy = 0.90 AUC = 0.50\n",
            "gamma = 0.10 accuracy = 0.90 AUC = 0.96\n",
            "gamma = 0.01 accuracy = 0.90 AUC = 1.00\n"
          ]
        },
        {
          "output_type": "display_data",
          "data": {
            "text/plain": [
              "<Figure size 432x288 with 1 Axes>"
            ],
            "image/png": "[encoded data removed]"
          },
          "metadata": {
            "needs_background": "light"
          }
        }
      ]
    },
    {
      "cell_type": "markdown",
      "source": [
        "**그래프 분석**\n",
        "\n",
        "- gamma = 1.0 : AUC는 무작위로 선택한 수준\n",
        "\n",
        "- gamma = 0.1 : AUC 값이 0.96으로 크게 향상되었음\n",
        "\n",
        "- gamma = 0.01 : AUC 값이 1이며 모든 양성 포인트는 어떤 음성 포인트보다 더 높은 점수를 갖는다.<br>\n",
        "  = 데이터를 완벽하게 분류할 수 있음, 임계값을 조정해서 아주 높은 예측 성능을 얻을 수 있음"
      ],
      "metadata": {
        "id": "NkvngAe07Ly4"
      }
    },
    {
      "cell_type": "markdown",
      "source": [
        "### 5.3.3 다중 분류의 평가 지표\n",
        "\n",
        "다중 분류를 위한 지표는 모두 이진 분류 평가 지표에서 유도되었으며, 다만 모든 클래스에 대해 평균을 낸 것이다.\n",
        "\n",
        "- 다중 분류의 정확도 = 분류된 샘플의 비율\n",
        "\n",
        "- 정확도 외에 오차 행렬, 분류 리포트도 사용"
      ],
      "metadata": {
        "id": "JHm2mPky73R6"
      }
    },
    {
      "cell_type": "code",
      "source": [
        "# 오차 행렬 출력\n",
        "# 각 행은 정답 레이블에 해당하며 열은 예측 레이블에 해당\n",
        "from sklearn.metrics import accuracy_score\n",
        "X_train, X_test, y_train, y_test = train_test_split(digits.data, digits.target, random_state = 0)\n",
        "lr = LogisticRegression(max_iter = 5000).fit(X_train, y_train)\n",
        "pred = lr.predict(X_test)\n",
        "print(\"Accuracy: {:.3f}\".format(accuracy_score(y_test, pred)))\n",
        "print(\"Confusion_matrix:\\n\", confusion_matrix(y_test, pred))"
      ],
      "metadata": {
        "colab": {
          "base_uri": "https://localhost:8080/"
        },
        "id": "d8vllom36JN2",
        "outputId": "c05e334e-f441-481b-a14f-bf681744a20f"
      },
      "execution_count": 83,
      "outputs": [
        {
          "output_type": "stream",
          "name": "stdout",
          "text": [
            "Accuracy: 0.953\n",
            "Confusion_matrix:\n",
            " [[37  0  0  0  0  0  0  0  0  0]\n",
            " [ 0 40  0  0  0  0  0  0  2  1]\n",
            " [ 0  0 41  3  0  0  0  0  0  0]\n",
            " [ 0  0  0 44  0  0  0  0  1  0]\n",
            " [ 0  0  0  0 37  0  0  1  0  0]\n",
            " [ 0  0  0  0  0 46  0  0  0  2]\n",
            " [ 0  1  0  0  0  0 51  0  0  0]\n",
            " [ 0  0  0  1  1  0  0 46  0  0]\n",
            " [ 0  3  1  0  0  0  1  0 43  0]\n",
            " [ 0  0  0  0  0  1  0  0  2 44]]\n"
          ]
        }
      ]
    },
    {
      "cell_type": "code",
      "source": [
        "# 10개 숫자 분류 문제의 오차 행렬\n",
        "scores_image = mglearn.tools.heatmap(confusion_matrix(y_test, pred), xlabel = 'predict label', \n",
        "                                     ylabel = 'True label', xticklabels = digits.target_names, \n",
        "                                     yticklabels = digits.target_names, cmap = plt.cm.gray_r, fmt = \"%d\")\n",
        "plt.title(\"Confusion matrix\")\n",
        "plt.gca().invert_yaxis()"
      ],
      "metadata": {
        "colab": {
          "base_uri": "https://localhost:8080/",
          "height": 295
        },
        "id": "_AqYFpkO88DE",
        "outputId": "20d6ff8e-898d-40e0-cbe1-fb042a021761"
      },
      "execution_count": 84,
      "outputs": [
        {
          "output_type": "display_data",
          "data": {
            "text/plain": [
              "<Figure size 432x288 with 1 Axes>"
            ],
            "image/png": "[encoded data removed]"
          },
          "metadata": {
            "needs_background": "light"
          }
        }
      ]
    },
    {
      "cell_type": "code",
      "source": [
        "# classification_report 함수를 사용해서 정밀도, 재현율, f1-점수를 계산\n",
        "print(classification_report(y_test, pred))"
      ],
      "metadata": {
        "colab": {
          "base_uri": "https://localhost:8080/"
        },
        "id": "mY9uUwk7-POP",
        "outputId": "43888ea6-e7e3-41d2-ef9b-26af40c2b047"
      },
      "execution_count": 85,
      "outputs": [
        {
          "output_type": "stream",
          "name": "stdout",
          "text": [
            "              precision    recall  f1-score   support\n",
            "\n",
            "           0       1.00      1.00      1.00        37\n",
            "           1       0.91      0.93      0.92        43\n",
            "           2       0.98      0.93      0.95        44\n",
            "           3       0.92      0.98      0.95        45\n",
            "           4       0.97      0.97      0.97        38\n",
            "           5       0.98      0.96      0.97        48\n",
            "           6       0.98      0.98      0.98        52\n",
            "           7       0.98      0.96      0.97        48\n",
            "           8       0.90      0.90      0.90        48\n",
            "           9       0.94      0.94      0.94        47\n",
            "\n",
            "    accuracy                           0.95       450\n",
            "   macro avg       0.95      0.95      0.95       450\n",
            "weighted avg       0.95      0.95      0.95       450\n",
            "\n"
          ]
        }
      ]
    },
    {
      "cell_type": "markdown",
      "source": [
        "**다중 분류에서 불균형 데이터셋을 위해 가장 널리 사용하는 평가 지표는 f1-점수의 다중 분류 버전이다**\n",
        "\n",
        "1) 다중 클래스용 f1-점수는 한 클래스를 양성 클래스로 두고 나머지 클래스들을 음성 클래스로 간주하여 클래스마다 f1-점수를 계산\n",
        "\n",
        "2) 클래스별 f1-점수를 다음 전략 중 하나를 사용하여 평균을 냄\n",
        "\n",
        "- 'macro' 평균은 클래스별 f1-점수에 가중치를 주지 않습니다. 클래스 크기에 상관없이 모든 클래스를 같은 비중으로 다룸\n",
        "\n",
        "- 'weighted' 평균은 클래스별 샘플 수로 가중치를 두어 f1-점수의 평균을 계산\n",
        "\n",
        "- 'micro' 평균은 모든 클래스의 거짓 양성(FP), 거짓 음성(FN), 진짜 양성(TP)의 총 수를 헤아린 다음 정밀도, 재현율, f1-점수를 이 수치로 계산"
      ],
      "metadata": {
        "id": "WOogf6V-_KOc"
      }
    },
    {
      "cell_type": "code",
      "source": [
        "print(\"micro 평균 f1 점수: {:.3f}\".format(f1_score(y_test, pred, average = \"micro\")))\n",
        "print(\"macro 평균 f1 점수: {:.3f}\".format(f1_score(y_test, pred, average = \"macro\")))"
      ],
      "metadata": {
        "colab": {
          "base_uri": "https://localhost:8080/"
        },
        "id": "EYgQO7aZ-okW",
        "outputId": "b524b71e-3a3f-4fe8-e499-c855ffbf5bb2"
      },
      "execution_count": 86,
      "outputs": [
        {
          "output_type": "stream",
          "name": "stdout",
          "text": [
            "micro 평균 f1 점수: 0.953\n",
            "macro 평균 f1 점수: 0.954\n"
          ]
        }
      ]
    },
    {
      "cell_type": "markdown",
      "source": [
        "### 5.3.4 회귀의 평가 지표\n",
        "\n",
        "회귀 평가는 분류에서와 비슷하게 할 수 있다.\n",
        "\n",
        "- 타깃을 과대 예측한 것 대비 과소 예측한 것을 분석\n",
        "\n",
        "- 대부분은 score 메서드에서 이용하는 R^2만으로 충분함\n",
        "\n",
        "- 가끔 평균 제곱 에러나 평균 절댓값 에러를 사용하여 모델을 튜닝하여 비지니스 결정을 할 수 있음(일반적으로는 R^2가 더 나음)"
      ],
      "metadata": {
        "id": "g3oMfgmnDLB6"
      }
    },
    {
      "cell_type": "markdown",
      "source": [
        "### 5.3.5 모델 선택에서 평가 지표 사용하기\n",
        "\n",
        "GridSearchCV나 cross_val_score를 사용하여 모델 선택 + AUC 같은 평가 지표를 사용\n",
        "\n",
        "*&rarr; GridSearchCV 와 cross_val_score의 scoring 매개변수를 통해 구현*"
      ],
      "metadata": {
        "id": "YPCbamhrDzzR"
      }
    },
    {
      "cell_type": "code",
      "source": [
        "# 분류의 기본 평가 지표 -> 정확도\n",
        "print(\"기본 평가 지표:\", cross_val_score(SVC(), digits.data, digits.target == 9, cv=5))\n",
        "# scoring=\"accuracy\"의 결과와 동일\n",
        "explicit_accuracy =  cross_val_score(SVC(), digits.data, digits.target == 9, scoring=\"accuracy\", cv=5)\n",
        "print(\"정확도 지표:\", explicit_accuracy)\n",
        "ap =  cross_val_score(SVC(), digits.data, digits.target == 9, scoring=\"average_precision\", cv=5)\n",
        "print(\"평균 정밀도 지표:\", ap)"
      ],
      "metadata": {
        "colab": {
          "base_uri": "https://localhost:8080/"
        },
        "id": "2lJcAljiDG5Y",
        "outputId": "3ca8e71a-faf2-423a-aada-7d91737277ab"
      },
      "execution_count": 87,
      "outputs": [
        {
          "output_type": "stream",
          "name": "stdout",
          "text": [
            "기본 평가 지표: [0.975      0.99166667 1.         0.99442897 0.98050139]\n",
            "정확도 지표: [0.975      0.99166667 1.         0.99442897 0.98050139]\n",
            "평균 정밀도 지표: [0.97562403 0.9886322  1.         0.99853801 0.95015534]\n"
          ]
        }
      ]
    },
    {
      "cell_type": "code",
      "source": [
        "# cross_validate : 한번에 계산 가능\n",
        "res = cross_validate(SVC(), digits.data, digits.target == 9, scoring=[\"accuracy\", \"average_precision\", \"recall_macro\"], return_train_score=True, cv=5)\n",
        "pd.DataFrame(res)"
      ],
      "metadata": {
        "colab": {
          "base_uri": "https://localhost:8080/",
          "height": 206
        },
        "id": "cEWF-ju6FKkE",
        "outputId": "23f50167-8b8f-423b-8b53-4d9dd12ae503"
      },
      "execution_count": 88,
      "outputs": [
        {
          "output_type": "execute_result",
          "data": {
            "text/plain": [
              "   fit_time  score_time  test_accuracy  train_accuracy  \\\n",
              "0  0.017069    0.012423       0.975000        0.994433   \n",
              "1  0.016125    0.011720       0.991667        0.995825   \n",
              "2  0.017269    0.012418       1.000000        0.995132   \n",
              "3  0.017814    0.012774       0.994429        0.995828   \n",
              "4  0.018141    0.012158       0.980501        0.996523   \n",
              "\n",
              "   test_average_precision  train_average_precision  test_recall_macro  \\\n",
              "0                0.975624                 0.994997           0.887346   \n",
              "1                0.988632                 0.996010           0.958333   \n",
              "2                1.000000                 0.995317           1.000000   \n",
              "3                0.998538                 0.995257           0.972222   \n",
              "4                0.950155                 0.999257           0.902778   \n",
              "\n",
              "   train_recall_macro  \n",
              "0            0.972222  \n",
              "1            0.982252  \n",
              "2            0.978780  \n",
              "3            0.982252  \n",
              "4            0.985725  "
            ],
            "text/html": [
              "\n",
              "  <div id=\"df-d2b9eaf2-a780-47a3-8d21-5e7dc4411efb\">\n",
              "    <div class=\"colab-df-container\">\n",
              "      <div>\n",
              "<style scoped>\n",
              "    .dataframe tbody tr th:only-of-type {\n",
              "        vertical-align: middle;\n",
              "    }\n",
              "\n",
              "    .dataframe tbody tr th {\n",
              "        vertical-align: top;\n",
              "    }\n",
              "\n",
              "    .dataframe thead th {\n",
              "        text-align: right;\n",
              "    }\n",
              "</style>\n",
              "<table border=\"1\" class=\"dataframe\">\n",
              "  <thead>\n",
              "    <tr style=\"text-align: right;\">\n",
              "      <th></th>\n",
              "      <th>fit_time</th>\n",
              "      <th>score_time</th>\n",
              "      <th>test_accuracy</th>\n",
              "      <th>train_accuracy</th>\n",
              "      <th>test_average_precision</th>\n",
              "      <th>train_average_precision</th>\n",
              "      <th>test_recall_macro</th>\n",
              "      <th>train_recall_macro</th>\n",
              "    </tr>\n",
              "  </thead>\n",
              "  <tbody>\n",
              "    <tr>\n",
              "      <th>0</th>\n",
              "      <td>0.017069</td>\n",
              "      <td>0.012423</td>\n",
              "      <td>0.975000</td>\n",
              "      <td>0.994433</td>\n",
              "      <td>0.975624</td>\n",
              "      <td>0.994997</td>\n",
              "      <td>0.887346</td>\n",
              "      <td>0.972222</td>\n",
              "    </tr>\n",
              "    <tr>\n",
              "      <th>1</th>\n",
              "      <td>0.016125</td>\n",
              "      <td>0.011720</td>\n",
              "      <td>0.991667</td>\n",
              "      <td>0.995825</td>\n",
              "      <td>0.988632</td>\n",
              "      <td>0.996010</td>\n",
              "      <td>0.958333</td>\n",
              "      <td>0.982252</td>\n",
              "    </tr>\n",
              "    <tr>\n",
              "      <th>2</th>\n",
              "      <td>0.017269</td>\n",
              "      <td>0.012418</td>\n",
              "      <td>1.000000</td>\n",
              "      <td>0.995132</td>\n",
              "      <td>1.000000</td>\n",
              "      <td>0.995317</td>\n",
              "      <td>1.000000</td>\n",
              "      <td>0.978780</td>\n",
              "    </tr>\n",
              "    <tr>\n",
              "      <th>3</th>\n",
              "      <td>0.017814</td>\n",
              "      <td>0.012774</td>\n",
              "      <td>0.994429</td>\n",
              "      <td>0.995828</td>\n",
              "      <td>0.998538</td>\n",
              "      <td>0.995257</td>\n",
              "      <td>0.972222</td>\n",
              "      <td>0.982252</td>\n",
              "    </tr>\n",
              "    <tr>\n",
              "      <th>4</th>\n",
              "      <td>0.018141</td>\n",
              "      <td>0.012158</td>\n",
              "      <td>0.980501</td>\n",
              "      <td>0.996523</td>\n",
              "      <td>0.950155</td>\n",
              "      <td>0.999257</td>\n",
              "      <td>0.902778</td>\n",
              "      <td>0.985725</td>\n",
              "    </tr>\n",
              "  </tbody>\n",
              "</table>\n",
              "</div>\n",
              "      <button class=\"colab-df-convert\" onclick=\"convertToInteractive('df-d2b9eaf2-a780-47a3-8d21-5e7dc4411efb')\"\n",
              "              title=\"Convert this dataframe to an interactive table.\"\n",
              "              style=\"display:none;\">\n",
              "        \n",
              "  <svg xmlns=\"http://www.w3.org/2000/svg\" height=\"24px\"viewBox=\"0 0 24 24\"\n",
              "       width=\"24px\">\n",
              "    <path d=\"M0 0h24v24H0V0z\" fill=\"none\"/>\n",
              "    <path d=\"M18.56 5.44l.94 2.06.94-2.06 2.06-.94-2.06-.94-.94-2.06-.94 2.06-2.06.94zm-11 1L8.5 8.5l.94-2.06 2.06-.94-2.06-.94L8.5 2.5l-.94 2.06-2.06.94zm10 10l.94 2.06.94-2.06 2.06-.94-2.06-.94-.94-2.06-.94 2.06-2.06.94z\"/><path d=\"M17.41 7.96l-1.37-1.37c-.4-.4-.92-.59-1.43-.59-.52 0-1.04.2-1.43.59L10.3 9.45l-7.72 7.72c-.78.78-.78 2.05 0 2.83L4 21.41c.39.39.9.59 1.41.59.51 0 1.02-.2 1.41-.59l7.78-7.78 2.81-2.81c.8-.78.8-2.07 0-2.86zM5.41 20L4 18.59l7.72-7.72 1.47 1.35L5.41 20z\"/>\n",
              "  </svg>\n",
              "      </button>\n",
              "      \n",
              "  <style>\n",
              "    .colab-df-container {\n",
              "      display:flex;\n",
              "      flex-wrap:wrap;\n",
              "      gap: 12px;\n",
              "    }\n",
              "\n",
              "    .colab-df-convert {\n",
              "      background-color: #E8F0FE;\n",
              "      border: none;\n",
              "      border-radius: 50%;\n",
              "      cursor: pointer;\n",
              "      display: none;\n",
              "      fill: #1967D2;\n",
              "      height: 32px;\n",
              "      padding: 0 0 0 0;\n",
              "      width: 32px;\n",
              "    }\n",
              "\n",
              "    .colab-df-convert:hover {\n",
              "      background-color: #E2EBFA;\n",
              "      box-shadow: 0px 1px 2px rgba(60, 64, 67, 0.3), 0px 1px 3px 1px rgba(60, 64, 67, 0.15);\n",
              "      fill: #174EA6;\n",
              "    }\n",
              "\n",
              "    [theme=dark] .colab-df-convert {\n",
              "      background-color: #3B4455;\n",
              "      fill: #D2E3FC;\n",
              "    }\n",
              "\n",
              "    [theme=dark] .colab-df-convert:hover {\n",
              "      background-color: #434B5C;\n",
              "      box-shadow: 0px 1px 3px 1px rgba(0, 0, 0, 0.15);\n",
              "      filter: drop-shadow(0px 1px 2px rgba(0, 0, 0, 0.3));\n",
              "      fill: #FFFFFF;\n",
              "    }\n",
              "  </style>\n",
              "\n",
              "      <script>\n",
              "        const buttonEl =\n",
              "          document.querySelector('#df-d2b9eaf2-a780-47a3-8d21-5e7dc4411efb button.colab-df-convert');\n",
              "        buttonEl.style.display =\n",
              "          google.colab.kernel.accessAllowed ? 'block' : 'none';\n",
              "\n",
              "        async function convertToInteractive(key) {\n",
              "          const element = document.querySelector('#df-d2b9eaf2-a780-47a3-8d21-5e7dc4411efb');\n",
              "          const dataTable =\n",
              "            await google.colab.kernel.invokeFunction('convertToInteractive',\n",
              "                                                     [key], {});\n",
              "          if (!dataTable) return;\n",
              "\n",
              "          const docLinkHtml = 'Like what you see? Visit the ' +\n",
              "            '<a target=\"_blank\" href=https://colab.research.google.com/notebooks/data_table.ipynb>data table notebook</a>'\n",
              "            + ' to learn more about interactive tables.';\n",
              "          element.innerHTML = '';\n",
              "          dataTable['output_type'] = 'display_data';\n",
              "          await google.colab.output.renderOutput(dataTable, element);\n",
              "          const docLink = document.createElement('div');\n",
              "          docLink.innerHTML = docLinkHtml;\n",
              "          element.appendChild(docLink);\n",
              "        }\n",
              "      </script>\n",
              "    </div>\n",
              "  </div>\n",
              "  "
            ]
          },
          "metadata": {},
          "execution_count": 88
        }
      ]
    },
    {
      "cell_type": "code",
      "source": [
        "# GridSearchCV에서 최적의 매개변수를 선택하기 위한 평가 지표를 바꿀 수 있음\n",
        "X_train, X_test, y_train, y_test = train_test_split(digits.data, digits.target == 9, random_state = 0)\n",
        "\n",
        "# 일부러 적절하지 않은 그리드르 형성\n",
        "param_grid = {'gamma' : [0.0001, 0.01, 0.1, 1, 10]}\n",
        "# 기본 정확도 측정 지표를 사용\n",
        "grid = GridSearchCV(SVC(), param_grid = param_grid, cv = 3)\n",
        "grid.fit(X_train, y_train)\n",
        "print(\"정확도 지표를 사용한 그리드 서치\")\n",
        "print(\"최적의 파라미터:\", grid.best_params_)\n",
        "print(\"최상의 교차 검증 점수(정확도)): {:.3f}\".format(grid.best_score_))\n",
        "print(\"테스트 세트 평균 정밀도: {:.3f}\".format(average_precision_score(y_test, grid.decision_function(X_test))))\n",
        "print(\"테스트 세트 정확도: {:.3f}\".format(grid.score(X_test, y_test)))"
      ],
      "metadata": {
        "colab": {
          "base_uri": "https://localhost:8080/"
        },
        "id": "wBO-P6maF8Eq",
        "outputId": "9647938d-6d32-4052-d37c-51fdf454c882"
      },
      "execution_count": 89,
      "outputs": [
        {
          "output_type": "stream",
          "name": "stdout",
          "text": [
            "정확도 지표를 사용한 그리드 서치\n",
            "최적의 파라미터: {'gamma': 0.0001}\n",
            "최상의 교차 검증 점수(정확도)): 0.972\n",
            "테스트 세트 평균 정밀도: 0.966\n",
            "테스트 세트 정확도: 0.973\n"
          ]
        }
      ]
    },
    {
      "cell_type": "code",
      "source": [
        "# 평균 정밀도 지표 사용\n",
        "grid = GridSearchCV(SVC(), param_grid = param_grid, scoring = \"average_precision\", cv = 3)\n",
        "grid.fit(X_train, y_train)\n",
        "print(\"평균 정밀도 지표를 사용한 그리드 서치\")\n",
        "print(\"최적의 파라미터:\", grid.best_params_)\n",
        "print(\"최상의 교차 검증 점수(평균 정밀도): {:.3f}\".format(grid.best_score_))\n",
        "print(\"테스트 세트 평균 정밀도: {:.3f}\".format(average_precision_score(y_test, grid.decision_function(X_test))))\n",
        "print(\"테스트 세트 정확도: {:.3f}\".format(grid.score(X_test, y_test)))"
      ],
      "metadata": {
        "colab": {
          "base_uri": "https://localhost:8080/"
        },
        "id": "euqBnacoJ4Wj",
        "outputId": "61c157f2-171b-449d-8e35-812906fc698c"
      },
      "execution_count": 90,
      "outputs": [
        {
          "output_type": "stream",
          "name": "stdout",
          "text": [
            "평균 정밀도 지표를 사용한 그리드 서치\n",
            "최적의 파라미터: {'gamma': 0.01}\n",
            "최상의 교차 검증 점수(평균 정밀도): 0.985\n",
            "테스트 세트 평균 정밀도: 0.996\n",
            "테스트 세트 정확도: 0.996\n"
          ]
        }
      ]
    },
    {
      "cell_type": "markdown",
      "source": [
        "- 정확도를 사용할 때는 gamma = 0.001이 선택\n",
        "\n",
        "  - 정확도를 최적화하기 위한 매개변수 사용 &rarr; 테스트 세트의 정확도가 더 높음\n",
        "\n",
        "- 평균 정밀도를 사용할 떄는 gamma = 0.01이 선택\n",
        "\n",
        "  - 평균 정밀도를 최적화하기 위한 매개변수 사용 &rarr; 테스트 세트의 평균 정밀도가 더 높음\n"
      ],
      "metadata": {
        "id": "1FeKqnmjK_EB"
      }
    },
    {
      "cell_type": "markdown",
      "source": [
        "**분류 문제**\n",
        "\n",
        "- scoring 매개변수의 중요한 옵션\n",
        "  \n",
        "  - accuracy(정확도)\n",
        "  \n",
        "  - ROC 곡선의 아래 면적인 roc_auc\n",
        "  \n",
        "  - 정확도-재현율 곡선의 아래 면적인 average_precision\n",
        "  \n",
        "  - 이진 f1-점수인 f1과 가중치 방식에 따라 f1_macro, f1_micro, f1_weighted\n",
        "\n",
        "**회귀 문제**\n",
        "\n",
        "- R^2 점수를 나타내는 r2\n",
        "\n",
        "- 평균 제곱 오차인 meg_mean_squared_error\n",
        "\n",
        "- 평균 절댓값 오차인 neg_mean_absolute_error"
      ],
      "metadata": {
        "id": "HUUHnVBqMPs0"
      }
    },
    {
      "cell_type": "markdown",
      "source": [
        "## 5.4 요약 및 정리"
      ],
      "metadata": {
        "id": "iHAujIIqM-NM"
      }
    },
    {
      "cell_type": "code",
      "source": [],
      "metadata": {
        "id": "z-9a3KQEKucz"
      },
      "execution_count": 90,
      "outputs": []
    }
  ]
}